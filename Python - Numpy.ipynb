{
 "cells": [
  {
   "cell_type": "code",
   "execution_count": 1,
   "metadata": {},
   "outputs": [],
   "source": [
    "import numpy as np"
   ]
  },
  {
   "cell_type": "code",
   "execution_count": 2,
   "metadata": {},
   "outputs": [
    {
     "data": {
      "text/plain": [
       "array([1, 2, 3])"
      ]
     },
     "execution_count": 2,
     "metadata": {},
     "output_type": "execute_result"
    }
   ],
   "source": [
    "a = np.array([1, 2, 3])\n",
    "a"
   ]
  },
  {
   "cell_type": "code",
   "execution_count": 3,
   "metadata": {},
   "outputs": [
    {
     "data": {
      "text/plain": [
       "numpy.ndarray"
      ]
     },
     "execution_count": 3,
     "metadata": {},
     "output_type": "execute_result"
    }
   ],
   "source": [
    "type(a)"
   ]
  },
  {
   "cell_type": "code",
   "execution_count": 4,
   "metadata": {},
   "outputs": [
    {
     "data": {
      "text/plain": [
       "1"
      ]
     },
     "execution_count": 4,
     "metadata": {},
     "output_type": "execute_result"
    }
   ],
   "source": [
    "a.ndim"
   ]
  },
  {
   "cell_type": "code",
   "execution_count": 8,
   "metadata": {},
   "outputs": [
    {
     "data": {
      "text/plain": [
       "array([[[1.5, 2. , 3. ],\n",
       "        [4. , 5. , 6. ]],\n",
       "\n",
       "       [[3. , 2. , 1. ],\n",
       "        [4. , 5. , 6. ]]])"
      ]
     },
     "execution_count": 8,
     "metadata": {},
     "output_type": "execute_result"
    }
   ],
   "source": [
    "c = np.array([[(1.5,2,3), (4,5,6)], [(3,2,1), (4,5,6)]],\n",
    " dtype = float)\n",
    "c"
   ]
  },
  {
   "cell_type": "code",
   "execution_count": 9,
   "metadata": {},
   "outputs": [
    {
     "data": {
      "text/plain": [
       "3"
      ]
     },
     "execution_count": 9,
     "metadata": {},
     "output_type": "execute_result"
    }
   ],
   "source": [
    "c.ndim"
   ]
  },
  {
   "cell_type": "code",
   "execution_count": 10,
   "metadata": {
    "scrolled": true
   },
   "outputs": [
    {
     "data": {
      "text/plain": [
       "numpy.ndarray"
      ]
     },
     "execution_count": 10,
     "metadata": {},
     "output_type": "execute_result"
    }
   ],
   "source": [
    "type(a)"
   ]
  },
  {
   "cell_type": "code",
   "execution_count": 11,
   "metadata": {},
   "outputs": [
    {
     "data": {
      "text/plain": [
       "array([3, 4, 5])"
      ]
     },
     "execution_count": 11,
     "metadata": {},
     "output_type": "execute_result"
    }
   ],
   "source": [
    "b = np.array((3, 4, 5))\n",
    "b"
   ]
  },
  {
   "cell_type": "code",
   "execution_count": 12,
   "metadata": {},
   "outputs": [
    {
     "data": {
      "text/plain": [
       "numpy.ndarray"
      ]
     },
     "execution_count": 12,
     "metadata": {},
     "output_type": "execute_result"
    }
   ],
   "source": [
    "type(b)"
   ]
  },
  {
   "cell_type": "code",
   "execution_count": 13,
   "metadata": {
    "scrolled": false
   },
   "outputs": [
    {
     "name": "stdout",
     "output_type": "stream",
     "text": [
      "[[[0. 0. 0. 0.]\n",
      "  [0. 0. 0. 0.]\n",
      "  [0. 0. 0. 0.]]\n",
      "\n",
      " [[0. 0. 0. 0.]\n",
      "  [0. 0. 0. 0.]\n",
      "  [0. 0. 0. 0.]]]\n"
     ]
    }
   ],
   "source": [
    "x = np.zeros((2,3,4))\n",
    "print(x)"
   ]
  },
  {
   "cell_type": "code",
   "execution_count": 14,
   "metadata": {},
   "outputs": [
    {
     "data": {
      "text/plain": [
       "array([0., 0., 0.])"
      ]
     },
     "execution_count": 14,
     "metadata": {},
     "output_type": "execute_result"
    }
   ],
   "source": [
    "np.zeros(3)"
   ]
  },
  {
   "cell_type": "code",
   "execution_count": 15,
   "metadata": {},
   "outputs": [
    {
     "name": "stdout",
     "output_type": "stream",
     "text": [
      "[[0. 0. 0. 0.]\n",
      " [0. 0. 0. 0.]\n",
      " [0. 0. 0. 0.]]\n"
     ]
    },
    {
     "data": {
      "text/plain": [
       "numpy.dtype"
      ]
     },
     "execution_count": 15,
     "metadata": {},
     "output_type": "execute_result"
    }
   ],
   "source": [
    "x = np.zeros((3,4))  \n",
    "print(x)\n",
    "type(x.dtype)\n"
   ]
  },
  {
   "cell_type": "code",
   "execution_count": 16,
   "metadata": {},
   "outputs": [
    {
     "data": {
      "text/plain": [
       "(3, 4)"
      ]
     },
     "execution_count": 16,
     "metadata": {},
     "output_type": "execute_result"
    }
   ],
   "source": [
    "x.shape"
   ]
  },
  {
   "cell_type": "code",
   "execution_count": 17,
   "metadata": {},
   "outputs": [
    {
     "data": {
      "text/plain": [
       "array([[1., 1., 1., 1.],\n",
       "       [1., 1., 1., 1.],\n",
       "       [1., 1., 1., 1.]])"
      ]
     },
     "execution_count": 17,
     "metadata": {},
     "output_type": "execute_result"
    }
   ],
   "source": [
    "y = np.ones( (3,4), dtype=np.float64 )  \n",
    "y"
   ]
  },
  {
   "cell_type": "code",
   "execution_count": 18,
   "metadata": {},
   "outputs": [
    {
     "name": "stdout",
     "output_type": "stream",
     "text": [
      "float64\n",
      "float64\n"
     ]
    }
   ],
   "source": [
    "print(x.dtype)\n",
    "print(y.dtype)"
   ]
  },
  {
   "cell_type": "code",
   "execution_count": 20,
   "metadata": {},
   "outputs": [
    {
     "data": {
      "text/plain": [
       "array([[1., 0., 0., 0.],\n",
       "       [0., 1., 0., 0.],\n",
       "       [0., 0., 1., 0.],\n",
       "       [0., 0., 0., 1.]])"
      ]
     },
     "execution_count": 20,
     "metadata": {},
     "output_type": "execute_result"
    }
   ],
   "source": [
    "f = np.eye(4)\n",
    "f"
   ]
  },
  {
   "cell_type": "code",
   "execution_count": 21,
   "metadata": {},
   "outputs": [
    {
     "data": {
      "text/plain": [
       "array([[0.11, 0.11, 0.11, 0.11],\n",
       "       [0.11, 0.11, 0.11, 0.11],\n",
       "       [0.11, 0.11, 0.11, 0.11]])"
      ]
     },
     "execution_count": 21,
     "metadata": {},
     "output_type": "execute_result"
    }
   ],
   "source": [
    "np.full( (3,4), 0.11)"
   ]
  },
  {
   "cell_type": "code",
   "execution_count": 22,
   "metadata": {
    "scrolled": false
   },
   "outputs": [
    {
     "data": {
      "text/plain": [
       "array([[3.14159265, 3.14159265, 3.14159265, 3.14159265],\n",
       "       [3.14159265, 3.14159265, 3.14159265, 3.14159265],\n",
       "       [3.14159265, 3.14159265, 3.14159265, 3.14159265]])"
      ]
     },
     "execution_count": 22,
     "metadata": {},
     "output_type": "execute_result"
    }
   ],
   "source": [
    "np.full( (3,4), np.pi )"
   ]
  },
  {
   "cell_type": "code",
   "execution_count": 23,
   "metadata": {},
   "outputs": [
    {
     "data": {
      "text/plain": [
       "array([10, 12, 14, 16, 18, 20, 22, 24, 26, 28])"
      ]
     },
     "execution_count": 23,
     "metadata": {},
     "output_type": "execute_result"
    }
   ],
   "source": [
    "np.arange( 10, 30, 2 )"
   ]
  },
  {
   "cell_type": "code",
   "execution_count": 24,
   "metadata": {},
   "outputs": [
    {
     "data": {
      "text/plain": [
       "array([[0., 0., 0., 0.],\n",
       "       [0., 0., 0., 0.],\n",
       "       [0., 0., 0., 0.]])"
      ]
     },
     "execution_count": 24,
     "metadata": {},
     "output_type": "execute_result"
    }
   ],
   "source": [
    "x"
   ]
  },
  {
   "cell_type": "code",
   "execution_count": 25,
   "metadata": {},
   "outputs": [
    {
     "name": "stdout",
     "output_type": "stream",
     "text": [
      "1.79 µs ± 106 ns per loop (mean ± std. dev. of 7 runs, 100000 loops each)\n"
     ]
    }
   ],
   "source": [
    "%timeit np.arange(1, 100, 0.1)"
   ]
  },
  {
   "cell_type": "code",
   "execution_count": 26,
   "metadata": {},
   "outputs": [
    {
     "data": {
      "text/plain": [
       "array([0. , 0.5, 1. , 1.5])"
      ]
     },
     "execution_count": 26,
     "metadata": {},
     "output_type": "execute_result"
    }
   ],
   "source": [
    "np.arange( 0, 2, 0.5 )"
   ]
  },
  {
   "cell_type": "code",
   "execution_count": 21,
   "metadata": {},
   "outputs": [
    {
     "data": {
      "text/plain": [
       "(4000,)"
      ]
     },
     "execution_count": 21,
     "metadata": {},
     "output_type": "execute_result"
    }
   ],
   "source": [
    "np.arange( 0, 20, 0.005 ).shape"
   ]
  },
  {
   "cell_type": "code",
   "execution_count": 27,
   "metadata": {},
   "outputs": [
    {
     "data": {
      "text/plain": [
       "array([[0., 0.],\n",
       "       [0., 0.],\n",
       "       [0., 0.]])"
      ]
     },
     "execution_count": 27,
     "metadata": {},
     "output_type": "execute_result"
    }
   ],
   "source": [
    " np.empty((3,2))"
   ]
  },
  {
   "cell_type": "code",
   "execution_count": 28,
   "metadata": {},
   "outputs": [
    {
     "name": "stdout",
     "output_type": "stream",
     "text": [
      "[[1 2 3 4]\n",
      " [1 2 2 2]]\n",
      "(2, 4)\n"
     ]
    }
   ],
   "source": [
    "x = [\n",
    "        [\n",
    "            1,2,3,4\n",
    "        ],\n",
    "        [\n",
    "            1,2,2,2\n",
    "        ]\n",
    "]\n",
    "x1 = np.array(x)\n",
    "print(x1)\n",
    "print(x1.shape)"
   ]
  },
  {
   "cell_type": "code",
   "execution_count": 29,
   "metadata": {},
   "outputs": [
    {
     "name": "stdout",
     "output_type": "stream",
     "text": [
      "[[[0.11 0.11 0.11 0.11]\n",
      "  [0.11 0.11 0.11 0.11]\n",
      "  [0.11 0.11 0.11 0.11]]\n",
      "\n",
      " [[0.11 0.11 0.11 0.11]\n",
      "  [0.11 0.11 0.11 0.11]\n",
      "  [0.11 0.11 0.11 0.11]]]\n"
     ]
    }
   ],
   "source": [
    "three_d_array = np.full((2,3,4), 0.11)\n",
    "print(three_d_array)"
   ]
  },
  {
   "cell_type": "code",
   "execution_count": 30,
   "metadata": {},
   "outputs": [
    {
     "data": {
      "text/plain": [
       "24"
      ]
     },
     "execution_count": 30,
     "metadata": {},
     "output_type": "execute_result"
    }
   ],
   "source": [
    "three_d_array.size"
   ]
  },
  {
   "cell_type": "code",
   "execution_count": 34,
   "metadata": {},
   "outputs": [
    {
     "data": {
      "text/plain": [
       "array([[0.11, 0.11, 0.11, 0.11, 0.11, 0.11],\n",
       "       [0.11, 0.11, 0.11, 0.11, 0.11, 0.11],\n",
       "       [0.11, 0.11, 0.11, 0.11, 0.11, 0.11],\n",
       "       [0.11, 0.11, 0.11, 0.11, 0.11, 0.11]])"
      ]
     },
     "execution_count": 34,
     "metadata": {},
     "output_type": "execute_result"
    }
   ],
   "source": [
    "three_d_array.reshape(-1, 6)"
   ]
  },
  {
   "cell_type": "code",
   "execution_count": 35,
   "metadata": {},
   "outputs": [
    {
     "data": {
      "text/plain": [
       "(2, 3, 4)"
      ]
     },
     "execution_count": 35,
     "metadata": {},
     "output_type": "execute_result"
    }
   ],
   "source": [
    "three_d_array.shape"
   ]
  },
  {
   "cell_type": "code",
   "execution_count": 36,
   "metadata": {},
   "outputs": [],
   "source": [
    "x = [\n",
    "        [\n",
    "            [1, 3],\n",
    "            [1, 3], \n",
    "            [1, 3],\n",
    "            [1, 3]\n",
    "        ],\n",
    "#         [\n",
    "#             [1, 3],\n",
    "#             [1, 3], \n",
    "#             [1, 3],\n",
    "#             [1, 3]\n",
    "#         ]\n",
    "]"
   ]
  },
  {
   "cell_type": "code",
   "execution_count": 37,
   "metadata": {},
   "outputs": [
    {
     "name": "stdout",
     "output_type": "stream",
     "text": [
      "(1, 4, 2)\n",
      "[[[1 3]\n",
      "  [1 3]\n",
      "  [1 3]\n",
      "  [1 3]]]\n"
     ]
    }
   ],
   "source": [
    "xx = np.array(x)\n",
    "print(xx.shape)\n",
    "print(xx)"
   ]
  },
  {
   "cell_type": "code",
   "execution_count": 38,
   "metadata": {},
   "outputs": [
    {
     "data": {
      "text/plain": [
       "array([ 0.,  5., 10.])"
      ]
     },
     "execution_count": 38,
     "metadata": {},
     "output_type": "execute_result"
    }
   ],
   "source": [
    "np.linspace(0, 10, 3)"
   ]
  },
  {
   "cell_type": "code",
   "execution_count": 39,
   "metadata": {},
   "outputs": [
    {
     "data": {
      "text/plain": [
       "array([ 0.        ,  0.20408163,  0.40816327,  0.6122449 ,  0.81632653,\n",
       "        1.02040816,  1.2244898 ,  1.42857143,  1.63265306,  1.83673469,\n",
       "        2.04081633,  2.24489796,  2.44897959,  2.65306122,  2.85714286,\n",
       "        3.06122449,  3.26530612,  3.46938776,  3.67346939,  3.87755102,\n",
       "        4.08163265,  4.28571429,  4.48979592,  4.69387755,  4.89795918,\n",
       "        5.10204082,  5.30612245,  5.51020408,  5.71428571,  5.91836735,\n",
       "        6.12244898,  6.32653061,  6.53061224,  6.73469388,  6.93877551,\n",
       "        7.14285714,  7.34693878,  7.55102041,  7.75510204,  7.95918367,\n",
       "        8.16326531,  8.36734694,  8.57142857,  8.7755102 ,  8.97959184,\n",
       "        9.18367347,  9.3877551 ,  9.59183673,  9.79591837, 10.        ])"
      ]
     },
     "execution_count": 39,
     "metadata": {},
     "output_type": "execute_result"
    }
   ],
   "source": [
    "np.linspace(0, 10, 50)"
   ]
  },
  {
   "cell_type": "code",
   "execution_count": 40,
   "metadata": {},
   "outputs": [
    {
     "data": {
      "text/plain": [
       "array([0.        , 0.33333333, 0.66666667, 1.        , 1.33333333,\n",
       "       1.66666667])"
      ]
     },
     "execution_count": 40,
     "metadata": {},
     "output_type": "execute_result"
    }
   ],
   "source": [
    "np.linspace(0, 5/3, 6)"
   ]
  },
  {
   "cell_type": "markdown",
   "metadata": {},
   "source": [
    "How many dimension are there in a dataset having list of pictures?\n",
    "    * First: # of pics\n",
    "    * Second: x axis\n",
    "    * Third: y axis\n",
    "    * Forth: r, g, b"
   ]
  },
  {
   "cell_type": "code",
   "execution_count": 41,
   "metadata": {},
   "outputs": [
    {
     "name": "stdout",
     "output_type": "stream",
     "text": [
      "[[0.81302609 0.91094965 0.47992738]\n",
      " [0.10927755 0.71638562 0.14552368]]\n"
     ]
    }
   ],
   "source": [
    "# Make a 2x3 matrix having random floats between 0 and 1:\n",
    "x = np.random.rand(2,3)\n",
    "print(x)"
   ]
  },
  {
   "cell_type": "code",
   "execution_count": 44,
   "metadata": {},
   "outputs": [
    {
     "data": {
      "text/plain": [
       "array([[0.81302609, 0.91094965, 0.47992738],\n",
       "       [0.10927755, 0.71638562, 0.14552368]])"
      ]
     },
     "execution_count": 44,
     "metadata": {},
     "output_type": "execute_result"
    }
   ],
   "source": [
    "x = np.empty((2,3))\n",
    "x"
   ]
  },
  {
   "cell_type": "code",
   "execution_count": 43,
   "metadata": {},
   "outputs": [
    {
     "data": {
      "text/plain": [
       "array([[0.81302609, 0.91094965, 0.47992738],\n",
       "       [0.10927755, 0.71638562, 0.14552368]])"
      ]
     },
     "execution_count": 43,
     "metadata": {},
     "output_type": "execute_result"
    }
   ],
   "source": [
    "x"
   ]
  },
  {
   "cell_type": "code",
   "execution_count": 45,
   "metadata": {},
   "outputs": [
    {
     "data": {
      "text/plain": [
       "2"
      ]
     },
     "execution_count": 45,
     "metadata": {},
     "output_type": "execute_result"
    }
   ],
   "source": [
    "x.ndim"
   ]
  },
  {
   "cell_type": "code",
   "execution_count": 46,
   "metadata": {
    "scrolled": true
   },
   "outputs": [
    {
     "data": {
      "text/plain": [
       "(2, 3)"
      ]
     },
     "execution_count": 46,
     "metadata": {},
     "output_type": "execute_result"
    }
   ],
   "source": [
    "x.shape"
   ]
  },
  {
   "cell_type": "code",
   "execution_count": 47,
   "metadata": {},
   "outputs": [
    {
     "data": {
      "text/plain": [
       "6"
      ]
     },
     "execution_count": 47,
     "metadata": {},
     "output_type": "execute_result"
    }
   ],
   "source": [
    "x.size\n"
   ]
  },
  {
   "cell_type": "code",
   "execution_count": 48,
   "metadata": {},
   "outputs": [
    {
     "data": {
      "text/plain": [
       "array([[0.81302609, 0.91094965, 0.47992738],\n",
       "       [0.10927755, 0.71638562, 0.14552368]])"
      ]
     },
     "execution_count": 48,
     "metadata": {},
     "output_type": "execute_result"
    }
   ],
   "source": [
    "x"
   ]
  },
  {
   "cell_type": "code",
   "execution_count": 49,
   "metadata": {},
   "outputs": [
    {
     "data": {
      "text/plain": [
       "array([0.81302609, 0.91094965, 0.47992738])"
      ]
     },
     "execution_count": 49,
     "metadata": {},
     "output_type": "execute_result"
    }
   ],
   "source": [
    "x[0]"
   ]
  },
  {
   "cell_type": "code",
   "execution_count": 50,
   "metadata": {},
   "outputs": [
    {
     "data": {
      "text/plain": [
       "array([0.10927755, 0.71638562, 0.14552368])"
      ]
     },
     "execution_count": 50,
     "metadata": {},
     "output_type": "execute_result"
    }
   ],
   "source": [
    "x[1]"
   ]
  },
  {
   "cell_type": "code",
   "execution_count": 51,
   "metadata": {},
   "outputs": [
    {
     "data": {
      "text/plain": [
       "0.10927755437646192"
      ]
     },
     "execution_count": 51,
     "metadata": {},
     "output_type": "execute_result"
    }
   ],
   "source": [
    "x[1][0]"
   ]
  },
  {
   "cell_type": "code",
   "execution_count": 52,
   "metadata": {},
   "outputs": [
    {
     "data": {
      "text/plain": [
       "0.10927755437646192"
      ]
     },
     "execution_count": 52,
     "metadata": {},
     "output_type": "execute_result"
    }
   ],
   "source": [
    "x[1,0]"
   ]
  },
  {
   "cell_type": "code",
   "execution_count": 53,
   "metadata": {},
   "outputs": [],
   "source": [
    "c = np.arange(1, 5)"
   ]
  },
  {
   "cell_type": "code",
   "execution_count": 54,
   "metadata": {},
   "outputs": [
    {
     "data": {
      "text/plain": [
       "array([1, 2, 3, 4])"
      ]
     },
     "execution_count": 54,
     "metadata": {},
     "output_type": "execute_result"
    }
   ],
   "source": [
    "c"
   ]
  },
  {
   "cell_type": "code",
   "execution_count": 55,
   "metadata": {},
   "outputs": [
    {
     "data": {
      "text/plain": [
       "dtype('int32')"
      ]
     },
     "execution_count": 55,
     "metadata": {},
     "output_type": "execute_result"
    }
   ],
   "source": [
    "c.dtype"
   ]
  },
  {
   "cell_type": "code",
   "execution_count": 56,
   "metadata": {},
   "outputs": [
    {
     "data": {
      "text/plain": [
       "4"
      ]
     },
     "execution_count": 56,
     "metadata": {},
     "output_type": "execute_result"
    }
   ],
   "source": [
    "c.itemsize"
   ]
  },
  {
   "cell_type": "code",
   "execution_count": 57,
   "metadata": {},
   "outputs": [
    {
     "name": "stdout",
     "output_type": "stream",
     "text": [
      "[0 1 2 3 4 5]\n"
     ]
    }
   ],
   "source": [
    "a = np.arange(6)\n",
    "print(a)"
   ]
  },
  {
   "cell_type": "code",
   "execution_count": 58,
   "metadata": {},
   "outputs": [
    {
     "name": "stdout",
     "output_type": "stream",
     "text": [
      "[[0 1]\n",
      " [2 3]\n",
      " [4 5]]\n"
     ]
    }
   ],
   "source": [
    "b = a.reshape(3,2)\n",
    "print(b)"
   ]
  },
  {
   "cell_type": "code",
   "execution_count": 59,
   "metadata": {},
   "outputs": [
    {
     "name": "stdout",
     "output_type": "stream",
     "text": [
      "[ 0  1  2  3  4  5  6  7  8  9 10 11 12 13 14 15 16 17 18 19 20 21 22 23]\n",
      "[[[ 0  1  2  3]\n",
      "  [ 4  5  6  7]\n",
      "  [ 8  9 10 11]]\n",
      "\n",
      " [[12 13 14 15]\n",
      "  [16 17 18 19]\n",
      "  [20 21 22 23]]]\n"
     ]
    }
   ],
   "source": [
    "a = np.arange(24)\n",
    "print(a)\n",
    "b = a.reshape(2,3,4)\n",
    "print(b)"
   ]
  },
  {
   "cell_type": "code",
   "execution_count": 62,
   "metadata": {},
   "outputs": [
    {
     "data": {
      "text/plain": [
       "array([ 0,  1,  2,  3,  4,  5,  6,  7,  8,  9, 10, 11, 12, 13, 14, 15, 16,\n",
       "       17, 18, 19, 20, 21, 22, 23])"
      ]
     },
     "execution_count": 62,
     "metadata": {},
     "output_type": "execute_result"
    }
   ],
   "source": [
    "b.reshape(24)"
   ]
  },
  {
   "cell_type": "code",
   "execution_count": 63,
   "metadata": {},
   "outputs": [],
   "source": [
    "# Create a 2x4 array filled with numbers between 0 to 2\n",
    "a = np.random.rand(2,4)*2"
   ]
  },
  {
   "cell_type": "code",
   "execution_count": 64,
   "metadata": {},
   "outputs": [
    {
     "data": {
      "text/plain": [
       "array([[1.21112407, 1.49885081, 1.14458119, 0.57117409],\n",
       "       [0.08213592, 1.4291749 , 1.40966803, 0.86359978]])"
      ]
     },
     "execution_count": 64,
     "metadata": {},
     "output_type": "execute_result"
    }
   ],
   "source": [
    "a"
   ]
  },
  {
   "cell_type": "code",
   "execution_count": 65,
   "metadata": {
    "scrolled": true
   },
   "outputs": [
    {
     "name": "stdout",
     "output_type": "stream",
     "text": [
      "[ 0  1  2  3  4  5  6  7  8  9 10 11 12 13 14 15 16 17 18 19 20 21 22 23\n",
      " 24 25 26 27 28 29 30 31 32 33 34 35 36 37 38 39 40 41 42 43 44 45 46 47\n",
      " 48 49]\n",
      "[[ 0  1  2  3  4  5  6  7  8  9]\n",
      " [10 11 12 13 14 15 16 17 18 19]\n",
      " [20 21 22 23 24 25 26 27 28 29]\n",
      " [30 31 32 33 34 35 36 37 38 39]\n",
      " [40 41 42 43 44 45 46 47 48 49]]\n"
     ]
    }
   ],
   "source": [
    "a = np.arange(50)\n",
    "print(a)\n",
    "print(a.reshape(-1, 10))"
   ]
  },
  {
   "cell_type": "code",
   "execution_count": 67,
   "metadata": {},
   "outputs": [],
   "source": [
    "np.RAISE?"
   ]
  },
  {
   "cell_type": "code",
   "execution_count": 55,
   "metadata": {},
   "outputs": [
    {
     "data": {
      "text/plain": [
       "['ALLOW_THREADS',\n",
       " 'AxisError',\n",
       " 'BUFSIZE',\n",
       " 'CLIP',\n",
       " 'ComplexWarning',\n",
       " 'DataSource',\n",
       " 'ERR_CALL',\n",
       " 'ERR_DEFAULT',\n",
       " 'ERR_IGNORE',\n",
       " 'ERR_LOG',\n",
       " 'ERR_PRINT',\n",
       " 'ERR_RAISE',\n",
       " 'ERR_WARN',\n",
       " 'FLOATING_POINT_SUPPORT',\n",
       " 'FPE_DIVIDEBYZERO',\n",
       " 'FPE_INVALID',\n",
       " 'FPE_OVERFLOW',\n",
       " 'FPE_UNDERFLOW',\n",
       " 'False_',\n",
       " 'Inf',\n",
       " 'Infinity',\n",
       " 'MAXDIMS',\n",
       " 'MAY_SHARE_BOUNDS',\n",
       " 'MAY_SHARE_EXACT',\n",
       " 'MachAr',\n",
       " 'ModuleDeprecationWarning',\n",
       " 'NAN',\n",
       " 'NINF',\n",
       " 'NZERO',\n",
       " 'NaN',\n",
       " 'PINF',\n",
       " 'PZERO',\n",
       " 'RAISE',\n",
       " 'RankWarning',\n",
       " 'SHIFT_DIVIDEBYZERO',\n",
       " 'SHIFT_INVALID',\n",
       " 'SHIFT_OVERFLOW',\n",
       " 'SHIFT_UNDERFLOW',\n",
       " 'ScalarType',\n",
       " 'Tester',\n",
       " 'TooHardError',\n",
       " 'True_',\n",
       " 'UFUNC_BUFSIZE_DEFAULT',\n",
       " 'UFUNC_PYVALS_NAME',\n",
       " 'VisibleDeprecationWarning',\n",
       " 'WRAP',\n",
       " '_NoValue',\n",
       " '_UFUNC_API',\n",
       " '__NUMPY_SETUP__',\n",
       " '__all__',\n",
       " '__builtins__',\n",
       " '__cached__',\n",
       " '__config__',\n",
       " '__doc__',\n",
       " '__file__',\n",
       " '__git_revision__',\n",
       " '__loader__',\n",
       " '__mkl_version__',\n",
       " '__name__',\n",
       " '__package__',\n",
       " '__path__',\n",
       " '__spec__',\n",
       " '__version__',\n",
       " '_add_newdoc_ufunc',\n",
       " '_distributor_init',\n",
       " '_globals',\n",
       " '_mat',\n",
       " '_pytesttester',\n",
       " 'abs',\n",
       " 'absolute',\n",
       " 'add',\n",
       " 'add_docstring',\n",
       " 'add_newdoc',\n",
       " 'add_newdoc_ufunc',\n",
       " 'alen',\n",
       " 'all',\n",
       " 'allclose',\n",
       " 'alltrue',\n",
       " 'amax',\n",
       " 'amin',\n",
       " 'angle',\n",
       " 'any',\n",
       " 'append',\n",
       " 'apply_along_axis',\n",
       " 'apply_over_axes',\n",
       " 'arange',\n",
       " 'arccos',\n",
       " 'arccosh',\n",
       " 'arcsin',\n",
       " 'arcsinh',\n",
       " 'arctan',\n",
       " 'arctan2',\n",
       " 'arctanh',\n",
       " 'argmax',\n",
       " 'argmin',\n",
       " 'argpartition',\n",
       " 'argsort',\n",
       " 'argwhere',\n",
       " 'around',\n",
       " 'array',\n",
       " 'array2string',\n",
       " 'array_equal',\n",
       " 'array_equiv',\n",
       " 'array_repr',\n",
       " 'array_split',\n",
       " 'array_str',\n",
       " 'asanyarray',\n",
       " 'asarray',\n",
       " 'asarray_chkfinite',\n",
       " 'ascontiguousarray',\n",
       " 'asfarray',\n",
       " 'asfortranarray',\n",
       " 'asmatrix',\n",
       " 'asscalar',\n",
       " 'atleast_1d',\n",
       " 'atleast_2d',\n",
       " 'atleast_3d',\n",
       " 'average',\n",
       " 'bartlett',\n",
       " 'base_repr',\n",
       " 'binary_repr',\n",
       " 'bincount',\n",
       " 'bitwise_and',\n",
       " 'bitwise_not',\n",
       " 'bitwise_or',\n",
       " 'bitwise_xor',\n",
       " 'blackman',\n",
       " 'block',\n",
       " 'bmat',\n",
       " 'bool',\n",
       " 'bool8',\n",
       " 'bool_',\n",
       " 'broadcast',\n",
       " 'broadcast_arrays',\n",
       " 'broadcast_to',\n",
       " 'busday_count',\n",
       " 'busday_offset',\n",
       " 'busdaycalendar',\n",
       " 'byte',\n",
       " 'byte_bounds',\n",
       " 'bytes0',\n",
       " 'bytes_',\n",
       " 'c_',\n",
       " 'can_cast',\n",
       " 'cast',\n",
       " 'cbrt',\n",
       " 'cdouble',\n",
       " 'ceil',\n",
       " 'cfloat',\n",
       " 'char',\n",
       " 'character',\n",
       " 'chararray',\n",
       " 'choose',\n",
       " 'clip',\n",
       " 'clongdouble',\n",
       " 'clongfloat',\n",
       " 'column_stack',\n",
       " 'common_type',\n",
       " 'compare_chararrays',\n",
       " 'compat',\n",
       " 'complex',\n",
       " 'complex128',\n",
       " 'complex64',\n",
       " 'complex_',\n",
       " 'complexfloating',\n",
       " 'compress',\n",
       " 'concatenate',\n",
       " 'conj',\n",
       " 'conjugate',\n",
       " 'convolve',\n",
       " 'copy',\n",
       " 'copysign',\n",
       " 'copyto',\n",
       " 'core',\n",
       " 'corrcoef',\n",
       " 'correlate',\n",
       " 'cos',\n",
       " 'cosh',\n",
       " 'count_nonzero',\n",
       " 'cov',\n",
       " 'cross',\n",
       " 'csingle',\n",
       " 'ctypeslib',\n",
       " 'cumprod',\n",
       " 'cumproduct',\n",
       " 'cumsum',\n",
       " 'datetime64',\n",
       " 'datetime_as_string',\n",
       " 'datetime_data',\n",
       " 'deg2rad',\n",
       " 'degrees',\n",
       " 'delete',\n",
       " 'deprecate',\n",
       " 'deprecate_with_doc',\n",
       " 'diag',\n",
       " 'diag_indices',\n",
       " 'diag_indices_from',\n",
       " 'diagflat',\n",
       " 'diagonal',\n",
       " 'diff',\n",
       " 'digitize',\n",
       " 'disp',\n",
       " 'divide',\n",
       " 'divmod',\n",
       " 'dot',\n",
       " 'double',\n",
       " 'dsplit',\n",
       " 'dstack',\n",
       " 'dtype',\n",
       " 'e',\n",
       " 'ediff1d',\n",
       " 'einsum',\n",
       " 'einsum_path',\n",
       " 'emath',\n",
       " 'empty',\n",
       " 'empty_like',\n",
       " 'equal',\n",
       " 'errstate',\n",
       " 'euler_gamma',\n",
       " 'exp',\n",
       " 'exp2',\n",
       " 'expand_dims',\n",
       " 'expm1',\n",
       " 'extract',\n",
       " 'eye',\n",
       " 'fabs',\n",
       " 'fastCopyAndTranspose',\n",
       " 'fft',\n",
       " 'fill_diagonal',\n",
       " 'find_common_type',\n",
       " 'finfo',\n",
       " 'fix',\n",
       " 'flatiter',\n",
       " 'flatnonzero',\n",
       " 'flexible',\n",
       " 'flip',\n",
       " 'fliplr',\n",
       " 'flipud',\n",
       " 'float',\n",
       " 'float16',\n",
       " 'float32',\n",
       " 'float64',\n",
       " 'float_',\n",
       " 'float_power',\n",
       " 'floating',\n",
       " 'floor',\n",
       " 'floor_divide',\n",
       " 'fmax',\n",
       " 'fmin',\n",
       " 'fmod',\n",
       " 'format_float_positional',\n",
       " 'format_float_scientific',\n",
       " 'format_parser',\n",
       " 'frexp',\n",
       " 'frombuffer',\n",
       " 'fromfile',\n",
       " 'fromfunction',\n",
       " 'fromiter',\n",
       " 'frompyfunc',\n",
       " 'fromregex',\n",
       " 'fromstring',\n",
       " 'full',\n",
       " 'full_like',\n",
       " 'fv',\n",
       " 'gcd',\n",
       " 'generic',\n",
       " 'genfromtxt',\n",
       " 'geomspace',\n",
       " 'get_array_wrap',\n",
       " 'get_include',\n",
       " 'get_printoptions',\n",
       " 'getbufsize',\n",
       " 'geterr',\n",
       " 'geterrcall',\n",
       " 'geterrobj',\n",
       " 'gradient',\n",
       " 'greater',\n",
       " 'greater_equal',\n",
       " 'half',\n",
       " 'hamming',\n",
       " 'hanning',\n",
       " 'heaviside',\n",
       " 'histogram',\n",
       " 'histogram2d',\n",
       " 'histogram_bin_edges',\n",
       " 'histogramdd',\n",
       " 'hsplit',\n",
       " 'hstack',\n",
       " 'hypot',\n",
       " 'i0',\n",
       " 'identity',\n",
       " 'iinfo',\n",
       " 'imag',\n",
       " 'in1d',\n",
       " 'index_exp',\n",
       " 'indices',\n",
       " 'inexact',\n",
       " 'inf',\n",
       " 'info',\n",
       " 'infty',\n",
       " 'inner',\n",
       " 'insert',\n",
       " 'int',\n",
       " 'int0',\n",
       " 'int16',\n",
       " 'int32',\n",
       " 'int64',\n",
       " 'int8',\n",
       " 'int_',\n",
       " 'intc',\n",
       " 'integer',\n",
       " 'interp',\n",
       " 'intersect1d',\n",
       " 'intp',\n",
       " 'invert',\n",
       " 'ipmt',\n",
       " 'irr',\n",
       " 'is_busday',\n",
       " 'isclose',\n",
       " 'iscomplex',\n",
       " 'iscomplexobj',\n",
       " 'isfinite',\n",
       " 'isfortran',\n",
       " 'isin',\n",
       " 'isinf',\n",
       " 'isnan',\n",
       " 'isnat',\n",
       " 'isneginf',\n",
       " 'isposinf',\n",
       " 'isreal',\n",
       " 'isrealobj',\n",
       " 'isscalar',\n",
       " 'issctype',\n",
       " 'issubclass_',\n",
       " 'issubdtype',\n",
       " 'issubsctype',\n",
       " 'iterable',\n",
       " 'ix_',\n",
       " 'kaiser',\n",
       " 'kron',\n",
       " 'lcm',\n",
       " 'ldexp',\n",
       " 'left_shift',\n",
       " 'less',\n",
       " 'less_equal',\n",
       " 'lexsort',\n",
       " 'lib',\n",
       " 'linalg',\n",
       " 'linspace',\n",
       " 'little_endian',\n",
       " 'load',\n",
       " 'loads',\n",
       " 'loadtxt',\n",
       " 'log',\n",
       " 'log10',\n",
       " 'log1p',\n",
       " 'log2',\n",
       " 'logaddexp',\n",
       " 'logaddexp2',\n",
       " 'logical_and',\n",
       " 'logical_not',\n",
       " 'logical_or',\n",
       " 'logical_xor',\n",
       " 'logspace',\n",
       " 'long',\n",
       " 'longcomplex',\n",
       " 'longdouble',\n",
       " 'longfloat',\n",
       " 'longlong',\n",
       " 'lookfor',\n",
       " 'ma',\n",
       " 'mafromtxt',\n",
       " 'mask_indices',\n",
       " 'mat',\n",
       " 'math',\n",
       " 'matmul',\n",
       " 'matrix',\n",
       " 'matrixlib',\n",
       " 'max',\n",
       " 'maximum',\n",
       " 'maximum_sctype',\n",
       " 'may_share_memory',\n",
       " 'mean',\n",
       " 'median',\n",
       " 'memmap',\n",
       " 'meshgrid',\n",
       " 'mgrid',\n",
       " 'min',\n",
       " 'min_scalar_type',\n",
       " 'minimum',\n",
       " 'mintypecode',\n",
       " 'mirr',\n",
       " 'mkl',\n",
       " 'mod',\n",
       " 'modf',\n",
       " 'moveaxis',\n",
       " 'msort',\n",
       " 'multiply',\n",
       " 'nan',\n",
       " 'nan_to_num',\n",
       " 'nanargmax',\n",
       " 'nanargmin',\n",
       " 'nancumprod',\n",
       " 'nancumsum',\n",
       " 'nanmax',\n",
       " 'nanmean',\n",
       " 'nanmedian',\n",
       " 'nanmin',\n",
       " 'nanpercentile',\n",
       " 'nanprod',\n",
       " 'nanquantile',\n",
       " 'nanstd',\n",
       " 'nansum',\n",
       " 'nanvar',\n",
       " 'nbytes',\n",
       " 'ndarray',\n",
       " 'ndenumerate',\n",
       " 'ndfromtxt',\n",
       " 'ndim',\n",
       " 'ndindex',\n",
       " 'nditer',\n",
       " 'negative',\n",
       " 'nested_iters',\n",
       " 'newaxis',\n",
       " 'nextafter',\n",
       " 'nonzero',\n",
       " 'not_equal',\n",
       " 'nper',\n",
       " 'npv',\n",
       " 'numarray',\n",
       " 'number',\n",
       " 'obj2sctype',\n",
       " 'object',\n",
       " 'object0',\n",
       " 'object_',\n",
       " 'ogrid',\n",
       " 'oldnumeric',\n",
       " 'ones',\n",
       " 'ones_like',\n",
       " 'os',\n",
       " 'outer',\n",
       " 'packbits',\n",
       " 'pad',\n",
       " 'partition',\n",
       " 'percentile',\n",
       " 'pi',\n",
       " 'piecewise',\n",
       " 'place',\n",
       " 'pmt',\n",
       " 'poly',\n",
       " 'poly1d',\n",
       " 'polyadd',\n",
       " 'polyder',\n",
       " 'polydiv',\n",
       " 'polyfit',\n",
       " 'polyint',\n",
       " 'polymul',\n",
       " 'polynomial',\n",
       " 'polysub',\n",
       " 'polyval',\n",
       " 'positive',\n",
       " 'power',\n",
       " 'ppmt',\n",
       " 'printoptions',\n",
       " 'prod',\n",
       " 'product',\n",
       " 'promote_types',\n",
       " 'ptp',\n",
       " 'put',\n",
       " 'put_along_axis',\n",
       " 'putmask',\n",
       " 'pv',\n",
       " 'quantile',\n",
       " 'r_',\n",
       " 'rad2deg',\n",
       " 'radians',\n",
       " 'random',\n",
       " 'rate',\n",
       " 'ravel',\n",
       " 'ravel_multi_index',\n",
       " 'real',\n",
       " 'real_if_close',\n",
       " 'rec',\n",
       " 'recarray',\n",
       " 'recfromcsv',\n",
       " 'recfromtxt',\n",
       " 'reciprocal',\n",
       " 'record',\n",
       " 'remainder',\n",
       " 'repeat',\n",
       " 'require',\n",
       " 'reshape',\n",
       " 'resize',\n",
       " 'result_type',\n",
       " 'right_shift',\n",
       " 'rint',\n",
       " 'roll',\n",
       " 'rollaxis',\n",
       " 'roots',\n",
       " 'rot90',\n",
       " 'round',\n",
       " 'round_',\n",
       " 'row_stack',\n",
       " 's_',\n",
       " 'safe_eval',\n",
       " 'save',\n",
       " 'savetxt',\n",
       " 'savez',\n",
       " 'savez_compressed',\n",
       " 'sctype2char',\n",
       " 'sctypeDict',\n",
       " 'sctypeNA',\n",
       " 'sctypes',\n",
       " 'searchsorted',\n",
       " 'select',\n",
       " 'set_numeric_ops',\n",
       " 'set_printoptions',\n",
       " 'set_string_function',\n",
       " 'setbufsize',\n",
       " 'setdiff1d',\n",
       " 'seterr',\n",
       " 'seterrcall',\n",
       " 'seterrobj',\n",
       " 'setxor1d',\n",
       " 'shape',\n",
       " 'shares_memory',\n",
       " 'short',\n",
       " 'show_config',\n",
       " 'sign',\n",
       " 'signbit',\n",
       " 'signedinteger',\n",
       " 'sin',\n",
       " 'sinc',\n",
       " 'single',\n",
       " 'singlecomplex',\n",
       " 'sinh',\n",
       " 'size',\n",
       " 'sometrue',\n",
       " 'sort',\n",
       " 'sort_complex',\n",
       " 'source',\n",
       " 'spacing',\n",
       " 'split',\n",
       " 'sqrt',\n",
       " 'square',\n",
       " 'squeeze',\n",
       " 'stack',\n",
       " 'std',\n",
       " 'str',\n",
       " 'str0',\n",
       " 'str_',\n",
       " 'string_',\n",
       " 'subtract',\n",
       " 'sum',\n",
       " 'swapaxes',\n",
       " 'sys',\n",
       " 'take',\n",
       " 'take_along_axis',\n",
       " 'tan',\n",
       " 'tanh',\n",
       " 'tensordot',\n",
       " 'test',\n",
       " 'testing',\n",
       " 'tile',\n",
       " 'timedelta64',\n",
       " 'trace',\n",
       " 'tracemalloc_domain',\n",
       " 'transpose',\n",
       " 'trapz',\n",
       " 'tri',\n",
       " 'tril',\n",
       " 'tril_indices',\n",
       " 'tril_indices_from',\n",
       " 'trim_zeros',\n",
       " 'triu',\n",
       " 'triu_indices',\n",
       " 'triu_indices_from',\n",
       " 'true_divide',\n",
       " 'trunc',\n",
       " 'typeDict',\n",
       " 'typeNA',\n",
       " 'typecodes',\n",
       " 'typename',\n",
       " 'ubyte',\n",
       " 'ufunc',\n",
       " 'uint',\n",
       " 'uint0',\n",
       " 'uint16',\n",
       " 'uint32',\n",
       " 'uint64',\n",
       " 'uint8',\n",
       " 'uintc',\n",
       " 'uintp',\n",
       " 'ulonglong',\n",
       " 'unicode',\n",
       " 'unicode_',\n",
       " 'union1d',\n",
       " 'unique',\n",
       " 'unpackbits',\n",
       " 'unravel_index',\n",
       " 'unsignedinteger',\n",
       " 'unwrap',\n",
       " 'use_hugepage',\n",
       " 'ushort',\n",
       " 'vander',\n",
       " 'var',\n",
       " 'vdot',\n",
       " 'vectorize',\n",
       " 'version',\n",
       " 'void',\n",
       " 'void0',\n",
       " 'vsplit',\n",
       " 'vstack',\n",
       " 'warnings',\n",
       " 'where',\n",
       " 'who',\n",
       " 'zeros',\n",
       " 'zeros_like']"
      ]
     },
     "execution_count": 55,
     "metadata": {},
     "output_type": "execute_result"
    }
   ],
   "source": [
    "dir(np)"
   ]
  },
  {
   "cell_type": "code",
   "execution_count": 68,
   "metadata": {},
   "outputs": [
    {
     "data": {
      "text/plain": [
       "5"
      ]
     },
     "execution_count": 68,
     "metadata": {},
     "output_type": "execute_result"
    }
   ],
   "source": [
    "a = np.array([1, 5, 3, 19, 13, 7, 3])\n",
    "a[1]"
   ]
  },
  {
   "cell_type": "code",
   "execution_count": 69,
   "metadata": {},
   "outputs": [
    {
     "data": {
      "text/plain": [
       "array([ 3, 19, 13])"
      ]
     },
     "execution_count": 69,
     "metadata": {},
     "output_type": "execute_result"
    }
   ],
   "source": [
    "a[2:5]"
   ]
  },
  {
   "cell_type": "code",
   "execution_count": 70,
   "metadata": {},
   "outputs": [
    {
     "data": {
      "text/plain": [
       "array([ 1,  5,  3, 19, 13,  7,  3])"
      ]
     },
     "execution_count": 70,
     "metadata": {},
     "output_type": "execute_result"
    }
   ],
   "source": [
    "a"
   ]
  },
  {
   "cell_type": "code",
   "execution_count": 71,
   "metadata": {},
   "outputs": [
    {
     "data": {
      "text/plain": [
       "array([ 5, 19,  7])"
      ]
     },
     "execution_count": 71,
     "metadata": {},
     "output_type": "execute_result"
    }
   ],
   "source": [
    "a[1:6:2]"
   ]
  },
  {
   "cell_type": "code",
   "execution_count": 60,
   "metadata": {},
   "outputs": [
    {
     "data": {
      "text/plain": [
       "{'__name__': '__main__',\n",
       " '__doc__': 'Automatically created module for IPython interactive environment',\n",
       " '__package__': None,\n",
       " '__loader__': None,\n",
       " '__spec__': None,\n",
       " '__builtin__': <module 'builtins' (built-in)>,\n",
       " '__builtins__': <module 'builtins' (built-in)>,\n",
       " '_ih': ['',\n",
       "  'a[:,3]',\n",
       "  'import numpy as np',\n",
       "  'a = np.array([1, 2, 3])\\na',\n",
       "  'type(a)',\n",
       "  'a.ndim',\n",
       "  'type(a)',\n",
       "  'b = np.array((3, 4, 5))\\nb',\n",
       "  'type(b)',\n",
       "  'x = np.zeros((2,3,4))\\nprint(x)',\n",
       "  'np.zeros(3)',\n",
       "  'x = np.zeros((3,4))  \\nprint(x)\\ntype(x.dtype)',\n",
       "  'x.shape',\n",
       "  'y = np.ones( (3,4), dtype=np.float64 )  \\ny',\n",
       "  'print(x.dtype)\\nprint(y.dtype)',\n",
       "  'np.full( (3,4), 0.11)',\n",
       "  'np.full( (3,4), np.pi )',\n",
       "  'np.arange( 10, 30, 2 )',\n",
       "  'x',\n",
       "  \"get_ipython().run_line_magic('timeit', 'np.arange(1, 100, 0.1)')\",\n",
       "  'np.arange( 0, 2, 0.5 )',\n",
       "  'np.arange( 0, 20, 0.005 ).shape',\n",
       "  'x = [\\n        [\\n            1,2,3,4\\n        ],\\n        [\\n            1,2,2,2\\n        ]\\n]\\nx1 = np.array(x)\\nprint(x1)\\nprint(x1.shape)',\n",
       "  'three_d_array = np.full((2,3,4), 0.11)\\nprint(three_d_array)',\n",
       "  'three_d_array.size',\n",
       "  'three_d_array.reshape(-1, 6)',\n",
       "  'three_d_array.shape',\n",
       "  'x = [\\n        [\\n            [1, 3],\\n            [1, 3], \\n            [1, 3],\\n            [1, 3]\\n        ],\\n#         [\\n#             [1, 3],\\n#             [1, 3], \\n#             [1, 3],\\n#             [1, 3]\\n#         ]\\n]',\n",
       "  'xx = np.array(x)\\nprint(xx.shape)\\nprint(xx)',\n",
       "  'np.linspace(0, 10, 3)',\n",
       "  'np.linspace(0, 10, 50)',\n",
       "  'np.linspace(0, 5/3, 6)',\n",
       "  '# Make a 2x3 matrix having random floats between 0 and 1:\\nx = np.random.rand(2,3)\\nprint(x)',\n",
       "  'x = np.empty((2,3))',\n",
       "  'x',\n",
       "  'x.ndim',\n",
       "  'x.shape',\n",
       "  'x.size',\n",
       "  'x',\n",
       "  'x[0]',\n",
       "  'x[1]',\n",
       "  'x[1][0]',\n",
       "  'x[1,0]',\n",
       "  'c = np.arange(1, 5)',\n",
       "  'c',\n",
       "  'c.dtype',\n",
       "  'c.itemsize',\n",
       "  'a = np.arange(6)\\nprint(a)',\n",
       "  'b = a.reshape(3,2)\\nprint(b)',\n",
       "  'a = np.arange(24)\\nprint(a)\\nb = a.reshape(2,3,4)\\nprint(b)',\n",
       "  'b.reshape(-1)',\n",
       "  '# Create a 2x4 array filled with numbers between 0 to 2\\na = np.random.rand(2,4)*2',\n",
       "  'a',\n",
       "  'a = np.arange(50)\\nprint(a)\\nprint(a.reshape(-1, 5))',\n",
       "  \"get_ipython().run_line_magic('pinfo', 'np.RAISE')\",\n",
       "  'dir(np)',\n",
       "  'a = np.array([1, 5, 3, 19, 13, 7, 3])\\na[1]',\n",
       "  'a[2:5]',\n",
       "  'a',\n",
       "  'a[1:6:2]',\n",
       "  'locals()'],\n",
       " '_oh': {3: array([1, 2, 3]),\n",
       "  4: numpy.ndarray,\n",
       "  5: 1,\n",
       "  6: numpy.ndarray,\n",
       "  7: array([3, 4, 5]),\n",
       "  8: numpy.ndarray,\n",
       "  10: array([0., 0., 0.]),\n",
       "  11: numpy.dtype,\n",
       "  12: (3, 4),\n",
       "  13: array([[1., 1., 1., 1.],\n",
       "         [1., 1., 1., 1.],\n",
       "         [1., 1., 1., 1.]]),\n",
       "  15: array([[0.11, 0.11, 0.11, 0.11],\n",
       "         [0.11, 0.11, 0.11, 0.11],\n",
       "         [0.11, 0.11, 0.11, 0.11]]),\n",
       "  16: array([[3.14159265, 3.14159265, 3.14159265, 3.14159265],\n",
       "         [3.14159265, 3.14159265, 3.14159265, 3.14159265],\n",
       "         [3.14159265, 3.14159265, 3.14159265, 3.14159265]]),\n",
       "  17: array([10, 12, 14, 16, 18, 20, 22, 24, 26, 28]),\n",
       "  18: array([[0., 0., 0., 0.],\n",
       "         [0., 0., 0., 0.],\n",
       "         [0., 0., 0., 0.]]),\n",
       "  20: array([0. , 0.5, 1. , 1.5]),\n",
       "  21: (4000,),\n",
       "  24: 24,\n",
       "  25: array([[0.11, 0.11, 0.11, 0.11, 0.11, 0.11],\n",
       "         [0.11, 0.11, 0.11, 0.11, 0.11, 0.11],\n",
       "         [0.11, 0.11, 0.11, 0.11, 0.11, 0.11],\n",
       "         [0.11, 0.11, 0.11, 0.11, 0.11, 0.11]]),\n",
       "  26: (2, 3, 4),\n",
       "  29: array([ 0.,  5., 10.]),\n",
       "  30: array([ 0.        ,  0.20408163,  0.40816327,  0.6122449 ,  0.81632653,\n",
       "          1.02040816,  1.2244898 ,  1.42857143,  1.63265306,  1.83673469,\n",
       "          2.04081633,  2.24489796,  2.44897959,  2.65306122,  2.85714286,\n",
       "          3.06122449,  3.26530612,  3.46938776,  3.67346939,  3.87755102,\n",
       "          4.08163265,  4.28571429,  4.48979592,  4.69387755,  4.89795918,\n",
       "          5.10204082,  5.30612245,  5.51020408,  5.71428571,  5.91836735,\n",
       "          6.12244898,  6.32653061,  6.53061224,  6.73469388,  6.93877551,\n",
       "          7.14285714,  7.34693878,  7.55102041,  7.75510204,  7.95918367,\n",
       "          8.16326531,  8.36734694,  8.57142857,  8.7755102 ,  8.97959184,\n",
       "          9.18367347,  9.3877551 ,  9.59183673,  9.79591837, 10.        ]),\n",
       "  31: array([0.        , 0.33333333, 0.66666667, 1.        , 1.33333333,\n",
       "         1.66666667]),\n",
       "  34: array([[0.38092898, 0.99601879, 0.11131878],\n",
       "         [0.05862443, 0.03570885, 0.23933775]]),\n",
       "  35: 2,\n",
       "  36: (2, 3),\n",
       "  37: 6,\n",
       "  38: array([[0.38092898, 0.99601879, 0.11131878],\n",
       "         [0.05862443, 0.03570885, 0.23933775]]),\n",
       "  39: array([0.38092898, 0.99601879, 0.11131878]),\n",
       "  40: array([0.05862443, 0.03570885, 0.23933775]),\n",
       "  41: 0.05862443334744938,\n",
       "  42: 0.05862443334744938,\n",
       "  44: array([1, 2, 3, 4]),\n",
       "  45: dtype('int32'),\n",
       "  46: 4,\n",
       "  50: array([ 0,  1,  2,  3,  4,  5,  6,  7,  8,  9, 10, 11, 12, 13, 14, 15, 16,\n",
       "         17, 18, 19, 20, 21, 22, 23]),\n",
       "  52: array([[0.79004403, 1.95713609, 1.61721389, 1.904343  ],\n",
       "         [1.10220461, 0.55745012, 0.55578683, 1.93562628]]),\n",
       "  55: ['ALLOW_THREADS',\n",
       "   'AxisError',\n",
       "   'BUFSIZE',\n",
       "   'CLIP',\n",
       "   'ComplexWarning',\n",
       "   'DataSource',\n",
       "   'ERR_CALL',\n",
       "   'ERR_DEFAULT',\n",
       "   'ERR_IGNORE',\n",
       "   'ERR_LOG',\n",
       "   'ERR_PRINT',\n",
       "   'ERR_RAISE',\n",
       "   'ERR_WARN',\n",
       "   'FLOATING_POINT_SUPPORT',\n",
       "   'FPE_DIVIDEBYZERO',\n",
       "   'FPE_INVALID',\n",
       "   'FPE_OVERFLOW',\n",
       "   'FPE_UNDERFLOW',\n",
       "   'False_',\n",
       "   'Inf',\n",
       "   'Infinity',\n",
       "   'MAXDIMS',\n",
       "   'MAY_SHARE_BOUNDS',\n",
       "   'MAY_SHARE_EXACT',\n",
       "   'MachAr',\n",
       "   'ModuleDeprecationWarning',\n",
       "   'NAN',\n",
       "   'NINF',\n",
       "   'NZERO',\n",
       "   'NaN',\n",
       "   'PINF',\n",
       "   'PZERO',\n",
       "   'RAISE',\n",
       "   'RankWarning',\n",
       "   'SHIFT_DIVIDEBYZERO',\n",
       "   'SHIFT_INVALID',\n",
       "   'SHIFT_OVERFLOW',\n",
       "   'SHIFT_UNDERFLOW',\n",
       "   'ScalarType',\n",
       "   'Tester',\n",
       "   'TooHardError',\n",
       "   'True_',\n",
       "   'UFUNC_BUFSIZE_DEFAULT',\n",
       "   'UFUNC_PYVALS_NAME',\n",
       "   'VisibleDeprecationWarning',\n",
       "   'WRAP',\n",
       "   '_NoValue',\n",
       "   '_UFUNC_API',\n",
       "   '__NUMPY_SETUP__',\n",
       "   '__all__',\n",
       "   '__builtins__',\n",
       "   '__cached__',\n",
       "   '__config__',\n",
       "   '__doc__',\n",
       "   '__file__',\n",
       "   '__git_revision__',\n",
       "   '__loader__',\n",
       "   '__mkl_version__',\n",
       "   '__name__',\n",
       "   '__package__',\n",
       "   '__path__',\n",
       "   '__spec__',\n",
       "   '__version__',\n",
       "   '_add_newdoc_ufunc',\n",
       "   '_distributor_init',\n",
       "   '_globals',\n",
       "   '_mat',\n",
       "   '_pytesttester',\n",
       "   'abs',\n",
       "   'absolute',\n",
       "   'add',\n",
       "   'add_docstring',\n",
       "   'add_newdoc',\n",
       "   'add_newdoc_ufunc',\n",
       "   'alen',\n",
       "   'all',\n",
       "   'allclose',\n",
       "   'alltrue',\n",
       "   'amax',\n",
       "   'amin',\n",
       "   'angle',\n",
       "   'any',\n",
       "   'append',\n",
       "   'apply_along_axis',\n",
       "   'apply_over_axes',\n",
       "   'arange',\n",
       "   'arccos',\n",
       "   'arccosh',\n",
       "   'arcsin',\n",
       "   'arcsinh',\n",
       "   'arctan',\n",
       "   'arctan2',\n",
       "   'arctanh',\n",
       "   'argmax',\n",
       "   'argmin',\n",
       "   'argpartition',\n",
       "   'argsort',\n",
       "   'argwhere',\n",
       "   'around',\n",
       "   'array',\n",
       "   'array2string',\n",
       "   'array_equal',\n",
       "   'array_equiv',\n",
       "   'array_repr',\n",
       "   'array_split',\n",
       "   'array_str',\n",
       "   'asanyarray',\n",
       "   'asarray',\n",
       "   'asarray_chkfinite',\n",
       "   'ascontiguousarray',\n",
       "   'asfarray',\n",
       "   'asfortranarray',\n",
       "   'asmatrix',\n",
       "   'asscalar',\n",
       "   'atleast_1d',\n",
       "   'atleast_2d',\n",
       "   'atleast_3d',\n",
       "   'average',\n",
       "   'bartlett',\n",
       "   'base_repr',\n",
       "   'binary_repr',\n",
       "   'bincount',\n",
       "   'bitwise_and',\n",
       "   'bitwise_not',\n",
       "   'bitwise_or',\n",
       "   'bitwise_xor',\n",
       "   'blackman',\n",
       "   'block',\n",
       "   'bmat',\n",
       "   'bool',\n",
       "   'bool8',\n",
       "   'bool_',\n",
       "   'broadcast',\n",
       "   'broadcast_arrays',\n",
       "   'broadcast_to',\n",
       "   'busday_count',\n",
       "   'busday_offset',\n",
       "   'busdaycalendar',\n",
       "   'byte',\n",
       "   'byte_bounds',\n",
       "   'bytes0',\n",
       "   'bytes_',\n",
       "   'c_',\n",
       "   'can_cast',\n",
       "   'cast',\n",
       "   'cbrt',\n",
       "   'cdouble',\n",
       "   'ceil',\n",
       "   'cfloat',\n",
       "   'char',\n",
       "   'character',\n",
       "   'chararray',\n",
       "   'choose',\n",
       "   'clip',\n",
       "   'clongdouble',\n",
       "   'clongfloat',\n",
       "   'column_stack',\n",
       "   'common_type',\n",
       "   'compare_chararrays',\n",
       "   'compat',\n",
       "   'complex',\n",
       "   'complex128',\n",
       "   'complex64',\n",
       "   'complex_',\n",
       "   'complexfloating',\n",
       "   'compress',\n",
       "   'concatenate',\n",
       "   'conj',\n",
       "   'conjugate',\n",
       "   'convolve',\n",
       "   'copy',\n",
       "   'copysign',\n",
       "   'copyto',\n",
       "   'core',\n",
       "   'corrcoef',\n",
       "   'correlate',\n",
       "   'cos',\n",
       "   'cosh',\n",
       "   'count_nonzero',\n",
       "   'cov',\n",
       "   'cross',\n",
       "   'csingle',\n",
       "   'ctypeslib',\n",
       "   'cumprod',\n",
       "   'cumproduct',\n",
       "   'cumsum',\n",
       "   'datetime64',\n",
       "   'datetime_as_string',\n",
       "   'datetime_data',\n",
       "   'deg2rad',\n",
       "   'degrees',\n",
       "   'delete',\n",
       "   'deprecate',\n",
       "   'deprecate_with_doc',\n",
       "   'diag',\n",
       "   'diag_indices',\n",
       "   'diag_indices_from',\n",
       "   'diagflat',\n",
       "   'diagonal',\n",
       "   'diff',\n",
       "   'digitize',\n",
       "   'disp',\n",
       "   'divide',\n",
       "   'divmod',\n",
       "   'dot',\n",
       "   'double',\n",
       "   'dsplit',\n",
       "   'dstack',\n",
       "   'dtype',\n",
       "   'e',\n",
       "   'ediff1d',\n",
       "   'einsum',\n",
       "   'einsum_path',\n",
       "   'emath',\n",
       "   'empty',\n",
       "   'empty_like',\n",
       "   'equal',\n",
       "   'errstate',\n",
       "   'euler_gamma',\n",
       "   'exp',\n",
       "   'exp2',\n",
       "   'expand_dims',\n",
       "   'expm1',\n",
       "   'extract',\n",
       "   'eye',\n",
       "   'fabs',\n",
       "   'fastCopyAndTranspose',\n",
       "   'fft',\n",
       "   'fill_diagonal',\n",
       "   'find_common_type',\n",
       "   'finfo',\n",
       "   'fix',\n",
       "   'flatiter',\n",
       "   'flatnonzero',\n",
       "   'flexible',\n",
       "   'flip',\n",
       "   'fliplr',\n",
       "   'flipud',\n",
       "   'float',\n",
       "   'float16',\n",
       "   'float32',\n",
       "   'float64',\n",
       "   'float_',\n",
       "   'float_power',\n",
       "   'floating',\n",
       "   'floor',\n",
       "   'floor_divide',\n",
       "   'fmax',\n",
       "   'fmin',\n",
       "   'fmod',\n",
       "   'format_float_positional',\n",
       "   'format_float_scientific',\n",
       "   'format_parser',\n",
       "   'frexp',\n",
       "   'frombuffer',\n",
       "   'fromfile',\n",
       "   'fromfunction',\n",
       "   'fromiter',\n",
       "   'frompyfunc',\n",
       "   'fromregex',\n",
       "   'fromstring',\n",
       "   'full',\n",
       "   'full_like',\n",
       "   'fv',\n",
       "   'gcd',\n",
       "   'generic',\n",
       "   'genfromtxt',\n",
       "   'geomspace',\n",
       "   'get_array_wrap',\n",
       "   'get_include',\n",
       "   'get_printoptions',\n",
       "   'getbufsize',\n",
       "   'geterr',\n",
       "   'geterrcall',\n",
       "   'geterrobj',\n",
       "   'gradient',\n",
       "   'greater',\n",
       "   'greater_equal',\n",
       "   'half',\n",
       "   'hamming',\n",
       "   'hanning',\n",
       "   'heaviside',\n",
       "   'histogram',\n",
       "   'histogram2d',\n",
       "   'histogram_bin_edges',\n",
       "   'histogramdd',\n",
       "   'hsplit',\n",
       "   'hstack',\n",
       "   'hypot',\n",
       "   'i0',\n",
       "   'identity',\n",
       "   'iinfo',\n",
       "   'imag',\n",
       "   'in1d',\n",
       "   'index_exp',\n",
       "   'indices',\n",
       "   'inexact',\n",
       "   'inf',\n",
       "   'info',\n",
       "   'infty',\n",
       "   'inner',\n",
       "   'insert',\n",
       "   'int',\n",
       "   'int0',\n",
       "   'int16',\n",
       "   'int32',\n",
       "   'int64',\n",
       "   'int8',\n",
       "   'int_',\n",
       "   'intc',\n",
       "   'integer',\n",
       "   'interp',\n",
       "   'intersect1d',\n",
       "   'intp',\n",
       "   'invert',\n",
       "   'ipmt',\n",
       "   'irr',\n",
       "   'is_busday',\n",
       "   'isclose',\n",
       "   'iscomplex',\n",
       "   'iscomplexobj',\n",
       "   'isfinite',\n",
       "   'isfortran',\n",
       "   'isin',\n",
       "   'isinf',\n",
       "   'isnan',\n",
       "   'isnat',\n",
       "   'isneginf',\n",
       "   'isposinf',\n",
       "   'isreal',\n",
       "   'isrealobj',\n",
       "   'isscalar',\n",
       "   'issctype',\n",
       "   'issubclass_',\n",
       "   'issubdtype',\n",
       "   'issubsctype',\n",
       "   'iterable',\n",
       "   'ix_',\n",
       "   'kaiser',\n",
       "   'kron',\n",
       "   'lcm',\n",
       "   'ldexp',\n",
       "   'left_shift',\n",
       "   'less',\n",
       "   'less_equal',\n",
       "   'lexsort',\n",
       "   'lib',\n",
       "   'linalg',\n",
       "   'linspace',\n",
       "   'little_endian',\n",
       "   'load',\n",
       "   'loads',\n",
       "   'loadtxt',\n",
       "   'log',\n",
       "   'log10',\n",
       "   'log1p',\n",
       "   'log2',\n",
       "   'logaddexp',\n",
       "   'logaddexp2',\n",
       "   'logical_and',\n",
       "   'logical_not',\n",
       "   'logical_or',\n",
       "   'logical_xor',\n",
       "   'logspace',\n",
       "   'long',\n",
       "   'longcomplex',\n",
       "   'longdouble',\n",
       "   'longfloat',\n",
       "   'longlong',\n",
       "   'lookfor',\n",
       "   'ma',\n",
       "   'mafromtxt',\n",
       "   'mask_indices',\n",
       "   'mat',\n",
       "   'math',\n",
       "   'matmul',\n",
       "   'matrix',\n",
       "   'matrixlib',\n",
       "   'max',\n",
       "   'maximum',\n",
       "   'maximum_sctype',\n",
       "   'may_share_memory',\n",
       "   'mean',\n",
       "   'median',\n",
       "   'memmap',\n",
       "   'meshgrid',\n",
       "   'mgrid',\n",
       "   'min',\n",
       "   'min_scalar_type',\n",
       "   'minimum',\n",
       "   'mintypecode',\n",
       "   'mirr',\n",
       "   'mkl',\n",
       "   'mod',\n",
       "   'modf',\n",
       "   'moveaxis',\n",
       "   'msort',\n",
       "   'multiply',\n",
       "   'nan',\n",
       "   'nan_to_num',\n",
       "   'nanargmax',\n",
       "   'nanargmin',\n",
       "   'nancumprod',\n",
       "   'nancumsum',\n",
       "   'nanmax',\n",
       "   'nanmean',\n",
       "   'nanmedian',\n",
       "   'nanmin',\n",
       "   'nanpercentile',\n",
       "   'nanprod',\n",
       "   'nanquantile',\n",
       "   'nanstd',\n",
       "   'nansum',\n",
       "   'nanvar',\n",
       "   'nbytes',\n",
       "   'ndarray',\n",
       "   'ndenumerate',\n",
       "   'ndfromtxt',\n",
       "   'ndim',\n",
       "   'ndindex',\n",
       "   'nditer',\n",
       "   'negative',\n",
       "   'nested_iters',\n",
       "   'newaxis',\n",
       "   'nextafter',\n",
       "   'nonzero',\n",
       "   'not_equal',\n",
       "   'nper',\n",
       "   'npv',\n",
       "   'numarray',\n",
       "   'number',\n",
       "   'obj2sctype',\n",
       "   'object',\n",
       "   'object0',\n",
       "   'object_',\n",
       "   'ogrid',\n",
       "   'oldnumeric',\n",
       "   'ones',\n",
       "   'ones_like',\n",
       "   'os',\n",
       "   'outer',\n",
       "   'packbits',\n",
       "   'pad',\n",
       "   'partition',\n",
       "   'percentile',\n",
       "   'pi',\n",
       "   'piecewise',\n",
       "   'place',\n",
       "   'pmt',\n",
       "   'poly',\n",
       "   'poly1d',\n",
       "   'polyadd',\n",
       "   'polyder',\n",
       "   'polydiv',\n",
       "   'polyfit',\n",
       "   'polyint',\n",
       "   'polymul',\n",
       "   'polynomial',\n",
       "   'polysub',\n",
       "   'polyval',\n",
       "   'positive',\n",
       "   'power',\n",
       "   'ppmt',\n",
       "   'printoptions',\n",
       "   'prod',\n",
       "   'product',\n",
       "   'promote_types',\n",
       "   'ptp',\n",
       "   'put',\n",
       "   'put_along_axis',\n",
       "   'putmask',\n",
       "   'pv',\n",
       "   'quantile',\n",
       "   'r_',\n",
       "   'rad2deg',\n",
       "   'radians',\n",
       "   'random',\n",
       "   'rate',\n",
       "   'ravel',\n",
       "   'ravel_multi_index',\n",
       "   'real',\n",
       "   'real_if_close',\n",
       "   'rec',\n",
       "   'recarray',\n",
       "   'recfromcsv',\n",
       "   'recfromtxt',\n",
       "   'reciprocal',\n",
       "   'record',\n",
       "   'remainder',\n",
       "   'repeat',\n",
       "   'require',\n",
       "   'reshape',\n",
       "   'resize',\n",
       "   'result_type',\n",
       "   'right_shift',\n",
       "   'rint',\n",
       "   'roll',\n",
       "   'rollaxis',\n",
       "   'roots',\n",
       "   'rot90',\n",
       "   'round',\n",
       "   'round_',\n",
       "   'row_stack',\n",
       "   's_',\n",
       "   'safe_eval',\n",
       "   'save',\n",
       "   'savetxt',\n",
       "   'savez',\n",
       "   'savez_compressed',\n",
       "   'sctype2char',\n",
       "   'sctypeDict',\n",
       "   'sctypeNA',\n",
       "   'sctypes',\n",
       "   'searchsorted',\n",
       "   'select',\n",
       "   'set_numeric_ops',\n",
       "   'set_printoptions',\n",
       "   'set_string_function',\n",
       "   'setbufsize',\n",
       "   'setdiff1d',\n",
       "   'seterr',\n",
       "   'seterrcall',\n",
       "   'seterrobj',\n",
       "   'setxor1d',\n",
       "   'shape',\n",
       "   'shares_memory',\n",
       "   'short',\n",
       "   'show_config',\n",
       "   'sign',\n",
       "   'signbit',\n",
       "   'signedinteger',\n",
       "   'sin',\n",
       "   'sinc',\n",
       "   'single',\n",
       "   'singlecomplex',\n",
       "   'sinh',\n",
       "   'size',\n",
       "   'sometrue',\n",
       "   'sort',\n",
       "   'sort_complex',\n",
       "   'source',\n",
       "   'spacing',\n",
       "   'split',\n",
       "   'sqrt',\n",
       "   'square',\n",
       "   'squeeze',\n",
       "   'stack',\n",
       "   'std',\n",
       "   'str',\n",
       "   'str0',\n",
       "   'str_',\n",
       "   'string_',\n",
       "   'subtract',\n",
       "   'sum',\n",
       "   'swapaxes',\n",
       "   'sys',\n",
       "   'take',\n",
       "   'take_along_axis',\n",
       "   'tan',\n",
       "   'tanh',\n",
       "   'tensordot',\n",
       "   'test',\n",
       "   'testing',\n",
       "   'tile',\n",
       "   'timedelta64',\n",
       "   'trace',\n",
       "   'tracemalloc_domain',\n",
       "   'transpose',\n",
       "   'trapz',\n",
       "   'tri',\n",
       "   'tril',\n",
       "   'tril_indices',\n",
       "   'tril_indices_from',\n",
       "   'trim_zeros',\n",
       "   'triu',\n",
       "   'triu_indices',\n",
       "   'triu_indices_from',\n",
       "   'true_divide',\n",
       "   'trunc',\n",
       "   'typeDict',\n",
       "   'typeNA',\n",
       "   'typecodes',\n",
       "   'typename',\n",
       "   'ubyte',\n",
       "   'ufunc',\n",
       "   'uint',\n",
       "   'uint0',\n",
       "   'uint16',\n",
       "   'uint32',\n",
       "   'uint64',\n",
       "   'uint8',\n",
       "   'uintc',\n",
       "   'uintp',\n",
       "   'ulonglong',\n",
       "   'unicode',\n",
       "   'unicode_',\n",
       "   'union1d',\n",
       "   'unique',\n",
       "   'unpackbits',\n",
       "   'unravel_index',\n",
       "   'unsignedinteger',\n",
       "   'unwrap',\n",
       "   'use_hugepage',\n",
       "   'ushort',\n",
       "   'vander',\n",
       "   'var',\n",
       "   'vdot',\n",
       "   'vectorize',\n",
       "   'version',\n",
       "   'void',\n",
       "   'void0',\n",
       "   'vsplit',\n",
       "   'vstack',\n",
       "   'warnings',\n",
       "   'where',\n",
       "   'who',\n",
       "   'zeros',\n",
       "   'zeros_like'],\n",
       "  56: 5,\n",
       "  57: array([ 3, 19, 13]),\n",
       "  58: array([ 1,  5,  3, 19, 13,  7,  3]),\n",
       "  59: array([ 5, 19,  7])},\n",
       " '_dh': ['C:\\\\Users\\\\prateek saurabh\\\\Documents\\\\Python repositry\\\\ml-master\\\\python'],\n",
       " 'In': ['',\n",
       "  'a[:,3]',\n",
       "  'import numpy as np',\n",
       "  'a = np.array([1, 2, 3])\\na',\n",
       "  'type(a)',\n",
       "  'a.ndim',\n",
       "  'type(a)',\n",
       "  'b = np.array((3, 4, 5))\\nb',\n",
       "  'type(b)',\n",
       "  'x = np.zeros((2,3,4))\\nprint(x)',\n",
       "  'np.zeros(3)',\n",
       "  'x = np.zeros((3,4))  \\nprint(x)\\ntype(x.dtype)',\n",
       "  'x.shape',\n",
       "  'y = np.ones( (3,4), dtype=np.float64 )  \\ny',\n",
       "  'print(x.dtype)\\nprint(y.dtype)',\n",
       "  'np.full( (3,4), 0.11)',\n",
       "  'np.full( (3,4), np.pi )',\n",
       "  'np.arange( 10, 30, 2 )',\n",
       "  'x',\n",
       "  \"get_ipython().run_line_magic('timeit', 'np.arange(1, 100, 0.1)')\",\n",
       "  'np.arange( 0, 2, 0.5 )',\n",
       "  'np.arange( 0, 20, 0.005 ).shape',\n",
       "  'x = [\\n        [\\n            1,2,3,4\\n        ],\\n        [\\n            1,2,2,2\\n        ]\\n]\\nx1 = np.array(x)\\nprint(x1)\\nprint(x1.shape)',\n",
       "  'three_d_array = np.full((2,3,4), 0.11)\\nprint(three_d_array)',\n",
       "  'three_d_array.size',\n",
       "  'three_d_array.reshape(-1, 6)',\n",
       "  'three_d_array.shape',\n",
       "  'x = [\\n        [\\n            [1, 3],\\n            [1, 3], \\n            [1, 3],\\n            [1, 3]\\n        ],\\n#         [\\n#             [1, 3],\\n#             [1, 3], \\n#             [1, 3],\\n#             [1, 3]\\n#         ]\\n]',\n",
       "  'xx = np.array(x)\\nprint(xx.shape)\\nprint(xx)',\n",
       "  'np.linspace(0, 10, 3)',\n",
       "  'np.linspace(0, 10, 50)',\n",
       "  'np.linspace(0, 5/3, 6)',\n",
       "  '# Make a 2x3 matrix having random floats between 0 and 1:\\nx = np.random.rand(2,3)\\nprint(x)',\n",
       "  'x = np.empty((2,3))',\n",
       "  'x',\n",
       "  'x.ndim',\n",
       "  'x.shape',\n",
       "  'x.size',\n",
       "  'x',\n",
       "  'x[0]',\n",
       "  'x[1]',\n",
       "  'x[1][0]',\n",
       "  'x[1,0]',\n",
       "  'c = np.arange(1, 5)',\n",
       "  'c',\n",
       "  'c.dtype',\n",
       "  'c.itemsize',\n",
       "  'a = np.arange(6)\\nprint(a)',\n",
       "  'b = a.reshape(3,2)\\nprint(b)',\n",
       "  'a = np.arange(24)\\nprint(a)\\nb = a.reshape(2,3,4)\\nprint(b)',\n",
       "  'b.reshape(-1)',\n",
       "  '# Create a 2x4 array filled with numbers between 0 to 2\\na = np.random.rand(2,4)*2',\n",
       "  'a',\n",
       "  'a = np.arange(50)\\nprint(a)\\nprint(a.reshape(-1, 5))',\n",
       "  \"get_ipython().run_line_magic('pinfo', 'np.RAISE')\",\n",
       "  'dir(np)',\n",
       "  'a = np.array([1, 5, 3, 19, 13, 7, 3])\\na[1]',\n",
       "  'a[2:5]',\n",
       "  'a',\n",
       "  'a[1:6:2]',\n",
       "  'locals()'],\n",
       " 'Out': {3: array([1, 2, 3]),\n",
       "  4: numpy.ndarray,\n",
       "  5: 1,\n",
       "  6: numpy.ndarray,\n",
       "  7: array([3, 4, 5]),\n",
       "  8: numpy.ndarray,\n",
       "  10: array([0., 0., 0.]),\n",
       "  11: numpy.dtype,\n",
       "  12: (3, 4),\n",
       "  13: array([[1., 1., 1., 1.],\n",
       "         [1., 1., 1., 1.],\n",
       "         [1., 1., 1., 1.]]),\n",
       "  15: array([[0.11, 0.11, 0.11, 0.11],\n",
       "         [0.11, 0.11, 0.11, 0.11],\n",
       "         [0.11, 0.11, 0.11, 0.11]]),\n",
       "  16: array([[3.14159265, 3.14159265, 3.14159265, 3.14159265],\n",
       "         [3.14159265, 3.14159265, 3.14159265, 3.14159265],\n",
       "         [3.14159265, 3.14159265, 3.14159265, 3.14159265]]),\n",
       "  17: array([10, 12, 14, 16, 18, 20, 22, 24, 26, 28]),\n",
       "  18: array([[0., 0., 0., 0.],\n",
       "         [0., 0., 0., 0.],\n",
       "         [0., 0., 0., 0.]]),\n",
       "  20: array([0. , 0.5, 1. , 1.5]),\n",
       "  21: (4000,),\n",
       "  24: 24,\n",
       "  25: array([[0.11, 0.11, 0.11, 0.11, 0.11, 0.11],\n",
       "         [0.11, 0.11, 0.11, 0.11, 0.11, 0.11],\n",
       "         [0.11, 0.11, 0.11, 0.11, 0.11, 0.11],\n",
       "         [0.11, 0.11, 0.11, 0.11, 0.11, 0.11]]),\n",
       "  26: (2, 3, 4),\n",
       "  29: array([ 0.,  5., 10.]),\n",
       "  30: array([ 0.        ,  0.20408163,  0.40816327,  0.6122449 ,  0.81632653,\n",
       "          1.02040816,  1.2244898 ,  1.42857143,  1.63265306,  1.83673469,\n",
       "          2.04081633,  2.24489796,  2.44897959,  2.65306122,  2.85714286,\n",
       "          3.06122449,  3.26530612,  3.46938776,  3.67346939,  3.87755102,\n",
       "          4.08163265,  4.28571429,  4.48979592,  4.69387755,  4.89795918,\n",
       "          5.10204082,  5.30612245,  5.51020408,  5.71428571,  5.91836735,\n",
       "          6.12244898,  6.32653061,  6.53061224,  6.73469388,  6.93877551,\n",
       "          7.14285714,  7.34693878,  7.55102041,  7.75510204,  7.95918367,\n",
       "          8.16326531,  8.36734694,  8.57142857,  8.7755102 ,  8.97959184,\n",
       "          9.18367347,  9.3877551 ,  9.59183673,  9.79591837, 10.        ]),\n",
       "  31: array([0.        , 0.33333333, 0.66666667, 1.        , 1.33333333,\n",
       "         1.66666667]),\n",
       "  34: array([[0.38092898, 0.99601879, 0.11131878],\n",
       "         [0.05862443, 0.03570885, 0.23933775]]),\n",
       "  35: 2,\n",
       "  36: (2, 3),\n",
       "  37: 6,\n",
       "  38: array([[0.38092898, 0.99601879, 0.11131878],\n",
       "         [0.05862443, 0.03570885, 0.23933775]]),\n",
       "  39: array([0.38092898, 0.99601879, 0.11131878]),\n",
       "  40: array([0.05862443, 0.03570885, 0.23933775]),\n",
       "  41: 0.05862443334744938,\n",
       "  42: 0.05862443334744938,\n",
       "  44: array([1, 2, 3, 4]),\n",
       "  45: dtype('int32'),\n",
       "  46: 4,\n",
       "  50: array([ 0,  1,  2,  3,  4,  5,  6,  7,  8,  9, 10, 11, 12, 13, 14, 15, 16,\n",
       "         17, 18, 19, 20, 21, 22, 23]),\n",
       "  52: array([[0.79004403, 1.95713609, 1.61721389, 1.904343  ],\n",
       "         [1.10220461, 0.55745012, 0.55578683, 1.93562628]]),\n",
       "  55: ['ALLOW_THREADS',\n",
       "   'AxisError',\n",
       "   'BUFSIZE',\n",
       "   'CLIP',\n",
       "   'ComplexWarning',\n",
       "   'DataSource',\n",
       "   'ERR_CALL',\n",
       "   'ERR_DEFAULT',\n",
       "   'ERR_IGNORE',\n",
       "   'ERR_LOG',\n",
       "   'ERR_PRINT',\n",
       "   'ERR_RAISE',\n",
       "   'ERR_WARN',\n",
       "   'FLOATING_POINT_SUPPORT',\n",
       "   'FPE_DIVIDEBYZERO',\n",
       "   'FPE_INVALID',\n",
       "   'FPE_OVERFLOW',\n",
       "   'FPE_UNDERFLOW',\n",
       "   'False_',\n",
       "   'Inf',\n",
       "   'Infinity',\n",
       "   'MAXDIMS',\n",
       "   'MAY_SHARE_BOUNDS',\n",
       "   'MAY_SHARE_EXACT',\n",
       "   'MachAr',\n",
       "   'ModuleDeprecationWarning',\n",
       "   'NAN',\n",
       "   'NINF',\n",
       "   'NZERO',\n",
       "   'NaN',\n",
       "   'PINF',\n",
       "   'PZERO',\n",
       "   'RAISE',\n",
       "   'RankWarning',\n",
       "   'SHIFT_DIVIDEBYZERO',\n",
       "   'SHIFT_INVALID',\n",
       "   'SHIFT_OVERFLOW',\n",
       "   'SHIFT_UNDERFLOW',\n",
       "   'ScalarType',\n",
       "   'Tester',\n",
       "   'TooHardError',\n",
       "   'True_',\n",
       "   'UFUNC_BUFSIZE_DEFAULT',\n",
       "   'UFUNC_PYVALS_NAME',\n",
       "   'VisibleDeprecationWarning',\n",
       "   'WRAP',\n",
       "   '_NoValue',\n",
       "   '_UFUNC_API',\n",
       "   '__NUMPY_SETUP__',\n",
       "   '__all__',\n",
       "   '__builtins__',\n",
       "   '__cached__',\n",
       "   '__config__',\n",
       "   '__doc__',\n",
       "   '__file__',\n",
       "   '__git_revision__',\n",
       "   '__loader__',\n",
       "   '__mkl_version__',\n",
       "   '__name__',\n",
       "   '__package__',\n",
       "   '__path__',\n",
       "   '__spec__',\n",
       "   '__version__',\n",
       "   '_add_newdoc_ufunc',\n",
       "   '_distributor_init',\n",
       "   '_globals',\n",
       "   '_mat',\n",
       "   '_pytesttester',\n",
       "   'abs',\n",
       "   'absolute',\n",
       "   'add',\n",
       "   'add_docstring',\n",
       "   'add_newdoc',\n",
       "   'add_newdoc_ufunc',\n",
       "   'alen',\n",
       "   'all',\n",
       "   'allclose',\n",
       "   'alltrue',\n",
       "   'amax',\n",
       "   'amin',\n",
       "   'angle',\n",
       "   'any',\n",
       "   'append',\n",
       "   'apply_along_axis',\n",
       "   'apply_over_axes',\n",
       "   'arange',\n",
       "   'arccos',\n",
       "   'arccosh',\n",
       "   'arcsin',\n",
       "   'arcsinh',\n",
       "   'arctan',\n",
       "   'arctan2',\n",
       "   'arctanh',\n",
       "   'argmax',\n",
       "   'argmin',\n",
       "   'argpartition',\n",
       "   'argsort',\n",
       "   'argwhere',\n",
       "   'around',\n",
       "   'array',\n",
       "   'array2string',\n",
       "   'array_equal',\n",
       "   'array_equiv',\n",
       "   'array_repr',\n",
       "   'array_split',\n",
       "   'array_str',\n",
       "   'asanyarray',\n",
       "   'asarray',\n",
       "   'asarray_chkfinite',\n",
       "   'ascontiguousarray',\n",
       "   'asfarray',\n",
       "   'asfortranarray',\n",
       "   'asmatrix',\n",
       "   'asscalar',\n",
       "   'atleast_1d',\n",
       "   'atleast_2d',\n",
       "   'atleast_3d',\n",
       "   'average',\n",
       "   'bartlett',\n",
       "   'base_repr',\n",
       "   'binary_repr',\n",
       "   'bincount',\n",
       "   'bitwise_and',\n",
       "   'bitwise_not',\n",
       "   'bitwise_or',\n",
       "   'bitwise_xor',\n",
       "   'blackman',\n",
       "   'block',\n",
       "   'bmat',\n",
       "   'bool',\n",
       "   'bool8',\n",
       "   'bool_',\n",
       "   'broadcast',\n",
       "   'broadcast_arrays',\n",
       "   'broadcast_to',\n",
       "   'busday_count',\n",
       "   'busday_offset',\n",
       "   'busdaycalendar',\n",
       "   'byte',\n",
       "   'byte_bounds',\n",
       "   'bytes0',\n",
       "   'bytes_',\n",
       "   'c_',\n",
       "   'can_cast',\n",
       "   'cast',\n",
       "   'cbrt',\n",
       "   'cdouble',\n",
       "   'ceil',\n",
       "   'cfloat',\n",
       "   'char',\n",
       "   'character',\n",
       "   'chararray',\n",
       "   'choose',\n",
       "   'clip',\n",
       "   'clongdouble',\n",
       "   'clongfloat',\n",
       "   'column_stack',\n",
       "   'common_type',\n",
       "   'compare_chararrays',\n",
       "   'compat',\n",
       "   'complex',\n",
       "   'complex128',\n",
       "   'complex64',\n",
       "   'complex_',\n",
       "   'complexfloating',\n",
       "   'compress',\n",
       "   'concatenate',\n",
       "   'conj',\n",
       "   'conjugate',\n",
       "   'convolve',\n",
       "   'copy',\n",
       "   'copysign',\n",
       "   'copyto',\n",
       "   'core',\n",
       "   'corrcoef',\n",
       "   'correlate',\n",
       "   'cos',\n",
       "   'cosh',\n",
       "   'count_nonzero',\n",
       "   'cov',\n",
       "   'cross',\n",
       "   'csingle',\n",
       "   'ctypeslib',\n",
       "   'cumprod',\n",
       "   'cumproduct',\n",
       "   'cumsum',\n",
       "   'datetime64',\n",
       "   'datetime_as_string',\n",
       "   'datetime_data',\n",
       "   'deg2rad',\n",
       "   'degrees',\n",
       "   'delete',\n",
       "   'deprecate',\n",
       "   'deprecate_with_doc',\n",
       "   'diag',\n",
       "   'diag_indices',\n",
       "   'diag_indices_from',\n",
       "   'diagflat',\n",
       "   'diagonal',\n",
       "   'diff',\n",
       "   'digitize',\n",
       "   'disp',\n",
       "   'divide',\n",
       "   'divmod',\n",
       "   'dot',\n",
       "   'double',\n",
       "   'dsplit',\n",
       "   'dstack',\n",
       "   'dtype',\n",
       "   'e',\n",
       "   'ediff1d',\n",
       "   'einsum',\n",
       "   'einsum_path',\n",
       "   'emath',\n",
       "   'empty',\n",
       "   'empty_like',\n",
       "   'equal',\n",
       "   'errstate',\n",
       "   'euler_gamma',\n",
       "   'exp',\n",
       "   'exp2',\n",
       "   'expand_dims',\n",
       "   'expm1',\n",
       "   'extract',\n",
       "   'eye',\n",
       "   'fabs',\n",
       "   'fastCopyAndTranspose',\n",
       "   'fft',\n",
       "   'fill_diagonal',\n",
       "   'find_common_type',\n",
       "   'finfo',\n",
       "   'fix',\n",
       "   'flatiter',\n",
       "   'flatnonzero',\n",
       "   'flexible',\n",
       "   'flip',\n",
       "   'fliplr',\n",
       "   'flipud',\n",
       "   'float',\n",
       "   'float16',\n",
       "   'float32',\n",
       "   'float64',\n",
       "   'float_',\n",
       "   'float_power',\n",
       "   'floating',\n",
       "   'floor',\n",
       "   'floor_divide',\n",
       "   'fmax',\n",
       "   'fmin',\n",
       "   'fmod',\n",
       "   'format_float_positional',\n",
       "   'format_float_scientific',\n",
       "   'format_parser',\n",
       "   'frexp',\n",
       "   'frombuffer',\n",
       "   'fromfile',\n",
       "   'fromfunction',\n",
       "   'fromiter',\n",
       "   'frompyfunc',\n",
       "   'fromregex',\n",
       "   'fromstring',\n",
       "   'full',\n",
       "   'full_like',\n",
       "   'fv',\n",
       "   'gcd',\n",
       "   'generic',\n",
       "   'genfromtxt',\n",
       "   'geomspace',\n",
       "   'get_array_wrap',\n",
       "   'get_include',\n",
       "   'get_printoptions',\n",
       "   'getbufsize',\n",
       "   'geterr',\n",
       "   'geterrcall',\n",
       "   'geterrobj',\n",
       "   'gradient',\n",
       "   'greater',\n",
       "   'greater_equal',\n",
       "   'half',\n",
       "   'hamming',\n",
       "   'hanning',\n",
       "   'heaviside',\n",
       "   'histogram',\n",
       "   'histogram2d',\n",
       "   'histogram_bin_edges',\n",
       "   'histogramdd',\n",
       "   'hsplit',\n",
       "   'hstack',\n",
       "   'hypot',\n",
       "   'i0',\n",
       "   'identity',\n",
       "   'iinfo',\n",
       "   'imag',\n",
       "   'in1d',\n",
       "   'index_exp',\n",
       "   'indices',\n",
       "   'inexact',\n",
       "   'inf',\n",
       "   'info',\n",
       "   'infty',\n",
       "   'inner',\n",
       "   'insert',\n",
       "   'int',\n",
       "   'int0',\n",
       "   'int16',\n",
       "   'int32',\n",
       "   'int64',\n",
       "   'int8',\n",
       "   'int_',\n",
       "   'intc',\n",
       "   'integer',\n",
       "   'interp',\n",
       "   'intersect1d',\n",
       "   'intp',\n",
       "   'invert',\n",
       "   'ipmt',\n",
       "   'irr',\n",
       "   'is_busday',\n",
       "   'isclose',\n",
       "   'iscomplex',\n",
       "   'iscomplexobj',\n",
       "   'isfinite',\n",
       "   'isfortran',\n",
       "   'isin',\n",
       "   'isinf',\n",
       "   'isnan',\n",
       "   'isnat',\n",
       "   'isneginf',\n",
       "   'isposinf',\n",
       "   'isreal',\n",
       "   'isrealobj',\n",
       "   'isscalar',\n",
       "   'issctype',\n",
       "   'issubclass_',\n",
       "   'issubdtype',\n",
       "   'issubsctype',\n",
       "   'iterable',\n",
       "   'ix_',\n",
       "   'kaiser',\n",
       "   'kron',\n",
       "   'lcm',\n",
       "   'ldexp',\n",
       "   'left_shift',\n",
       "   'less',\n",
       "   'less_equal',\n",
       "   'lexsort',\n",
       "   'lib',\n",
       "   'linalg',\n",
       "   'linspace',\n",
       "   'little_endian',\n",
       "   'load',\n",
       "   'loads',\n",
       "   'loadtxt',\n",
       "   'log',\n",
       "   'log10',\n",
       "   'log1p',\n",
       "   'log2',\n",
       "   'logaddexp',\n",
       "   'logaddexp2',\n",
       "   'logical_and',\n",
       "   'logical_not',\n",
       "   'logical_or',\n",
       "   'logical_xor',\n",
       "   'logspace',\n",
       "   'long',\n",
       "   'longcomplex',\n",
       "   'longdouble',\n",
       "   'longfloat',\n",
       "   'longlong',\n",
       "   'lookfor',\n",
       "   'ma',\n",
       "   'mafromtxt',\n",
       "   'mask_indices',\n",
       "   'mat',\n",
       "   'math',\n",
       "   'matmul',\n",
       "   'matrix',\n",
       "   'matrixlib',\n",
       "   'max',\n",
       "   'maximum',\n",
       "   'maximum_sctype',\n",
       "   'may_share_memory',\n",
       "   'mean',\n",
       "   'median',\n",
       "   'memmap',\n",
       "   'meshgrid',\n",
       "   'mgrid',\n",
       "   'min',\n",
       "   'min_scalar_type',\n",
       "   'minimum',\n",
       "   'mintypecode',\n",
       "   'mirr',\n",
       "   'mkl',\n",
       "   'mod',\n",
       "   'modf',\n",
       "   'moveaxis',\n",
       "   'msort',\n",
       "   'multiply',\n",
       "   'nan',\n",
       "   'nan_to_num',\n",
       "   'nanargmax',\n",
       "   'nanargmin',\n",
       "   'nancumprod',\n",
       "   'nancumsum',\n",
       "   'nanmax',\n",
       "   'nanmean',\n",
       "   'nanmedian',\n",
       "   'nanmin',\n",
       "   'nanpercentile',\n",
       "   'nanprod',\n",
       "   'nanquantile',\n",
       "   'nanstd',\n",
       "   'nansum',\n",
       "   'nanvar',\n",
       "   'nbytes',\n",
       "   'ndarray',\n",
       "   'ndenumerate',\n",
       "   'ndfromtxt',\n",
       "   'ndim',\n",
       "   'ndindex',\n",
       "   'nditer',\n",
       "   'negative',\n",
       "   'nested_iters',\n",
       "   'newaxis',\n",
       "   'nextafter',\n",
       "   'nonzero',\n",
       "   'not_equal',\n",
       "   'nper',\n",
       "   'npv',\n",
       "   'numarray',\n",
       "   'number',\n",
       "   'obj2sctype',\n",
       "   'object',\n",
       "   'object0',\n",
       "   'object_',\n",
       "   'ogrid',\n",
       "   'oldnumeric',\n",
       "   'ones',\n",
       "   'ones_like',\n",
       "   'os',\n",
       "   'outer',\n",
       "   'packbits',\n",
       "   'pad',\n",
       "   'partition',\n",
       "   'percentile',\n",
       "   'pi',\n",
       "   'piecewise',\n",
       "   'place',\n",
       "   'pmt',\n",
       "   'poly',\n",
       "   'poly1d',\n",
       "   'polyadd',\n",
       "   'polyder',\n",
       "   'polydiv',\n",
       "   'polyfit',\n",
       "   'polyint',\n",
       "   'polymul',\n",
       "   'polynomial',\n",
       "   'polysub',\n",
       "   'polyval',\n",
       "   'positive',\n",
       "   'power',\n",
       "   'ppmt',\n",
       "   'printoptions',\n",
       "   'prod',\n",
       "   'product',\n",
       "   'promote_types',\n",
       "   'ptp',\n",
       "   'put',\n",
       "   'put_along_axis',\n",
       "   'putmask',\n",
       "   'pv',\n",
       "   'quantile',\n",
       "   'r_',\n",
       "   'rad2deg',\n",
       "   'radians',\n",
       "   'random',\n",
       "   'rate',\n",
       "   'ravel',\n",
       "   'ravel_multi_index',\n",
       "   'real',\n",
       "   'real_if_close',\n",
       "   'rec',\n",
       "   'recarray',\n",
       "   'recfromcsv',\n",
       "   'recfromtxt',\n",
       "   'reciprocal',\n",
       "   'record',\n",
       "   'remainder',\n",
       "   'repeat',\n",
       "   'require',\n",
       "   'reshape',\n",
       "   'resize',\n",
       "   'result_type',\n",
       "   'right_shift',\n",
       "   'rint',\n",
       "   'roll',\n",
       "   'rollaxis',\n",
       "   'roots',\n",
       "   'rot90',\n",
       "   'round',\n",
       "   'round_',\n",
       "   'row_stack',\n",
       "   's_',\n",
       "   'safe_eval',\n",
       "   'save',\n",
       "   'savetxt',\n",
       "   'savez',\n",
       "   'savez_compressed',\n",
       "   'sctype2char',\n",
       "   'sctypeDict',\n",
       "   'sctypeNA',\n",
       "   'sctypes',\n",
       "   'searchsorted',\n",
       "   'select',\n",
       "   'set_numeric_ops',\n",
       "   'set_printoptions',\n",
       "   'set_string_function',\n",
       "   'setbufsize',\n",
       "   'setdiff1d',\n",
       "   'seterr',\n",
       "   'seterrcall',\n",
       "   'seterrobj',\n",
       "   'setxor1d',\n",
       "   'shape',\n",
       "   'shares_memory',\n",
       "   'short',\n",
       "   'show_config',\n",
       "   'sign',\n",
       "   'signbit',\n",
       "   'signedinteger',\n",
       "   'sin',\n",
       "   'sinc',\n",
       "   'single',\n",
       "   'singlecomplex',\n",
       "   'sinh',\n",
       "   'size',\n",
       "   'sometrue',\n",
       "   'sort',\n",
       "   'sort_complex',\n",
       "   'source',\n",
       "   'spacing',\n",
       "   'split',\n",
       "   'sqrt',\n",
       "   'square',\n",
       "   'squeeze',\n",
       "   'stack',\n",
       "   'std',\n",
       "   'str',\n",
       "   'str0',\n",
       "   'str_',\n",
       "   'string_',\n",
       "   'subtract',\n",
       "   'sum',\n",
       "   'swapaxes',\n",
       "   'sys',\n",
       "   'take',\n",
       "   'take_along_axis',\n",
       "   'tan',\n",
       "   'tanh',\n",
       "   'tensordot',\n",
       "   'test',\n",
       "   'testing',\n",
       "   'tile',\n",
       "   'timedelta64',\n",
       "   'trace',\n",
       "   'tracemalloc_domain',\n",
       "   'transpose',\n",
       "   'trapz',\n",
       "   'tri',\n",
       "   'tril',\n",
       "   'tril_indices',\n",
       "   'tril_indices_from',\n",
       "   'trim_zeros',\n",
       "   'triu',\n",
       "   'triu_indices',\n",
       "   'triu_indices_from',\n",
       "   'true_divide',\n",
       "   'trunc',\n",
       "   'typeDict',\n",
       "   'typeNA',\n",
       "   'typecodes',\n",
       "   'typename',\n",
       "   'ubyte',\n",
       "   'ufunc',\n",
       "   'uint',\n",
       "   'uint0',\n",
       "   'uint16',\n",
       "   'uint32',\n",
       "   'uint64',\n",
       "   'uint8',\n",
       "   'uintc',\n",
       "   'uintp',\n",
       "   'ulonglong',\n",
       "   'unicode',\n",
       "   'unicode_',\n",
       "   'union1d',\n",
       "   'unique',\n",
       "   'unpackbits',\n",
       "   'unravel_index',\n",
       "   'unsignedinteger',\n",
       "   'unwrap',\n",
       "   'use_hugepage',\n",
       "   'ushort',\n",
       "   'vander',\n",
       "   'var',\n",
       "   'vdot',\n",
       "   'vectorize',\n",
       "   'version',\n",
       "   'void',\n",
       "   'void0',\n",
       "   'vsplit',\n",
       "   'vstack',\n",
       "   'warnings',\n",
       "   'where',\n",
       "   'who',\n",
       "   'zeros',\n",
       "   'zeros_like'],\n",
       "  56: 5,\n",
       "  57: array([ 3, 19, 13]),\n",
       "  58: array([ 1,  5,  3, 19, 13,  7,  3]),\n",
       "  59: array([ 5, 19,  7])},\n",
       " 'get_ipython': <bound method InteractiveShell.get_ipython of <ipykernel.zmqshell.ZMQInteractiveShell object at 0x000001F768CDA0F0>>,\n",
       " 'exit': <IPython.core.autocall.ZMQExitAutocall at 0x1f768d0c978>,\n",
       " 'quit': <IPython.core.autocall.ZMQExitAutocall at 0x1f768d0c978>,\n",
       " '_': array([ 5, 19,  7]),\n",
       " '__': array([ 1,  5,  3, 19, 13,  7,  3]),\n",
       " '___': array([ 3, 19, 13]),\n",
       " '_i': 'a[1:6:2]',\n",
       " '_ii': 'a',\n",
       " '_iii': 'a[2:5]',\n",
       " '_i1': 'a[:,3]',\n",
       " '_i2': 'import numpy as np',\n",
       " 'np': <module 'numpy' from 'C:\\\\Users\\\\prateek saurabh\\\\Anaconda3\\\\lib\\\\site-packages\\\\numpy\\\\__init__.py'>,\n",
       " '_i3': 'a = np.array([1, 2, 3])\\na',\n",
       " 'a': array([ 1,  5,  3, 19, 13,  7,  3]),\n",
       " '_3': array([1, 2, 3]),\n",
       " '_i4': 'type(a)',\n",
       " '_4': numpy.ndarray,\n",
       " '_i5': 'a.ndim',\n",
       " '_5': 1,\n",
       " '_i6': 'type(a)',\n",
       " '_6': numpy.ndarray,\n",
       " '_i7': 'b = np.array((3, 4, 5))\\nb',\n",
       " 'b': array([[[ 0,  1,  2,  3],\n",
       "         [ 4,  5,  6,  7],\n",
       "         [ 8,  9, 10, 11]],\n",
       " \n",
       "        [[12, 13, 14, 15],\n",
       "         [16, 17, 18, 19],\n",
       "         [20, 21, 22, 23]]]),\n",
       " '_7': array([3, 4, 5]),\n",
       " '_i8': 'type(b)',\n",
       " '_8': numpy.ndarray,\n",
       " '_i9': 'x = np.zeros((2,3,4))\\nprint(x)',\n",
       " 'x': array([[0.38092898, 0.99601879, 0.11131878],\n",
       "        [0.05862443, 0.03570885, 0.23933775]]),\n",
       " '_i10': 'np.zeros(3)',\n",
       " '_10': array([0., 0., 0.]),\n",
       " '_i11': 'x = np.zeros((3,4))  \\nprint(x)\\ntype(x.dtype)',\n",
       " '_11': numpy.dtype,\n",
       " '_i12': 'x.shape',\n",
       " '_12': (3, 4),\n",
       " '_i13': 'y = np.ones( (3,4), dtype=np.float64 )  \\ny',\n",
       " 'y': array([[1., 1., 1., 1.],\n",
       "        [1., 1., 1., 1.],\n",
       "        [1., 1., 1., 1.]]),\n",
       " '_13': array([[1., 1., 1., 1.],\n",
       "        [1., 1., 1., 1.],\n",
       "        [1., 1., 1., 1.]]),\n",
       " '_i14': 'print(x.dtype)\\nprint(y.dtype)',\n",
       " '_i15': 'np.full( (3,4), 0.11)',\n",
       " '_15': array([[0.11, 0.11, 0.11, 0.11],\n",
       "        [0.11, 0.11, 0.11, 0.11],\n",
       "        [0.11, 0.11, 0.11, 0.11]]),\n",
       " '_i16': 'np.full( (3,4), np.pi )',\n",
       " '_16': array([[3.14159265, 3.14159265, 3.14159265, 3.14159265],\n",
       "        [3.14159265, 3.14159265, 3.14159265, 3.14159265],\n",
       "        [3.14159265, 3.14159265, 3.14159265, 3.14159265]]),\n",
       " '_i17': 'np.arange( 10, 30, 2 )',\n",
       " '_17': array([10, 12, 14, 16, 18, 20, 22, 24, 26, 28]),\n",
       " '_i18': 'x',\n",
       " '_18': array([[0., 0., 0., 0.],\n",
       "        [0., 0., 0., 0.],\n",
       "        [0., 0., 0., 0.]]),\n",
       " '_i19': '%timeit np.arange(1, 100, 0.1)',\n",
       " '_i20': 'np.arange( 0, 2, 0.5 )',\n",
       " '_20': array([0. , 0.5, 1. , 1.5]),\n",
       " '_i21': 'np.arange( 0, 20, 0.005 ).shape',\n",
       " '_21': (4000,),\n",
       " '_i22': 'x = [\\n        [\\n            1,2,3,4\\n        ],\\n        [\\n            1,2,2,2\\n        ]\\n]\\nx1 = np.array(x)\\nprint(x1)\\nprint(x1.shape)',\n",
       " 'x1': array([[1, 2, 3, 4],\n",
       "        [1, 2, 2, 2]]),\n",
       " '_i23': 'three_d_array = np.full((2,3,4), 0.11)\\nprint(three_d_array)',\n",
       " 'three_d_array': array([[[0.11, 0.11, 0.11, 0.11],\n",
       "         [0.11, 0.11, 0.11, 0.11],\n",
       "         [0.11, 0.11, 0.11, 0.11]],\n",
       " \n",
       "        [[0.11, 0.11, 0.11, 0.11],\n",
       "         [0.11, 0.11, 0.11, 0.11],\n",
       "         [0.11, 0.11, 0.11, 0.11]]]),\n",
       " '_i24': 'three_d_array.size',\n",
       " '_24': 24,\n",
       " '_i25': 'three_d_array.reshape(-1, 6)',\n",
       " '_25': array([[0.11, 0.11, 0.11, 0.11, 0.11, 0.11],\n",
       "        [0.11, 0.11, 0.11, 0.11, 0.11, 0.11],\n",
       "        [0.11, 0.11, 0.11, 0.11, 0.11, 0.11],\n",
       "        [0.11, 0.11, 0.11, 0.11, 0.11, 0.11]]),\n",
       " '_i26': 'three_d_array.shape',\n",
       " '_26': (2, 3, 4),\n",
       " '_i27': 'x = [\\n        [\\n            [1, 3],\\n            [1, 3], \\n            [1, 3],\\n            [1, 3]\\n        ],\\n#         [\\n#             [1, 3],\\n#             [1, 3], \\n#             [1, 3],\\n#             [1, 3]\\n#         ]\\n]',\n",
       " '_i28': 'xx = np.array(x)\\nprint(xx.shape)\\nprint(xx)',\n",
       " 'xx': array([[[1, 3],\n",
       "         [1, 3],\n",
       "         [1, 3],\n",
       "         [1, 3]]]),\n",
       " '_i29': 'np.linspace(0, 10, 3)',\n",
       " '_29': array([ 0.,  5., 10.]),\n",
       " '_i30': 'np.linspace(0, 10, 50)',\n",
       " '_30': array([ 0.        ,  0.20408163,  0.40816327,  0.6122449 ,  0.81632653,\n",
       "         1.02040816,  1.2244898 ,  1.42857143,  1.63265306,  1.83673469,\n",
       "         2.04081633,  2.24489796,  2.44897959,  2.65306122,  2.85714286,\n",
       "         3.06122449,  3.26530612,  3.46938776,  3.67346939,  3.87755102,\n",
       "         4.08163265,  4.28571429,  4.48979592,  4.69387755,  4.89795918,\n",
       "         5.10204082,  5.30612245,  5.51020408,  5.71428571,  5.91836735,\n",
       "         6.12244898,  6.32653061,  6.53061224,  6.73469388,  6.93877551,\n",
       "         7.14285714,  7.34693878,  7.55102041,  7.75510204,  7.95918367,\n",
       "         8.16326531,  8.36734694,  8.57142857,  8.7755102 ,  8.97959184,\n",
       "         9.18367347,  9.3877551 ,  9.59183673,  9.79591837, 10.        ]),\n",
       " '_i31': 'np.linspace(0, 5/3, 6)',\n",
       " '_31': array([0.        , 0.33333333, 0.66666667, 1.        , 1.33333333,\n",
       "        1.66666667]),\n",
       " '_i32': '# Make a 2x3 matrix having random floats between 0 and 1:\\nx = np.random.rand(2,3)\\nprint(x)',\n",
       " '_i33': 'x = np.empty((2,3))',\n",
       " '_i34': 'x',\n",
       " '_34': array([[0.38092898, 0.99601879, 0.11131878],\n",
       "        [0.05862443, 0.03570885, 0.23933775]]),\n",
       " '_i35': 'x.ndim',\n",
       " '_35': 2,\n",
       " '_i36': 'x.shape',\n",
       " '_36': (2, 3),\n",
       " '_i37': 'x.size',\n",
       " '_37': 6,\n",
       " '_i38': 'x',\n",
       " '_38': array([[0.38092898, 0.99601879, 0.11131878],\n",
       "        [0.05862443, 0.03570885, 0.23933775]]),\n",
       " '_i39': 'x[0]',\n",
       " '_39': array([0.38092898, 0.99601879, 0.11131878]),\n",
       " '_i40': 'x[1]',\n",
       " '_40': array([0.05862443, 0.03570885, 0.23933775]),\n",
       " '_i41': 'x[1][0]',\n",
       " '_41': 0.05862443334744938,\n",
       " '_i42': 'x[1,0]',\n",
       " '_42': 0.05862443334744938,\n",
       " '_i43': 'c = np.arange(1, 5)',\n",
       " 'c': array([1, 2, 3, 4]),\n",
       " '_i44': 'c',\n",
       " '_44': array([1, 2, 3, 4]),\n",
       " '_i45': 'c.dtype',\n",
       " '_45': dtype('int32'),\n",
       " '_i46': 'c.itemsize',\n",
       " '_46': 4,\n",
       " '_i47': 'a = np.arange(6)\\nprint(a)',\n",
       " '_i48': 'b = a.reshape(3,2)\\nprint(b)',\n",
       " '_i49': 'a = np.arange(24)\\nprint(a)\\nb = a.reshape(2,3,4)\\nprint(b)',\n",
       " '_i50': 'b.reshape(-1)',\n",
       " '_50': array([ 0,  1,  2,  3,  4,  5,  6,  7,  8,  9, 10, 11, 12, 13, 14, 15, 16,\n",
       "        17, 18, 19, 20, 21, 22, 23]),\n",
       " '_i51': '# Create a 2x4 array filled with numbers between 0 to 2\\na = np.random.rand(2,4)*2',\n",
       " '_i52': 'a',\n",
       " '_52': array([[0.79004403, 1.95713609, 1.61721389, 1.904343  ],\n",
       "        [1.10220461, 0.55745012, 0.55578683, 1.93562628]]),\n",
       " '_i53': 'a = np.arange(50)\\nprint(a)\\nprint(a.reshape(-1, 5))',\n",
       " '_i54': 'np.RAISE?',\n",
       " '_i55': 'dir(np)',\n",
       " '_55': ['ALLOW_THREADS',\n",
       "  'AxisError',\n",
       "  'BUFSIZE',\n",
       "  'CLIP',\n",
       "  'ComplexWarning',\n",
       "  'DataSource',\n",
       "  'ERR_CALL',\n",
       "  'ERR_DEFAULT',\n",
       "  'ERR_IGNORE',\n",
       "  'ERR_LOG',\n",
       "  'ERR_PRINT',\n",
       "  'ERR_RAISE',\n",
       "  'ERR_WARN',\n",
       "  'FLOATING_POINT_SUPPORT',\n",
       "  'FPE_DIVIDEBYZERO',\n",
       "  'FPE_INVALID',\n",
       "  'FPE_OVERFLOW',\n",
       "  'FPE_UNDERFLOW',\n",
       "  'False_',\n",
       "  'Inf',\n",
       "  'Infinity',\n",
       "  'MAXDIMS',\n",
       "  'MAY_SHARE_BOUNDS',\n",
       "  'MAY_SHARE_EXACT',\n",
       "  'MachAr',\n",
       "  'ModuleDeprecationWarning',\n",
       "  'NAN',\n",
       "  'NINF',\n",
       "  'NZERO',\n",
       "  'NaN',\n",
       "  'PINF',\n",
       "  'PZERO',\n",
       "  'RAISE',\n",
       "  'RankWarning',\n",
       "  'SHIFT_DIVIDEBYZERO',\n",
       "  'SHIFT_INVALID',\n",
       "  'SHIFT_OVERFLOW',\n",
       "  'SHIFT_UNDERFLOW',\n",
       "  'ScalarType',\n",
       "  'Tester',\n",
       "  'TooHardError',\n",
       "  'True_',\n",
       "  'UFUNC_BUFSIZE_DEFAULT',\n",
       "  'UFUNC_PYVALS_NAME',\n",
       "  'VisibleDeprecationWarning',\n",
       "  'WRAP',\n",
       "  '_NoValue',\n",
       "  '_UFUNC_API',\n",
       "  '__NUMPY_SETUP__',\n",
       "  '__all__',\n",
       "  '__builtins__',\n",
       "  '__cached__',\n",
       "  '__config__',\n",
       "  '__doc__',\n",
       "  '__file__',\n",
       "  '__git_revision__',\n",
       "  '__loader__',\n",
       "  '__mkl_version__',\n",
       "  '__name__',\n",
       "  '__package__',\n",
       "  '__path__',\n",
       "  '__spec__',\n",
       "  '__version__',\n",
       "  '_add_newdoc_ufunc',\n",
       "  '_distributor_init',\n",
       "  '_globals',\n",
       "  '_mat',\n",
       "  '_pytesttester',\n",
       "  'abs',\n",
       "  'absolute',\n",
       "  'add',\n",
       "  'add_docstring',\n",
       "  'add_newdoc',\n",
       "  'add_newdoc_ufunc',\n",
       "  'alen',\n",
       "  'all',\n",
       "  'allclose',\n",
       "  'alltrue',\n",
       "  'amax',\n",
       "  'amin',\n",
       "  'angle',\n",
       "  'any',\n",
       "  'append',\n",
       "  'apply_along_axis',\n",
       "  'apply_over_axes',\n",
       "  'arange',\n",
       "  'arccos',\n",
       "  'arccosh',\n",
       "  'arcsin',\n",
       "  'arcsinh',\n",
       "  'arctan',\n",
       "  'arctan2',\n",
       "  'arctanh',\n",
       "  'argmax',\n",
       "  'argmin',\n",
       "  'argpartition',\n",
       "  'argsort',\n",
       "  'argwhere',\n",
       "  'around',\n",
       "  'array',\n",
       "  'array2string',\n",
       "  'array_equal',\n",
       "  'array_equiv',\n",
       "  'array_repr',\n",
       "  'array_split',\n",
       "  'array_str',\n",
       "  'asanyarray',\n",
       "  'asarray',\n",
       "  'asarray_chkfinite',\n",
       "  'ascontiguousarray',\n",
       "  'asfarray',\n",
       "  'asfortranarray',\n",
       "  'asmatrix',\n",
       "  'asscalar',\n",
       "  'atleast_1d',\n",
       "  'atleast_2d',\n",
       "  'atleast_3d',\n",
       "  'average',\n",
       "  'bartlett',\n",
       "  'base_repr',\n",
       "  'binary_repr',\n",
       "  'bincount',\n",
       "  'bitwise_and',\n",
       "  'bitwise_not',\n",
       "  'bitwise_or',\n",
       "  'bitwise_xor',\n",
       "  'blackman',\n",
       "  'block',\n",
       "  'bmat',\n",
       "  'bool',\n",
       "  'bool8',\n",
       "  'bool_',\n",
       "  'broadcast',\n",
       "  'broadcast_arrays',\n",
       "  'broadcast_to',\n",
       "  'busday_count',\n",
       "  'busday_offset',\n",
       "  'busdaycalendar',\n",
       "  'byte',\n",
       "  'byte_bounds',\n",
       "  'bytes0',\n",
       "  'bytes_',\n",
       "  'c_',\n",
       "  'can_cast',\n",
       "  'cast',\n",
       "  'cbrt',\n",
       "  'cdouble',\n",
       "  'ceil',\n",
       "  'cfloat',\n",
       "  'char',\n",
       "  'character',\n",
       "  'chararray',\n",
       "  'choose',\n",
       "  'clip',\n",
       "  'clongdouble',\n",
       "  'clongfloat',\n",
       "  'column_stack',\n",
       "  'common_type',\n",
       "  'compare_chararrays',\n",
       "  'compat',\n",
       "  'complex',\n",
       "  'complex128',\n",
       "  'complex64',\n",
       "  'complex_',\n",
       "  'complexfloating',\n",
       "  'compress',\n",
       "  'concatenate',\n",
       "  'conj',\n",
       "  'conjugate',\n",
       "  'convolve',\n",
       "  'copy',\n",
       "  'copysign',\n",
       "  'copyto',\n",
       "  'core',\n",
       "  'corrcoef',\n",
       "  'correlate',\n",
       "  'cos',\n",
       "  'cosh',\n",
       "  'count_nonzero',\n",
       "  'cov',\n",
       "  'cross',\n",
       "  'csingle',\n",
       "  'ctypeslib',\n",
       "  'cumprod',\n",
       "  'cumproduct',\n",
       "  'cumsum',\n",
       "  'datetime64',\n",
       "  'datetime_as_string',\n",
       "  'datetime_data',\n",
       "  'deg2rad',\n",
       "  'degrees',\n",
       "  'delete',\n",
       "  'deprecate',\n",
       "  'deprecate_with_doc',\n",
       "  'diag',\n",
       "  'diag_indices',\n",
       "  'diag_indices_from',\n",
       "  'diagflat',\n",
       "  'diagonal',\n",
       "  'diff',\n",
       "  'digitize',\n",
       "  'disp',\n",
       "  'divide',\n",
       "  'divmod',\n",
       "  'dot',\n",
       "  'double',\n",
       "  'dsplit',\n",
       "  'dstack',\n",
       "  'dtype',\n",
       "  'e',\n",
       "  'ediff1d',\n",
       "  'einsum',\n",
       "  'einsum_path',\n",
       "  'emath',\n",
       "  'empty',\n",
       "  'empty_like',\n",
       "  'equal',\n",
       "  'errstate',\n",
       "  'euler_gamma',\n",
       "  'exp',\n",
       "  'exp2',\n",
       "  'expand_dims',\n",
       "  'expm1',\n",
       "  'extract',\n",
       "  'eye',\n",
       "  'fabs',\n",
       "  'fastCopyAndTranspose',\n",
       "  'fft',\n",
       "  'fill_diagonal',\n",
       "  'find_common_type',\n",
       "  'finfo',\n",
       "  'fix',\n",
       "  'flatiter',\n",
       "  'flatnonzero',\n",
       "  'flexible',\n",
       "  'flip',\n",
       "  'fliplr',\n",
       "  'flipud',\n",
       "  'float',\n",
       "  'float16',\n",
       "  'float32',\n",
       "  'float64',\n",
       "  'float_',\n",
       "  'float_power',\n",
       "  'floating',\n",
       "  'floor',\n",
       "  'floor_divide',\n",
       "  'fmax',\n",
       "  'fmin',\n",
       "  'fmod',\n",
       "  'format_float_positional',\n",
       "  'format_float_scientific',\n",
       "  'format_parser',\n",
       "  'frexp',\n",
       "  'frombuffer',\n",
       "  'fromfile',\n",
       "  'fromfunction',\n",
       "  'fromiter',\n",
       "  'frompyfunc',\n",
       "  'fromregex',\n",
       "  'fromstring',\n",
       "  'full',\n",
       "  'full_like',\n",
       "  'fv',\n",
       "  'gcd',\n",
       "  'generic',\n",
       "  'genfromtxt',\n",
       "  'geomspace',\n",
       "  'get_array_wrap',\n",
       "  'get_include',\n",
       "  'get_printoptions',\n",
       "  'getbufsize',\n",
       "  'geterr',\n",
       "  'geterrcall',\n",
       "  'geterrobj',\n",
       "  'gradient',\n",
       "  'greater',\n",
       "  'greater_equal',\n",
       "  'half',\n",
       "  'hamming',\n",
       "  'hanning',\n",
       "  'heaviside',\n",
       "  'histogram',\n",
       "  'histogram2d',\n",
       "  'histogram_bin_edges',\n",
       "  'histogramdd',\n",
       "  'hsplit',\n",
       "  'hstack',\n",
       "  'hypot',\n",
       "  'i0',\n",
       "  'identity',\n",
       "  'iinfo',\n",
       "  'imag',\n",
       "  'in1d',\n",
       "  'index_exp',\n",
       "  'indices',\n",
       "  'inexact',\n",
       "  'inf',\n",
       "  'info',\n",
       "  'infty',\n",
       "  'inner',\n",
       "  'insert',\n",
       "  'int',\n",
       "  'int0',\n",
       "  'int16',\n",
       "  'int32',\n",
       "  'int64',\n",
       "  'int8',\n",
       "  'int_',\n",
       "  'intc',\n",
       "  'integer',\n",
       "  'interp',\n",
       "  'intersect1d',\n",
       "  'intp',\n",
       "  'invert',\n",
       "  'ipmt',\n",
       "  'irr',\n",
       "  'is_busday',\n",
       "  'isclose',\n",
       "  'iscomplex',\n",
       "  'iscomplexobj',\n",
       "  'isfinite',\n",
       "  'isfortran',\n",
       "  'isin',\n",
       "  'isinf',\n",
       "  'isnan',\n",
       "  'isnat',\n",
       "  'isneginf',\n",
       "  'isposinf',\n",
       "  'isreal',\n",
       "  'isrealobj',\n",
       "  'isscalar',\n",
       "  'issctype',\n",
       "  'issubclass_',\n",
       "  'issubdtype',\n",
       "  'issubsctype',\n",
       "  'iterable',\n",
       "  'ix_',\n",
       "  'kaiser',\n",
       "  'kron',\n",
       "  'lcm',\n",
       "  'ldexp',\n",
       "  'left_shift',\n",
       "  'less',\n",
       "  'less_equal',\n",
       "  'lexsort',\n",
       "  'lib',\n",
       "  'linalg',\n",
       "  'linspace',\n",
       "  'little_endian',\n",
       "  'load',\n",
       "  'loads',\n",
       "  'loadtxt',\n",
       "  'log',\n",
       "  'log10',\n",
       "  'log1p',\n",
       "  'log2',\n",
       "  'logaddexp',\n",
       "  'logaddexp2',\n",
       "  'logical_and',\n",
       "  'logical_not',\n",
       "  'logical_or',\n",
       "  'logical_xor',\n",
       "  'logspace',\n",
       "  'long',\n",
       "  'longcomplex',\n",
       "  'longdouble',\n",
       "  'longfloat',\n",
       "  'longlong',\n",
       "  'lookfor',\n",
       "  'ma',\n",
       "  'mafromtxt',\n",
       "  'mask_indices',\n",
       "  'mat',\n",
       "  'math',\n",
       "  'matmul',\n",
       "  'matrix',\n",
       "  'matrixlib',\n",
       "  'max',\n",
       "  'maximum',\n",
       "  'maximum_sctype',\n",
       "  'may_share_memory',\n",
       "  'mean',\n",
       "  'median',\n",
       "  'memmap',\n",
       "  'meshgrid',\n",
       "  'mgrid',\n",
       "  'min',\n",
       "  'min_scalar_type',\n",
       "  'minimum',\n",
       "  'mintypecode',\n",
       "  'mirr',\n",
       "  'mkl',\n",
       "  'mod',\n",
       "  'modf',\n",
       "  'moveaxis',\n",
       "  'msort',\n",
       "  'multiply',\n",
       "  'nan',\n",
       "  'nan_to_num',\n",
       "  'nanargmax',\n",
       "  'nanargmin',\n",
       "  'nancumprod',\n",
       "  'nancumsum',\n",
       "  'nanmax',\n",
       "  'nanmean',\n",
       "  'nanmedian',\n",
       "  'nanmin',\n",
       "  'nanpercentile',\n",
       "  'nanprod',\n",
       "  'nanquantile',\n",
       "  'nanstd',\n",
       "  'nansum',\n",
       "  'nanvar',\n",
       "  'nbytes',\n",
       "  'ndarray',\n",
       "  'ndenumerate',\n",
       "  'ndfromtxt',\n",
       "  'ndim',\n",
       "  'ndindex',\n",
       "  'nditer',\n",
       "  'negative',\n",
       "  'nested_iters',\n",
       "  'newaxis',\n",
       "  'nextafter',\n",
       "  'nonzero',\n",
       "  'not_equal',\n",
       "  'nper',\n",
       "  'npv',\n",
       "  'numarray',\n",
       "  'number',\n",
       "  'obj2sctype',\n",
       "  'object',\n",
       "  'object0',\n",
       "  'object_',\n",
       "  'ogrid',\n",
       "  'oldnumeric',\n",
       "  'ones',\n",
       "  'ones_like',\n",
       "  'os',\n",
       "  'outer',\n",
       "  'packbits',\n",
       "  'pad',\n",
       "  'partition',\n",
       "  'percentile',\n",
       "  'pi',\n",
       "  'piecewise',\n",
       "  'place',\n",
       "  'pmt',\n",
       "  'poly',\n",
       "  'poly1d',\n",
       "  'polyadd',\n",
       "  'polyder',\n",
       "  'polydiv',\n",
       "  'polyfit',\n",
       "  'polyint',\n",
       "  'polymul',\n",
       "  'polynomial',\n",
       "  'polysub',\n",
       "  'polyval',\n",
       "  'positive',\n",
       "  'power',\n",
       "  'ppmt',\n",
       "  'printoptions',\n",
       "  'prod',\n",
       "  'product',\n",
       "  'promote_types',\n",
       "  'ptp',\n",
       "  'put',\n",
       "  'put_along_axis',\n",
       "  'putmask',\n",
       "  'pv',\n",
       "  'quantile',\n",
       "  'r_',\n",
       "  'rad2deg',\n",
       "  'radians',\n",
       "  'random',\n",
       "  'rate',\n",
       "  'ravel',\n",
       "  'ravel_multi_index',\n",
       "  'real',\n",
       "  'real_if_close',\n",
       "  'rec',\n",
       "  'recarray',\n",
       "  'recfromcsv',\n",
       "  'recfromtxt',\n",
       "  'reciprocal',\n",
       "  'record',\n",
       "  'remainder',\n",
       "  'repeat',\n",
       "  'require',\n",
       "  'reshape',\n",
       "  'resize',\n",
       "  'result_type',\n",
       "  'right_shift',\n",
       "  'rint',\n",
       "  'roll',\n",
       "  'rollaxis',\n",
       "  'roots',\n",
       "  'rot90',\n",
       "  'round',\n",
       "  'round_',\n",
       "  'row_stack',\n",
       "  's_',\n",
       "  'safe_eval',\n",
       "  'save',\n",
       "  'savetxt',\n",
       "  'savez',\n",
       "  'savez_compressed',\n",
       "  'sctype2char',\n",
       "  'sctypeDict',\n",
       "  'sctypeNA',\n",
       "  'sctypes',\n",
       "  'searchsorted',\n",
       "  'select',\n",
       "  'set_numeric_ops',\n",
       "  'set_printoptions',\n",
       "  'set_string_function',\n",
       "  'setbufsize',\n",
       "  'setdiff1d',\n",
       "  'seterr',\n",
       "  'seterrcall',\n",
       "  'seterrobj',\n",
       "  'setxor1d',\n",
       "  'shape',\n",
       "  'shares_memory',\n",
       "  'short',\n",
       "  'show_config',\n",
       "  'sign',\n",
       "  'signbit',\n",
       "  'signedinteger',\n",
       "  'sin',\n",
       "  'sinc',\n",
       "  'single',\n",
       "  'singlecomplex',\n",
       "  'sinh',\n",
       "  'size',\n",
       "  'sometrue',\n",
       "  'sort',\n",
       "  'sort_complex',\n",
       "  'source',\n",
       "  'spacing',\n",
       "  'split',\n",
       "  'sqrt',\n",
       "  'square',\n",
       "  'squeeze',\n",
       "  'stack',\n",
       "  'std',\n",
       "  'str',\n",
       "  'str0',\n",
       "  'str_',\n",
       "  'string_',\n",
       "  'subtract',\n",
       "  'sum',\n",
       "  'swapaxes',\n",
       "  'sys',\n",
       "  'take',\n",
       "  'take_along_axis',\n",
       "  'tan',\n",
       "  'tanh',\n",
       "  'tensordot',\n",
       "  'test',\n",
       "  'testing',\n",
       "  'tile',\n",
       "  'timedelta64',\n",
       "  'trace',\n",
       "  'tracemalloc_domain',\n",
       "  'transpose',\n",
       "  'trapz',\n",
       "  'tri',\n",
       "  'tril',\n",
       "  'tril_indices',\n",
       "  'tril_indices_from',\n",
       "  'trim_zeros',\n",
       "  'triu',\n",
       "  'triu_indices',\n",
       "  'triu_indices_from',\n",
       "  'true_divide',\n",
       "  'trunc',\n",
       "  'typeDict',\n",
       "  'typeNA',\n",
       "  'typecodes',\n",
       "  'typename',\n",
       "  'ubyte',\n",
       "  'ufunc',\n",
       "  'uint',\n",
       "  'uint0',\n",
       "  'uint16',\n",
       "  'uint32',\n",
       "  'uint64',\n",
       "  'uint8',\n",
       "  'uintc',\n",
       "  'uintp',\n",
       "  'ulonglong',\n",
       "  'unicode',\n",
       "  'unicode_',\n",
       "  'union1d',\n",
       "  'unique',\n",
       "  'unpackbits',\n",
       "  'unravel_index',\n",
       "  'unsignedinteger',\n",
       "  'unwrap',\n",
       "  'use_hugepage',\n",
       "  'ushort',\n",
       "  'vander',\n",
       "  'var',\n",
       "  'vdot',\n",
       "  'vectorize',\n",
       "  'version',\n",
       "  'void',\n",
       "  'void0',\n",
       "  'vsplit',\n",
       "  'vstack',\n",
       "  'warnings',\n",
       "  'where',\n",
       "  'who',\n",
       "  'zeros',\n",
       "  'zeros_like'],\n",
       " '_i56': 'a = np.array([1, 5, 3, 19, 13, 7, 3])\\na[1]',\n",
       " '_56': 5,\n",
       " '_i57': 'a[2:5]',\n",
       " '_57': array([ 3, 19, 13]),\n",
       " '_i58': 'a',\n",
       " '_58': array([ 1,  5,  3, 19, 13,  7,  3]),\n",
       " '_i59': 'a[1:6:2]',\n",
       " '_59': array([ 5, 19,  7]),\n",
       " '_i60': 'locals()'}"
      ]
     },
     "execution_count": 60,
     "metadata": {},
     "output_type": "execute_result"
    }
   ],
   "source": [
    "locals()"
   ]
  },
  {
   "cell_type": "code",
   "execution_count": 72,
   "metadata": {},
   "outputs": [
    {
     "data": {
      "text/plain": [
       "array([ 1,  5,  3, 19, 13,  7,  3])"
      ]
     },
     "execution_count": 72,
     "metadata": {},
     "output_type": "execute_result"
    }
   ],
   "source": [
    "a"
   ]
  },
  {
   "cell_type": "markdown",
   "metadata": {},
   "source": [
    "so how to get al values greater than 1 and less than 10?\n",
    "1 <= x < 10"
   ]
  },
  {
   "cell_type": "code",
   "execution_count": 73,
   "metadata": {},
   "outputs": [
    {
     "name": "stdout",
     "output_type": "stream",
     "text": [
      "[[0.65137557 0.84345838 0.8390219  0.51229765 0.74265893 0.21170537]\n",
      " [0.18218592 0.4146017  0.09249473 0.69772519 0.55010431 0.82311305]\n",
      " [0.41606739 0.35523806 0.62644753 0.70115893 0.59660673 0.05030562]\n",
      " [0.60313029 0.59660686 0.51556766 0.31076119 0.48396955 0.46141727]\n",
      " [0.52105201 0.3746116  0.68790159 0.61742479 0.12491793 0.91090684]\n",
      " [0.39056115 0.52550297 0.14502655 0.64152758 0.48430529 0.60302848]]\n"
     ]
    }
   ],
   "source": [
    "x = np.random.rand(6,6)\n",
    "print(x)"
   ]
  },
  {
   "cell_type": "code",
   "execution_count": 74,
   "metadata": {
    "scrolled": true
   },
   "outputs": [
    {
     "data": {
      "text/plain": [
       "array([[6.86238012, 8.59112543, 8.55119713, 5.61067881, 7.68393038,\n",
       "        2.9053483 ],\n",
       "       [2.63967324, 4.73141534, 1.83245253, 7.27952674, 5.95093876,\n",
       "        8.40801748],\n",
       "       [4.74460649, 4.19714254, 6.63802781, 7.31043041, 6.36946053,\n",
       "        1.45275054],\n",
       "       [6.42817265, 6.3694617 , 5.64010898, 3.79685073, 5.35572599,\n",
       "        5.15275541],\n",
       "       [5.68946813, 4.3715044 , 7.19111435, 6.5568231 , 2.12426137,\n",
       "        9.19816156],\n",
       "       [4.51505035, 5.7295267 , 2.30523893, 6.77374824, 5.35874757,\n",
       "        6.42725634]])"
      ]
     },
     "execution_count": 74,
     "metadata": {},
     "output_type": "execute_result"
    }
   ],
   "source": [
    "x*9 + 1"
   ]
  },
  {
   "cell_type": "code",
   "execution_count": 75,
   "metadata": {},
   "outputs": [
    {
     "data": {
      "text/plain": [
       "array([ 1,  5,  3, 19, 13,  7,  3])"
      ]
     },
     "execution_count": 75,
     "metadata": {},
     "output_type": "execute_result"
    }
   ],
   "source": [
    "a"
   ]
  },
  {
   "cell_type": "code",
   "execution_count": 76,
   "metadata": {},
   "outputs": [],
   "source": [
    "a = np.arange(24)"
   ]
  },
  {
   "cell_type": "code",
   "execution_count": 77,
   "metadata": {},
   "outputs": [
    {
     "data": {
      "text/plain": [
       "array([ 0,  1,  2,  3,  4,  5,  6,  7,  8,  9, 10, 11, 12, 13, 14, 15, 16,\n",
       "       17, 18, 19, 20, 21, 22, 23])"
      ]
     },
     "execution_count": 77,
     "metadata": {},
     "output_type": "execute_result"
    }
   ],
   "source": [
    "a"
   ]
  },
  {
   "cell_type": "code",
   "execution_count": 78,
   "metadata": {},
   "outputs": [
    {
     "data": {
      "text/plain": [
       "17"
      ]
     },
     "execution_count": 78,
     "metadata": {},
     "output_type": "execute_result"
    }
   ],
   "source": [
    "a[17]"
   ]
  },
  {
   "cell_type": "code",
   "execution_count": 79,
   "metadata": {},
   "outputs": [
    {
     "data": {
      "text/plain": [
       "array([5, 6])"
      ]
     },
     "execution_count": 79,
     "metadata": {},
     "output_type": "execute_result"
    }
   ],
   "source": [
    "a[5:7]"
   ]
  },
  {
   "cell_type": "code",
   "execution_count": 80,
   "metadata": {},
   "outputs": [
    {
     "data": {
      "text/plain": [
       "array([ 2,  3,  4,  5,  6,  7,  8,  9, 10, 11, 12, 13, 14, 15, 16, 17, 18,\n",
       "       19, 20, 21, 22, 23])"
      ]
     },
     "execution_count": 80,
     "metadata": {},
     "output_type": "execute_result"
    }
   ],
   "source": [
    "a[2:]"
   ]
  },
  {
   "cell_type": "code",
   "execution_count": 82,
   "metadata": {},
   "outputs": [
    {
     "data": {
      "text/plain": [
       "array([0])"
      ]
     },
     "execution_count": 82,
     "metadata": {},
     "output_type": "execute_result"
    }
   ],
   "source": [
    "a[:1]"
   ]
  },
  {
   "cell_type": "code",
   "execution_count": 83,
   "metadata": {},
   "outputs": [
    {
     "data": {
      "text/plain": [
       "array([ 0,  1,  2,  3,  4,  5,  6,  7,  8,  9, 10, 11, 12, 13, 14, 15, 16,\n",
       "       17, 18, 19, 20, 21, 22, 23])"
      ]
     },
     "execution_count": 83,
     "metadata": {},
     "output_type": "execute_result"
    }
   ],
   "source": [
    "a[:]"
   ]
  },
  {
   "cell_type": "code",
   "execution_count": 84,
   "metadata": {},
   "outputs": [
    {
     "data": {
      "text/plain": [
       "array([0, 2, 4, 6, 8])"
      ]
     },
     "execution_count": 84,
     "metadata": {},
     "output_type": "execute_result"
    }
   ],
   "source": [
    "a[:10:2]"
   ]
  },
  {
   "cell_type": "code",
   "execution_count": 85,
   "metadata": {},
   "outputs": [
    {
     "data": {
      "text/plain": [
       "array([23, 22, 21, 20, 19, 18, 17, 16, 15, 14, 13, 12, 11])"
      ]
     },
     "execution_count": 85,
     "metadata": {},
     "output_type": "execute_result"
    }
   ],
   "source": [
    "a[:10:-1]"
   ]
  },
  {
   "cell_type": "code",
   "execution_count": 86,
   "metadata": {},
   "outputs": [
    {
     "name": "stdout",
     "output_type": "stream",
     "text": [
      "[ 2  4  6  8 10 12 14 16 18 20 22]\n"
     ]
    }
   ],
   "source": [
    "print(a[2::2])"
   ]
  },
  {
   "cell_type": "code",
   "execution_count": 87,
   "metadata": {},
   "outputs": [
    {
     "name": "stdout",
     "output_type": "stream",
     "text": [
      "[ 2  5  8 11 14 17 20 23]\n"
     ]
    }
   ],
   "source": [
    "print(a[2::3])"
   ]
  },
  {
   "cell_type": "code",
   "execution_count": 88,
   "metadata": {
    "scrolled": false
   },
   "outputs": [
    {
     "name": "stdout",
     "output_type": "stream",
     "text": [
      "[23 22 21 20 19 18 17 16 15 14 13 12 11 10  9  8  7  6  5  4  3  2  1  0]\n"
     ]
    }
   ],
   "source": [
    "print(a[::-1])"
   ]
  },
  {
   "cell_type": "code",
   "execution_count": 89,
   "metadata": {},
   "outputs": [
    {
     "name": "stdout",
     "output_type": "stream",
     "text": [
      "[23 20 17 14 11  8  5  2]\n"
     ]
    }
   ],
   "source": [
    "print(a[::-3])"
   ]
  },
  {
   "cell_type": "code",
   "execution_count": 90,
   "metadata": {},
   "outputs": [
    {
     "name": "stdout",
     "output_type": "stream",
     "text": [
      "[ 1  5  3 19 13  7  3]\n",
      "[ 1 -1 -1 19 13  7  3]\n"
     ]
    }
   ],
   "source": [
    "a = np.array([1, 5, 3, 19, 13, 7, 3])\n",
    "print(a)\n",
    "a[1:3] = -1\n",
    "print(a)"
   ]
  },
  {
   "cell_type": "code",
   "execution_count": 91,
   "metadata": {},
   "outputs": [],
   "source": [
    "b = [1, 2, 5, 7, 8]"
   ]
  },
  {
   "cell_type": "code",
   "execution_count": 92,
   "metadata": {},
   "outputs": [
    {
     "ename": "TypeError",
     "evalue": "can only assign an iterable",
     "output_type": "error",
     "traceback": [
      "\u001b[1;31m---------------------------------------------------------------------------\u001b[0m",
      "\u001b[1;31mTypeError\u001b[0m                                 Traceback (most recent call last)",
      "\u001b[1;32m<ipython-input-92-3920840fcec8>\u001b[0m in \u001b[0;36m<module>\u001b[1;34m\u001b[0m\n\u001b[1;32m----> 1\u001b[1;33m \u001b[0mb\u001b[0m\u001b[1;33m[\u001b[0m\u001b[1;36m1\u001b[0m\u001b[1;33m:\u001b[0m\u001b[1;36m3\u001b[0m\u001b[1;33m]\u001b[0m \u001b[1;33m=\u001b[0m \u001b[1;33m-\u001b[0m\u001b[1;36m1\u001b[0m\u001b[1;33m\u001b[0m\u001b[0m\n\u001b[0m",
      "\u001b[1;31mTypeError\u001b[0m: can only assign an iterable"
     ]
    }
   ],
   "source": [
    "b[1:3] = -1\n"
   ]
  },
  {
   "cell_type": "code",
   "execution_count": 93,
   "metadata": {},
   "outputs": [
    {
     "data": {
      "text/plain": [
       "array([1, 2, 5, 7, 8])"
      ]
     },
     "execution_count": 93,
     "metadata": {},
     "output_type": "execute_result"
    }
   ],
   "source": [
    "a = np.array([1, 2, 5, 7, 8])\n",
    "a"
   ]
  },
  {
   "cell_type": "code",
   "execution_count": 94,
   "metadata": {},
   "outputs": [
    {
     "data": {
      "text/plain": [
       "array([2, 5, 7, 8])"
      ]
     },
     "execution_count": 94,
     "metadata": {},
     "output_type": "execute_result"
    }
   ],
   "source": [
    "a_slice = a[1:5] # 2, 5, 7, 8\n",
    "a_slice"
   ]
  },
  {
   "cell_type": "code",
   "execution_count": 95,
   "metadata": {},
   "outputs": [
    {
     "data": {
      "text/plain": [
       "array([   2, 1000,    7,    8])"
      ]
     },
     "execution_count": 95,
     "metadata": {},
     "output_type": "execute_result"
    }
   ],
   "source": [
    "a_slice[1] = 1000\n",
    "a_slice"
   ]
  },
  {
   "cell_type": "code",
   "execution_count": 99,
   "metadata": {},
   "outputs": [
    {
     "data": {
      "text/plain": [
       "array([   1,    2, 1000,    7,    8])"
      ]
     },
     "execution_count": 99,
     "metadata": {},
     "output_type": "execute_result"
    }
   ],
   "source": [
    "a"
   ]
  },
  {
   "cell_type": "code",
   "execution_count": 100,
   "metadata": {},
   "outputs": [
    {
     "data": {
      "text/plain": [
       "array([   2, 1000,    7,  800])"
      ]
     },
     "execution_count": 100,
     "metadata": {},
     "output_type": "execute_result"
    }
   ],
   "source": [
    "a_slice_copy = a_slice.copy()\n",
    "a_slice_copy[3] = 800\n",
    "a_slice_copy"
   ]
  },
  {
   "cell_type": "code",
   "execution_count": 101,
   "metadata": {},
   "outputs": [
    {
     "name": "stdout",
     "output_type": "stream",
     "text": [
      "[   1    2 1000    7    8]\n",
      "[   2 1000    7    8]\n"
     ]
    }
   ],
   "source": [
    "print(a)\n",
    "print(a_slice)"
   ]
  },
  {
   "cell_type": "code",
   "execution_count": 102,
   "metadata": {},
   "outputs": [
    {
     "name": "stdout",
     "output_type": "stream",
     "text": [
      "[ 1000 23333     8]\n",
      "[   1    2 1000    7    8]\n"
     ]
    }
   ],
   "source": [
    "another_slice = a[2:6].copy()\n",
    "another_slice[1] = 23333  \n",
    "print(another_slice) #Updated\n",
    "print(a) #Unchanged"
   ]
  },
  {
   "cell_type": "code",
   "execution_count": 103,
   "metadata": {},
   "outputs": [],
   "source": [
    "x = np.array([1,2])\n",
    "y = np.array([[2,3], [4,5]])"
   ]
  },
  {
   "cell_type": "code",
   "execution_count": 104,
   "metadata": {},
   "outputs": [
    {
     "data": {
      "text/plain": [
       "array([[2, 3],\n",
       "       [4, 5]])"
      ]
     },
     "execution_count": 104,
     "metadata": {},
     "output_type": "execute_result"
    }
   ],
   "source": [
    "y"
   ]
  },
  {
   "cell_type": "code",
   "execution_count": 106,
   "metadata": {},
   "outputs": [
    {
     "data": {
      "text/plain": [
       "2"
      ]
     },
     "execution_count": 106,
     "metadata": {},
     "output_type": "execute_result"
    }
   ],
   "source": [
    "y.ndim"
   ]
  },
  {
   "cell_type": "code",
   "execution_count": 108,
   "metadata": {},
   "outputs": [
    {
     "data": {
      "text/plain": [
       "array([[2, 3]])"
      ]
     },
     "execution_count": 108,
     "metadata": {},
     "output_type": "execute_result"
    }
   ],
   "source": [
    "y[0:1]"
   ]
  },
  {
   "cell_type": "code",
   "execution_count": 109,
   "metadata": {},
   "outputs": [
    {
     "data": {
      "text/plain": [
       "array([3, 5])"
      ]
     },
     "execution_count": 109,
     "metadata": {},
     "output_type": "execute_result"
    }
   ],
   "source": [
    "y[:,1]"
   ]
  },
  {
   "cell_type": "code",
   "execution_count": 110,
   "metadata": {},
   "outputs": [],
   "source": [
    "y[1] = x"
   ]
  },
  {
   "cell_type": "code",
   "execution_count": 111,
   "metadata": {},
   "outputs": [
    {
     "data": {
      "text/plain": [
       "array([[2, 3],\n",
       "       [1, 2]])"
      ]
     },
     "execution_count": 111,
     "metadata": {},
     "output_type": "execute_result"
    }
   ],
   "source": [
    "y"
   ]
  },
  {
   "cell_type": "code",
   "execution_count": 112,
   "metadata": {},
   "outputs": [],
   "source": [
    "x[0] = 100"
   ]
  },
  {
   "cell_type": "code",
   "execution_count": 113,
   "metadata": {},
   "outputs": [
    {
     "data": {
      "text/plain": [
       "array([[2, 3],\n",
       "       [1, 2]])"
      ]
     },
     "execution_count": 113,
     "metadata": {},
     "output_type": "execute_result"
    }
   ],
   "source": [
    "y"
   ]
  },
  {
   "cell_type": "code",
   "execution_count": 114,
   "metadata": {},
   "outputs": [
    {
     "data": {
      "text/plain": [
       "array([   1.34482759,    2.68965517, 1344.82758621,    9.4137931 ,\n",
       "         10.75862069])"
      ]
     },
     "execution_count": 114,
     "metadata": {},
     "output_type": "execute_result"
    }
   ],
   "source": [
    "a + a/2.9"
   ]
  },
  {
   "cell_type": "code",
   "execution_count": 115,
   "metadata": {},
   "outputs": [],
   "source": [
    "x = np.random.rand(4,5)"
   ]
  },
  {
   "cell_type": "code",
   "execution_count": 116,
   "metadata": {},
   "outputs": [
    {
     "data": {
      "text/plain": [
       "array([[0.5052295 , 0.70422163, 0.0850213 , 0.34133674, 0.56478835],\n",
       "       [0.49423269, 0.38663332, 0.82319973, 0.18789548, 0.96043857],\n",
       "       [0.20997406, 0.68127302, 0.15401441, 0.81772137, 0.89435449],\n",
       "       [0.01354739, 0.50933259, 0.46302099, 0.78118597, 0.48497755]])"
      ]
     },
     "execution_count": 116,
     "metadata": {},
     "output_type": "execute_result"
    }
   ],
   "source": [
    "x"
   ]
  },
  {
   "cell_type": "code",
   "execution_count": 117,
   "metadata": {},
   "outputs": [
    {
     "data": {
      "text/plain": [
       "array([0.49423269, 0.38663332, 0.82319973, 0.18789548, 0.96043857])"
      ]
     },
     "execution_count": 117,
     "metadata": {},
     "output_type": "execute_result"
    }
   ],
   "source": [
    "x[1]"
   ]
  },
  {
   "cell_type": "code",
   "execution_count": 118,
   "metadata": {},
   "outputs": [
    {
     "name": "stdout",
     "output_type": "stream",
     "text": [
      "0.3866333221786463\n",
      "0.3866333221786463\n"
     ]
    }
   ],
   "source": [
    "print(x[1][1])\n",
    "print(x[1, 1])"
   ]
  },
  {
   "cell_type": "code",
   "execution_count": 119,
   "metadata": {},
   "outputs": [
    {
     "data": {
      "text/plain": [
       "array([[0.5052295 , 0.70422163],\n",
       "       [0.49423269, 0.38663332]])"
      ]
     },
     "execution_count": 119,
     "metadata": {},
     "output_type": "execute_result"
    }
   ],
   "source": [
    "x[0:2, 0:2]"
   ]
  },
  {
   "cell_type": "code",
   "execution_count": 120,
   "metadata": {},
   "outputs": [],
   "source": [
    "x = np.random.rand(3, 3, 3)"
   ]
  },
  {
   "cell_type": "code",
   "execution_count": 122,
   "metadata": {},
   "outputs": [
    {
     "data": {
      "text/plain": [
       "array([[[0.84303847, 0.89604273, 0.55744888],\n",
       "        [0.75225892, 0.47348637, 0.47850855],\n",
       "        [0.8088602 , 0.5230591 , 0.89314523]],\n",
       "\n",
       "       [[0.63771584, 0.2540453 , 0.84595247],\n",
       "        [0.47076578, 0.56000962, 0.39848425],\n",
       "        [0.56444154, 0.70055301, 0.52103214]],\n",
       "\n",
       "       [[0.13937002, 0.16885064, 0.23077856],\n",
       "        [0.46959003, 0.28896346, 0.05728963],\n",
       "        [0.41735267, 0.87702142, 0.57320451]]])"
      ]
     },
     "execution_count": 122,
     "metadata": {},
     "output_type": "execute_result"
    }
   ],
   "source": [
    "x"
   ]
  },
  {
   "cell_type": "code",
   "execution_count": 125,
   "metadata": {},
   "outputs": [
    {
     "data": {
      "text/plain": [
       "array([[[0.89604273, 0.55744888],\n",
       "        [0.47348637, 0.47850855]],\n",
       "\n",
       "       [[0.2540453 , 0.84595247],\n",
       "        [0.56000962, 0.39848425]]])"
      ]
     },
     "execution_count": 125,
     "metadata": {},
     "output_type": "execute_result"
    }
   ],
   "source": [
    "x[0:2, 0:2, 1:3]"
   ]
  },
  {
   "cell_type": "code",
   "execution_count": 127,
   "metadata": {},
   "outputs": [
    {
     "data": {
      "text/plain": [
       "array([[[0.63771584, 0.2540453 , 0.84595247],\n",
       "        [0.47076578, 0.56000962, 0.39848425]]])"
      ]
     },
     "execution_count": 127,
     "metadata": {},
     "output_type": "execute_result"
    }
   ],
   "source": [
    "x[1:2, 0:2, 0:3]"
   ]
  },
  {
   "cell_type": "code",
   "execution_count": 128,
   "metadata": {},
   "outputs": [],
   "source": [
    "a = np.arange(12).reshape(3, -1)"
   ]
  },
  {
   "cell_type": "code",
   "execution_count": 129,
   "metadata": {},
   "outputs": [
    {
     "data": {
      "text/plain": [
       "array([[ 0,  1,  2,  3],\n",
       "       [ 4,  5,  6,  7],\n",
       "       [ 8,  9, 10, 11]])"
      ]
     },
     "execution_count": 129,
     "metadata": {},
     "output_type": "execute_result"
    }
   ],
   "source": [
    "a"
   ]
  },
  {
   "cell_type": "code",
   "execution_count": 130,
   "metadata": {},
   "outputs": [],
   "source": [
    "rows_on = np.array([ True, False, True])"
   ]
  },
  {
   "cell_type": "code",
   "execution_count": 131,
   "metadata": {},
   "outputs": [
    {
     "data": {
      "text/plain": [
       "array([ True, False,  True])"
      ]
     },
     "execution_count": 131,
     "metadata": {},
     "output_type": "execute_result"
    }
   ],
   "source": [
    "rows_on"
   ]
  },
  {
   "cell_type": "code",
   "execution_count": 132,
   "metadata": {},
   "outputs": [
    {
     "data": {
      "text/plain": [
       "array([[ 0,  1,  2,  3],\n",
       "       [ 4,  5,  6,  7],\n",
       "       [ 8,  9, 10, 11]])"
      ]
     },
     "execution_count": 132,
     "metadata": {},
     "output_type": "execute_result"
    }
   ],
   "source": [
    "a"
   ]
  },
  {
   "cell_type": "code",
   "execution_count": 133,
   "metadata": {},
   "outputs": [
    {
     "data": {
      "text/plain": [
       "array([[ 0,  1,  2,  3],\n",
       "       [ 8,  9, 10, 11]])"
      ]
     },
     "execution_count": 133,
     "metadata": {},
     "output_type": "execute_result"
    }
   ],
   "source": [
    "a[rows_on]"
   ]
  },
  {
   "cell_type": "code",
   "execution_count": 134,
   "metadata": {},
   "outputs": [
    {
     "data": {
      "text/plain": [
       "array([[ 0,  1,  2,  3],\n",
       "       [ 4,  5,  6,  7],\n",
       "       [ 8,  9, 10, 11]])"
      ]
     },
     "execution_count": 134,
     "metadata": {},
     "output_type": "execute_result"
    }
   ],
   "source": [
    "a"
   ]
  },
  {
   "cell_type": "code",
   "execution_count": 135,
   "metadata": {},
   "outputs": [
    {
     "data": {
      "text/plain": [
       "array([[ 0,  1,  2,  3],\n",
       "       [ 8,  9, 10, 11]])"
      ]
     },
     "execution_count": 135,
     "metadata": {},
     "output_type": "execute_result"
    }
   ],
   "source": [
    "a[[True, False, True]]"
   ]
  },
  {
   "cell_type": "code",
   "execution_count": 136,
   "metadata": {},
   "outputs": [
    {
     "data": {
      "text/plain": [
       "array([[ 0,  2],\n",
       "       [ 4,  6],\n",
       "       [ 8, 10]])"
      ]
     },
     "execution_count": 136,
     "metadata": {},
     "output_type": "execute_result"
    }
   ],
   "source": [
    "a[:,[True, False, True, False]]"
   ]
  },
  {
   "cell_type": "code",
   "execution_count": 137,
   "metadata": {},
   "outputs": [
    {
     "name": "stdout",
     "output_type": "stream",
     "text": [
      "[[0.93251847 0.51191855 0.69329251]\n",
      " [0.7045296  0.54733519 0.87101223]\n",
      " [0.78315501 0.6375077  0.88600928]\n",
      " [0.86061505 0.45213259 0.23623682]\n",
      " [0.09372524 0.72817031 0.97501041]]\n"
     ]
    }
   ],
   "source": [
    "x = np.random.rand(5,3)\n",
    "print(x)"
   ]
  },
  {
   "cell_type": "code",
   "execution_count": 138,
   "metadata": {},
   "outputs": [
    {
     "data": {
      "text/plain": [
       "0.728170309106792"
      ]
     },
     "execution_count": 138,
     "metadata": {},
     "output_type": "execute_result"
    }
   ],
   "source": [
    "x[-1, 1]"
   ]
  },
  {
   "cell_type": "code",
   "execution_count": 139,
   "metadata": {},
   "outputs": [
    {
     "data": {
      "text/plain": [
       "array([0.69329251, 0.87101223, 0.88600928, 0.23623682, 0.97501041])"
      ]
     },
     "execution_count": 139,
     "metadata": {},
     "output_type": "execute_result"
    }
   ],
   "source": [
    "x[:,2]"
   ]
  },
  {
   "cell_type": "code",
   "execution_count": 140,
   "metadata": {},
   "outputs": [
    {
     "data": {
      "text/plain": [
       "array([0.6375077 , 0.45213259])"
      ]
     },
     "execution_count": 140,
     "metadata": {},
     "output_type": "execute_result"
    }
   ],
   "source": [
    "x[2:4, 1]"
   ]
  },
  {
   "cell_type": "code",
   "execution_count": 141,
   "metadata": {},
   "outputs": [
    {
     "data": {
      "text/plain": [
       "array([[0.93251847, 0.51191855, 0.69329251],\n",
       "       [0.7045296 , 0.54733519, 0.87101223],\n",
       "       [0.78315501, 0.6375077 , 0.88600928],\n",
       "       [0.86061505, 0.45213259, 0.23623682],\n",
       "       [0.09372524, 0.72817031, 0.97501041]])"
      ]
     },
     "execution_count": 141,
     "metadata": {},
     "output_type": "execute_result"
    }
   ],
   "source": [
    "x"
   ]
  },
  {
   "cell_type": "markdown",
   "metadata": {},
   "source": [
    "Create a 2d array such that it has 5 rows and only 1 column having values of last column"
   ]
  },
  {
   "cell_type": "code",
   "execution_count": 142,
   "metadata": {},
   "outputs": [
    {
     "data": {
      "text/plain": [
       "array([[0.69329251],\n",
       "       [0.87101223],\n",
       "       [0.88600928],\n",
       "       [0.23623682],\n",
       "       [0.97501041]])"
      ]
     },
     "execution_count": 142,
     "metadata": {},
     "output_type": "execute_result"
    }
   ],
   "source": [
    "x[:,[False,False,True]]"
   ]
  },
  {
   "cell_type": "code",
   "execution_count": 143,
   "metadata": {},
   "outputs": [
    {
     "name": "stdout",
     "output_type": "stream",
     "text": [
      "[[0.69329251]\n",
      " [0.87101223]\n",
      " [0.88600928]\n",
      " [0.23623682]\n",
      " [0.97501041]]\n"
     ]
    }
   ],
   "source": [
    "y = x[:,2].reshape(-1, 1)\n",
    "print(y)"
   ]
  },
  {
   "cell_type": "code",
   "execution_count": 144,
   "metadata": {},
   "outputs": [
    {
     "data": {
      "text/plain": [
       "(5, 1)"
      ]
     },
     "execution_count": 144,
     "metadata": {},
     "output_type": "execute_result"
    }
   ],
   "source": [
    "y.shape"
   ]
  },
  {
   "cell_type": "code",
   "execution_count": 145,
   "metadata": {},
   "outputs": [
    {
     "name": "stdout",
     "output_type": "stream",
     "text": [
      "[0 1 2 3 4 5 6 7 8 9]\n"
     ]
    }
   ],
   "source": [
    "p = np.arange(10)\n",
    "print(p)"
   ]
  },
  {
   "cell_type": "code",
   "execution_count": 146,
   "metadata": {},
   "outputs": [
    {
     "data": {
      "text/plain": [
       "array([2, 5])"
      ]
     },
     "execution_count": 146,
     "metadata": {},
     "output_type": "execute_result"
    }
   ],
   "source": [
    "p[2:8:3]"
   ]
  },
  {
   "cell_type": "code",
   "execution_count": 147,
   "metadata": {
    "scrolled": true
   },
   "outputs": [
    {
     "data": {
      "text/plain": [
       "array([[0.78315501, 0.6375077 , 0.88600928]])"
      ]
     },
     "execution_count": 147,
     "metadata": {},
     "output_type": "execute_result"
    }
   ],
   "source": [
    "x[2:3:1, :]"
   ]
  },
  {
   "cell_type": "code",
   "execution_count": 148,
   "metadata": {},
   "outputs": [
    {
     "ename": "SyntaxError",
     "evalue": "invalid syntax (<ipython-input-148-5173b455f25f>, line 2)",
     "output_type": "error",
     "traceback": [
      "\u001b[1;36m  File \u001b[1;32m\"<ipython-input-148-5173b455f25f>\"\u001b[1;36m, line \u001b[1;32m2\u001b[0m\n\u001b[1;33m    a -> start, 0\u001b[0m\n\u001b[1;37m       ^\u001b[0m\n\u001b[1;31mSyntaxError\u001b[0m\u001b[1;31m:\u001b[0m invalid syntax\n"
     ]
    }
   ],
   "source": [
    "x[a:b:c, d:e:f]\n",
    "a -> start, 0\n",
    "b -> end, length\n",
    "c --> skip, 1\n",
    ": --> 0:length, 1"
   ]
  },
  {
   "cell_type": "code",
   "execution_count": 149,
   "metadata": {},
   "outputs": [
    {
     "name": "stdout",
     "output_type": "stream",
     "text": [
      "(1, 2)\n",
      "(2,)\n",
      "[[3 9]]\n",
      "(1, 2)\n"
     ]
    }
   ],
   "source": [
    "a = np.array([[2,4]])\n",
    "print(a.shape)\n",
    "b = np.array([1,5])\n",
    "print(b.shape)\n",
    "c = a+b\n",
    "print(c)\n",
    "print(c.shape)"
   ]
  },
  {
   "cell_type": "code",
   "execution_count": 153,
   "metadata": {},
   "outputs": [
    {
     "name": "stdout",
     "output_type": "stream",
     "text": [
      "4\n",
      "[20 30 40 50]\n",
      "[0 1 2 3]\n",
      "[20 31 42 53]\n"
     ]
    }
   ],
   "source": [
    "a = np.array( [20, 30, 40, 50] )\n",
    "b = np.arange( 4 )\n",
    "print(a.size)\n",
    "print(a)\n",
    "print(b)\n",
    "c = a + b\n",
    "print(c)"
   ]
  },
  {
   "cell_type": "code",
   "execution_count": 154,
   "metadata": {},
   "outputs": [
    {
     "name": "stdout",
     "output_type": "stream",
     "text": [
      "[20, 31, 42, 53]\n"
     ]
    }
   ],
   "source": [
    "d= []\n",
    "for i in range(a.size):\n",
    "    d.append(a[i] + b[i])\n",
    "print(d)"
   ]
  },
  {
   "cell_type": "code",
   "execution_count": 155,
   "metadata": {
    "scrolled": true
   },
   "outputs": [
    {
     "data": {
      "text/plain": [
       "array([2, 3, 5, 6])"
      ]
     },
     "execution_count": 155,
     "metadata": {},
     "output_type": "execute_result"
    }
   ],
   "source": [
    "np.array([1,2,4,5]) + np.array([1])"
   ]
  },
  {
   "cell_type": "code",
   "execution_count": 156,
   "metadata": {},
   "outputs": [
    {
     "data": {
      "text/plain": [
       "array([20, 29, 38, 47])"
      ]
     },
     "execution_count": 156,
     "metadata": {},
     "output_type": "execute_result"
    }
   ],
   "source": [
    "c = a - b\n",
    "c"
   ]
  },
  {
   "cell_type": "code",
   "execution_count": 157,
   "metadata": {},
   "outputs": [
    {
     "name": "stdout",
     "output_type": "stream",
     "text": [
      "[[2 0]\n",
      " [0 4]]\n",
      "[[2, 0], [0, 4]]\n"
     ]
    }
   ],
   "source": [
    "A = np.array( [[1,1],\n",
    "               [0,1]] )\n",
    "\n",
    "B = np.array( [[2,0],\n",
    "               [3,4]] )\n",
    "print(A*B)                         # element wise product\n",
    "\n",
    "print([[1*2, 1*0],\n",
    "       [0*3, 1*4]])"
   ]
  },
  {
   "cell_type": "code",
   "execution_count": 158,
   "metadata": {
    "scrolled": false
   },
   "outputs": [
    {
     "name": "stdout",
     "output_type": "stream",
     "text": [
      "[[5 4]\n",
      " [3 4]]\n",
      "[[5, 4], [3, 4]]\n"
     ]
    }
   ],
   "source": [
    "print(np.dot(A, B))\n",
    "print([[1*2+ 1*3, 1*0+ 1*4],\n",
    "       [0*2+1*3, 0*0+1*4]])"
   ]
  },
  {
   "cell_type": "code",
   "execution_count": 159,
   "metadata": {},
   "outputs": [
    {
     "name": "stdout",
     "output_type": "stream",
     "text": [
      "[20.         15.         13.33333333 12.5       ]\n"
     ]
    }
   ],
   "source": [
    "# np.arange - Creating sequence of Numbers\n",
    "\n",
    "a = np.array( [20, 30, 40, 50] )\n",
    "b = np.arange(1, 5)\n",
    "c = a / b\n",
    "print(c)"
   ]
  },
  {
   "cell_type": "code",
   "execution_count": 160,
   "metadata": {},
   "outputs": [
    {
     "data": {
      "text/plain": [
       "array([     20,     900,   64000, 6250000], dtype=int32)"
      ]
     },
     "execution_count": 160,
     "metadata": {},
     "output_type": "execute_result"
    }
   ],
   "source": [
    "np.power(a, b)"
   ]
  },
  {
   "cell_type": "code",
   "execution_count": 161,
   "metadata": {},
   "outputs": [
    {
     "data": {
      "text/plain": [
       "array([20.        , 15.        , 13.33333333, 12.5       ])"
      ]
     },
     "execution_count": 161,
     "metadata": {},
     "output_type": "execute_result"
    }
   ],
   "source": [
    "c"
   ]
  },
  {
   "cell_type": "code",
   "execution_count": 162,
   "metadata": {},
   "outputs": [
    {
     "data": {
      "text/plain": [
       "array([20, 15, 13, 12], dtype=int32)"
      ]
     },
     "execution_count": 162,
     "metadata": {},
     "output_type": "execute_result"
    }
   ],
   "source": [
    "a = np.array( [20, 30, 40, 50] )\n",
    "b = np.arange(1, 5)\n",
    "c = a // b\n",
    "c\n"
   ]
  },
  {
   "cell_type": "code",
   "execution_count": 163,
   "metadata": {},
   "outputs": [
    {
     "data": {
      "text/plain": [
       "array([0, 0, 1, 2], dtype=int32)"
      ]
     },
     "execution_count": 163,
     "metadata": {},
     "output_type": "execute_result"
    }
   ],
   "source": [
    "#Modulus operator can be applied on NumPy arrays as shown below. They apply element wise.\n",
    "a = np.array( [20, 30, 40, 50] )\n",
    "b = np.arange(1, 5)\n",
    "c = a % b\n",
    "c"
   ]
  },
  {
   "cell_type": "code",
   "execution_count": 164,
   "metadata": {},
   "outputs": [
    {
     "data": {
      "text/plain": [
       "array([     20,     900,   64000, 6250000], dtype=int32)"
      ]
     },
     "execution_count": 164,
     "metadata": {},
     "output_type": "execute_result"
    }
   ],
   "source": [
    "a = np.array( [20, 30, 40, 50] )\n",
    "b = np.arange(1, 5)\n",
    "c = a ** b\n",
    "c\n",
    "\n"
   ]
  },
  {
   "cell_type": "code",
   "execution_count": 165,
   "metadata": {},
   "outputs": [
    {
     "data": {
      "text/plain": [
       "array([False,  True,  True, False])"
      ]
     },
     "execution_count": 165,
     "metadata": {},
     "output_type": "execute_result"
    }
   ],
   "source": [
    "m = np.array([20, -5, 30, 40])\n",
    "m < [15, 16, 35, 36]"
   ]
  },
  {
   "cell_type": "code",
   "execution_count": 166,
   "metadata": {},
   "outputs": [
    {
     "data": {
      "text/plain": [
       "array([ True,  True, False, False])"
      ]
     },
     "execution_count": 166,
     "metadata": {},
     "output_type": "execute_result"
    }
   ],
   "source": [
    "m < 25 "
   ]
  },
  {
   "cell_type": "code",
   "execution_count": 167,
   "metadata": {},
   "outputs": [
    {
     "data": {
      "text/plain": [
       "array([20, -5])"
      ]
     },
     "execution_count": 167,
     "metadata": {},
     "output_type": "execute_result"
    }
   ],
   "source": [
    "m[m < 25]"
   ]
  },
  {
   "cell_type": "code",
   "execution_count": null,
   "metadata": {},
   "outputs": [],
   "source": []
  },
  {
   "cell_type": "code",
   "execution_count": 168,
   "metadata": {},
   "outputs": [
    {
     "name": "stdout",
     "output_type": "stream",
     "text": [
      "[[[0 1 2 3 4]]]\n",
      "(1, 1, 5)\n"
     ]
    }
   ],
   "source": [
    "h = np.arange(5).reshape(1, 1, 5)\n",
    "print(h)\n",
    "print(h.shape)"
   ]
  },
  {
   "cell_type": "code",
   "execution_count": 169,
   "metadata": {},
   "outputs": [
    {
     "data": {
      "text/plain": [
       "array([[[10, 20, 30, 40, 50]]])"
      ]
     },
     "execution_count": 169,
     "metadata": {},
     "output_type": "execute_result"
    }
   ],
   "source": [
    "b = np.array([10, 20, 30, 40, 50])\n",
    "b.reshape(1,1,5)"
   ]
  },
  {
   "cell_type": "code",
   "execution_count": 170,
   "metadata": {},
   "outputs": [
    {
     "name": "stdout",
     "output_type": "stream",
     "text": [
      "[[[10 21 32 43 54]]]\n",
      "(1, 1, 5)\n"
     ]
    }
   ],
   "source": [
    "x = h + [10, 20, 30, 40, 50]\n",
    "print(x)\n",
    "print(x.shape)"
   ]
  },
  {
   "cell_type": "code",
   "execution_count": 171,
   "metadata": {},
   "outputs": [
    {
     "data": {
      "text/plain": [
       "array([[[10, 21, 32, 43, 54]]])"
      ]
     },
     "execution_count": 171,
     "metadata": {},
     "output_type": "execute_result"
    }
   ],
   "source": [
    "h + [[[10, 20, 30, 40, 50]]]"
   ]
  },
  {
   "cell_type": "code",
   "execution_count": 172,
   "metadata": {},
   "outputs": [
    {
     "data": {
      "text/plain": [
       "array([[[10, 21, 32, 43, 54]]])"
      ]
     },
     "execution_count": 172,
     "metadata": {},
     "output_type": "execute_result"
    }
   ],
   "source": [
    "h + b.reshape(1,1,5)"
   ]
  },
  {
   "cell_type": "code",
   "execution_count": 173,
   "metadata": {},
   "outputs": [],
   "source": [
    "k = np.arange(6).reshape(2, 3)"
   ]
  },
  {
   "cell_type": "code",
   "execution_count": 174,
   "metadata": {},
   "outputs": [
    {
     "data": {
      "text/plain": [
       "array([[0, 1, 2],\n",
       "       [3, 4, 5]])"
      ]
     },
     "execution_count": 174,
     "metadata": {},
     "output_type": "execute_result"
    }
   ],
   "source": [
    "k\n"
   ]
  },
  {
   "cell_type": "code",
   "execution_count": 175,
   "metadata": {},
   "outputs": [
    {
     "data": {
      "text/plain": [
       "array([[100, 201, 302],\n",
       "       [103, 204, 305]])"
      ]
     },
     "execution_count": 175,
     "metadata": {},
     "output_type": "execute_result"
    }
   ],
   "source": [
    "k + [100, 200, 300] "
   ]
  },
  {
   "cell_type": "code",
   "execution_count": 160,
   "metadata": {},
   "outputs": [
    {
     "ename": "ValueError",
     "evalue": "operands could not be broadcast together with shapes (2,3) (2,) ",
     "output_type": "error",
     "traceback": [
      "\u001b[1;31m---------------------------------------------------------------------------\u001b[0m",
      "\u001b[1;31mValueError\u001b[0m                                Traceback (most recent call last)",
      "\u001b[1;32m<ipython-input-160-bdac2f8ca0a9>\u001b[0m in \u001b[0;36m<module>\u001b[1;34m()\u001b[0m\n\u001b[1;32m----> 1\u001b[1;33m \u001b[0mk\u001b[0m \u001b[1;33m+\u001b[0m \u001b[1;33m[\u001b[0m\u001b[1;36m33\u001b[0m\u001b[1;33m,\u001b[0m \u001b[1;36m44\u001b[0m\u001b[1;33m]\u001b[0m\u001b[1;33m\u001b[0m\u001b[0m\n\u001b[0m",
      "\u001b[1;31mValueError\u001b[0m: operands could not be broadcast together with shapes (2,3) (2,) "
     ]
    }
   ],
   "source": [
    " k + [33, 44]"
   ]
  },
  {
   "cell_type": "code",
   "execution_count": 176,
   "metadata": {},
   "outputs": [
    {
     "name": "stdout",
     "output_type": "stream",
     "text": [
      "mean = 6.766666666666667\n"
     ]
    }
   ],
   "source": [
    "a = np.array([[-2.5, 3.1, 7], [10, 11, 12]])\n",
    "print(\"mean =\", a.mean())"
   ]
  },
  {
   "cell_type": "code",
   "execution_count": 177,
   "metadata": {},
   "outputs": [
    {
     "data": {
      "text/plain": [
       "-71610.0"
      ]
     },
     "execution_count": 177,
     "metadata": {},
     "output_type": "execute_result"
    }
   ],
   "source": [
    "np.prod(a)"
   ]
  },
  {
   "cell_type": "code",
   "execution_count": 178,
   "metadata": {},
   "outputs": [
    {
     "name": "stdout",
     "output_type": "stream",
     "text": [
      "-71610.0\n"
     ]
    }
   ],
   "source": [
    "print(-2.5* 3.1* 7*10*11*12)"
   ]
  },
  {
   "cell_type": "code",
   "execution_count": 165,
   "metadata": {},
   "outputs": [
    {
     "name": "stdout",
     "output_type": "stream",
     "text": [
      "2.6666666666666665\n",
      "[-1.66666667  0.33333333  1.33333333]\n",
      "[2.77777778 0.11111111 1.77777778]\n",
      "4.666666666666666\n",
      "1.5555555555555554\n",
      "4.666666666666666\n",
      "1.247219128924647\n",
      "1.247219128924647\n"
     ]
    }
   ],
   "source": [
    "import math\n",
    "a = np.array([1,3,4])\n",
    "m = np.mean(a)\n",
    "print(m)\n",
    "print(a -m)\n",
    "x = (a-m)**2\n",
    "print(x)\n",
    "s = np.sum(x)\n",
    "print(s)\n",
    "v = np.var(a)\n",
    "print(v)\n",
    "print(v*len(a))\n",
    "print(np.std(a))\n",
    "print(math.sqrt(s/len(a)))"
   ]
  },
  {
   "cell_type": "code",
   "execution_count": 179,
   "metadata": {},
   "outputs": [
    {
     "data": {
      "text/plain": [
       "array([[[ 0,  1,  2,  3],\n",
       "        [ 4,  5,  6,  7],\n",
       "        [ 8,  9, 10, 11]],\n",
       "\n",
       "       [[12, 13, 14, 15],\n",
       "        [16, 17, 18, 19],\n",
       "        [20, 21, 22, 23]]])"
      ]
     },
     "execution_count": 179,
     "metadata": {},
     "output_type": "execute_result"
    }
   ],
   "source": [
    "c=np.arange(24).reshape(2,3,4)\n",
    "c"
   ]
  },
  {
   "cell_type": "code",
   "execution_count": 181,
   "metadata": {},
   "outputs": [
    {
     "data": {
      "text/plain": [
       "array([[ 6, 22, 38],\n",
       "       [54, 70, 86]])"
      ]
     },
     "execution_count": 181,
     "metadata": {},
     "output_type": "execute_result"
    }
   ],
   "source": [
    "c.sum(axis=2)  # sum across matrices"
   ]
  },
  {
   "cell_type": "code",
   "execution_count": 182,
   "metadata": {},
   "outputs": [
    {
     "name": "stdout",
     "output_type": "stream",
     "text": [
      "[[11 21]\n",
      " [31 41]]\n"
     ]
    }
   ],
   "source": [
    "import numpy as np\n",
    "a = np.array([[10,20],[30,40]])\n",
    "b = np.array([1])\n",
    "print(a+b)"
   ]
  },
  {
   "cell_type": "code",
   "execution_count": 183,
   "metadata": {},
   "outputs": [],
   "source": [
    "import numpy as np\n",
    "import pandas as pd"
   ]
  },
  {
   "cell_type": "code",
   "execution_count": 184,
   "metadata": {},
   "outputs": [],
   "source": [
    "weights = {\"alice\": 68, \"bob\": 83, \"colin\": 86, \"darwin\": 68}"
   ]
  },
  {
   "cell_type": "code",
   "execution_count": 185,
   "metadata": {},
   "outputs": [
    {
     "data": {
      "text/plain": [
       "{'alice': 68, 'bob': 83, 'colin': 86, 'darwin': 68}"
      ]
     },
     "execution_count": 185,
     "metadata": {},
     "output_type": "execute_result"
    }
   ],
   "source": [
    "weights"
   ]
  },
  {
   "cell_type": "code",
   "execution_count": 186,
   "metadata": {},
   "outputs": [],
   "source": [
    "s3 = pd.Series(weights)"
   ]
  },
  {
   "cell_type": "code",
   "execution_count": 187,
   "metadata": {},
   "outputs": [
    {
     "data": {
      "text/plain": [
       "alice     136\n",
       "bob       166\n",
       "colin     172\n",
       "darwin    136\n",
       "dtype: int64"
      ]
     },
     "execution_count": 187,
     "metadata": {},
     "output_type": "execute_result"
    }
   ],
   "source": [
    "s3 + s3"
   ]
  },
  {
   "cell_type": "code",
   "execution_count": 189,
   "metadata": {},
   "outputs": [],
   "source": [
    "people_dict = {\n",
    "    \"weight\": pd.Series([68, 83, 112], index=[\"alice\", \"bob\", \"charles\"]),\n",
    "    \"birthyear\": pd.Series([1984, 1985, 1992], index=[\"bob\", \"alice\", \"charles\"], name=\"year\"),\n",
    "    \"children\": pd.Series([0, 3], index=[\"charles\", \"bob\"]),\n",
    "    \"hobby\": pd.Series([\"Biking\", \"Dancing\"], index=[\"alice\", \"bob\"]),\n",
    "}"
   ]
  },
  {
   "cell_type": "code",
   "execution_count": 191,
   "metadata": {},
   "outputs": [
    {
     "data": {
      "text/plain": [
       "{'weight': alice       68\n",
       " bob         83\n",
       " charles    112\n",
       " dtype: int64,\n",
       " 'birthyear': bob        1984\n",
       " alice      1985\n",
       " charles    1992\n",
       " Name: year, dtype: int64,\n",
       " 'children': charles    0\n",
       " bob        3\n",
       " dtype: int64,\n",
       " 'hobby': alice     Biking\n",
       " bob      Dancing\n",
       " dtype: object}"
      ]
     },
     "execution_count": 191,
     "metadata": {},
     "output_type": "execute_result"
    }
   ],
   "source": [
    "people_dict"
   ]
  },
  {
   "cell_type": "code",
   "execution_count": 192,
   "metadata": {},
   "outputs": [],
   "source": [
    "people = pd.DataFrame(people_dict)"
   ]
  },
  {
   "cell_type": "code",
   "execution_count": 193,
   "metadata": {
    "scrolled": true
   },
   "outputs": [
    {
     "data": {
      "text/plain": [
       "alice      1985\n",
       "bob        1984\n",
       "charles    1992\n",
       "Name: birthyear, dtype: int64"
      ]
     },
     "execution_count": 193,
     "metadata": {},
     "output_type": "execute_result"
    }
   ],
   "source": [
    "people[\"birthyear\"]"
   ]
  },
  {
   "cell_type": "code",
   "execution_count": 194,
   "metadata": {},
   "outputs": [],
   "source": [
    "people = pd.DataFrame(people_dict)"
   ]
  },
  {
   "cell_type": "code",
   "execution_count": 197,
   "metadata": {},
   "outputs": [
    {
     "data": {
      "text/html": [
       "<div>\n",
       "<style scoped>\n",
       "    .dataframe tbody tr th:only-of-type {\n",
       "        vertical-align: middle;\n",
       "    }\n",
       "\n",
       "    .dataframe tbody tr th {\n",
       "        vertical-align: top;\n",
       "    }\n",
       "\n",
       "    .dataframe thead th {\n",
       "        text-align: right;\n",
       "    }\n",
       "</style>\n",
       "<table border=\"1\" class=\"dataframe\">\n",
       "  <thead>\n",
       "    <tr style=\"text-align: right;\">\n",
       "      <th></th>\n",
       "      <th>weight</th>\n",
       "      <th>birthyear</th>\n",
       "      <th>children</th>\n",
       "      <th>hobby</th>\n",
       "    </tr>\n",
       "  </thead>\n",
       "  <tbody>\n",
       "    <tr>\n",
       "      <th>alice</th>\n",
       "      <td>68</td>\n",
       "      <td>1985</td>\n",
       "      <td>NaN</td>\n",
       "      <td>Biking</td>\n",
       "    </tr>\n",
       "    <tr>\n",
       "      <th>bob</th>\n",
       "      <td>83</td>\n",
       "      <td>1984</td>\n",
       "      <td>3.0</td>\n",
       "      <td>Dancing</td>\n",
       "    </tr>\n",
       "    <tr>\n",
       "      <th>charles</th>\n",
       "      <td>112</td>\n",
       "      <td>1992</td>\n",
       "      <td>0.0</td>\n",
       "      <td>NaN</td>\n",
       "    </tr>\n",
       "  </tbody>\n",
       "</table>\n",
       "</div>"
      ],
      "text/plain": [
       "         weight  birthyear  children    hobby\n",
       "alice        68       1985       NaN   Biking\n",
       "bob          83       1984       3.0  Dancing\n",
       "charles     112       1992       0.0      NaN"
      ]
     },
     "execution_count": 197,
     "metadata": {},
     "output_type": "execute_result"
    }
   ],
   "source": [
    "people"
   ]
  },
  {
   "cell_type": "code",
   "execution_count": 195,
   "metadata": {},
   "outputs": [],
   "source": [
    "d2 = pd.DataFrame(\n",
    "        people_dict,\n",
    "        columns=[\"birthyear\", \"weight\", \"height\"],\n",
    "        index=[\"bob\", \"alice\", \"eugene\"]\n",
    "     )"
   ]
  },
  {
   "cell_type": "code",
   "execution_count": 196,
   "metadata": {},
   "outputs": [
    {
     "data": {
      "text/html": [
       "<div>\n",
       "<style scoped>\n",
       "    .dataframe tbody tr th:only-of-type {\n",
       "        vertical-align: middle;\n",
       "    }\n",
       "\n",
       "    .dataframe tbody tr th {\n",
       "        vertical-align: top;\n",
       "    }\n",
       "\n",
       "    .dataframe thead th {\n",
       "        text-align: right;\n",
       "    }\n",
       "</style>\n",
       "<table border=\"1\" class=\"dataframe\">\n",
       "  <thead>\n",
       "    <tr style=\"text-align: right;\">\n",
       "      <th></th>\n",
       "      <th>birthyear</th>\n",
       "      <th>weight</th>\n",
       "      <th>height</th>\n",
       "    </tr>\n",
       "  </thead>\n",
       "  <tbody>\n",
       "    <tr>\n",
       "      <th>bob</th>\n",
       "      <td>1984.0</td>\n",
       "      <td>83.0</td>\n",
       "      <td>NaN</td>\n",
       "    </tr>\n",
       "    <tr>\n",
       "      <th>alice</th>\n",
       "      <td>1985.0</td>\n",
       "      <td>68.0</td>\n",
       "      <td>NaN</td>\n",
       "    </tr>\n",
       "    <tr>\n",
       "      <th>eugene</th>\n",
       "      <td>NaN</td>\n",
       "      <td>NaN</td>\n",
       "      <td>NaN</td>\n",
       "    </tr>\n",
       "  </tbody>\n",
       "</table>\n",
       "</div>"
      ],
      "text/plain": [
       "        birthyear  weight height\n",
       "bob        1984.0    83.0    NaN\n",
       "alice      1985.0    68.0    NaN\n",
       "eugene        NaN     NaN    NaN"
      ]
     },
     "execution_count": 196,
     "metadata": {},
     "output_type": "execute_result"
    }
   ],
   "source": [
    "d2"
   ]
  },
  {
   "cell_type": "code",
   "execution_count": 198,
   "metadata": {},
   "outputs": [
    {
     "data": {
      "text/plain": [
       "array([[1, 4],\n",
       "       [2, 5],\n",
       "       [3, 6]])"
      ]
     },
     "execution_count": 198,
     "metadata": {},
     "output_type": "execute_result"
    }
   ],
   "source": [
    "a = np.array([[1, 2, 3],\n",
    "[4, 5, 6]])\n",
    "a.T"
   ]
  },
  {
   "cell_type": "code",
   "execution_count": 199,
   "metadata": {},
   "outputs": [
    {
     "data": {
      "text/plain": [
       "array([[1, 2, 3],\n",
       "       [4, 5, 6]])"
      ]
     },
     "execution_count": 199,
     "metadata": {},
     "output_type": "execute_result"
    }
   ],
   "source": [
    "a"
   ]
  },
  {
   "cell_type": "code",
   "execution_count": 200,
   "metadata": {},
   "outputs": [
    {
     "data": {
      "text/plain": [
       "array([5, 7, 9])"
      ]
     },
     "execution_count": 200,
     "metadata": {},
     "output_type": "execute_result"
    }
   ],
   "source": [
    "a.sum(axis=0)"
   ]
  },
  {
   "cell_type": "code",
   "execution_count": 201,
   "metadata": {
    "scrolled": true
   },
   "outputs": [
    {
     "data": {
      "text/plain": [
       "array([ 6, 15])"
      ]
     },
     "execution_count": 201,
     "metadata": {},
     "output_type": "execute_result"
    }
   ],
   "source": [
    "a.sum(axis=1)"
   ]
  },
  {
   "cell_type": "code",
   "execution_count": 202,
   "metadata": {},
   "outputs": [],
   "source": [
    "b = np.array([[.1, .2, .3],\n",
    "[.4, .5, .6]])"
   ]
  },
  {
   "cell_type": "code",
   "execution_count": 203,
   "metadata": {},
   "outputs": [],
   "source": [
    "from numpy import linalg"
   ]
  },
  {
   "cell_type": "code",
   "execution_count": 204,
   "metadata": {},
   "outputs": [],
   "source": [
    "coeffs  = np.array([[2, 6], [5, 3]])\n",
    "depvars = np.array([[6], [-9]])\n",
    "solution = linalg.solve(coeffs, depvars)"
   ]
  },
  {
   "cell_type": "code",
   "execution_count": 205,
   "metadata": {},
   "outputs": [
    {
     "data": {
      "text/plain": [
       "array([[-3.],\n",
       "       [ 2.]])"
      ]
     },
     "execution_count": 205,
     "metadata": {},
     "output_type": "execute_result"
    }
   ],
   "source": [
    "solution"
   ]
  },
  {
   "cell_type": "code",
   "execution_count": 206,
   "metadata": {},
   "outputs": [
    {
     "data": {
      "text/plain": [
       "array([[ 6.],\n",
       "       [-9.]])"
      ]
     },
     "execution_count": 206,
     "metadata": {},
     "output_type": "execute_result"
    }
   ],
   "source": [
    "coeffs.dot(solution)"
   ]
  },
  {
   "cell_type": "code",
   "execution_count": 207,
   "metadata": {},
   "outputs": [
    {
     "name": "stdout",
     "output_type": "stream",
     "text": [
      "[[[ 62  61  56]\n",
      "  [ 25  22  15]\n",
      "  [ 28  29  21]\n",
      "  ...\n",
      "  [ 21  27  23]\n",
      "  [ 25  25  23]\n",
      "  [ 18  13  10]]\n",
      "\n",
      " [[ 33  34  29]\n",
      "  [ 24  24  16]\n",
      "  [ 38  39  33]\n",
      "  ...\n",
      "  [ 21  25  24]\n",
      "  [ 26  24  25]\n",
      "  [ 29  23  25]]\n",
      "\n",
      " [[  3   3   1]\n",
      "  [ 15  14  10]\n",
      "  [ 29  30  25]\n",
      "  ...\n",
      "  [ 30  31  33]\n",
      "  [ 18  16  19]\n",
      "  [ 20  15  19]]\n",
      "\n",
      " ...\n",
      "\n",
      " [[ 35  32  25]\n",
      "  [ 32  32  24]\n",
      "  [ 28  22  22]\n",
      "  ...\n",
      "  [ 70  81  85]\n",
      "  [ 76  88  86]\n",
      "  [ 93  86  68]]\n",
      "\n",
      " [[ 52  51  33]\n",
      "  [ 52  46  20]\n",
      "  [ 50  43  25]\n",
      "  ...\n",
      "  [ 72  76  88]\n",
      "  [ 94  99 105]\n",
      "  [122 104  84]]\n",
      "\n",
      " [[ 58  60  39]\n",
      "  [ 63  62  34]\n",
      "  [ 65  67  46]\n",
      "  ...\n",
      "  [ 90 104 105]\n",
      "  [103 119 119]\n",
      "  [127 126 108]]]\n"
     ]
    }
   ],
   "source": [
    " from sklearn.datasets import load_sample_image\n",
    "\n",
    "china = load_sample_image(\"china.jpg\")\n",
    "\n",
    "portion = china[120:250, 110:230]\n",
    "\n",
    "print(portion)"
   ]
  },
  {
   "cell_type": "code",
   "execution_count": 208,
   "metadata": {},
   "outputs": [
    {
     "data": {
      "image/png": "[encoded data removed]",
      "text/plain": [
       "<Figure size 432x288 with 1 Axes>"
      ]
     },
     "metadata": {
      "needs_background": "light"
     },
     "output_type": "display_data"
    }
   ],
   "source": [
    "import numpy as np\n",
    "import matplotlib.pyplot as plt\n",
    "\n",
    "plt.imshow(china,aspect=\"auto\")\n",
    "plt.show()"
   ]
  },
  {
   "cell_type": "code",
   "execution_count": 209,
   "metadata": {},
   "outputs": [
    {
     "data": {
      "image/png": "[encoded data removed]",
      "text/plain": [
       "<Figure size 432x288 with 1 Axes>"
      ]
     },
     "metadata": {
      "needs_background": "light"
     },
     "output_type": "display_data"
    }
   ],
   "source": [
    "plt.imshow(china,aspect=\"auto\")\n",
    "plt.show()"
   ]
  },
  {
   "cell_type": "code",
   "execution_count": 210,
   "metadata": {},
   "outputs": [
    {
     "data": {
      "image/png": "[encoded data removed]",
      "text/plain": [
       "<Figure size 432x288 with 1 Axes>"
      ]
     },
     "metadata": {
      "needs_background": "light"
     },
     "output_type": "display_data"
    }
   ],
   "source": [
    "plt.imshow(portion,aspect=\"auto\")\n",
    "plt.show()"
   ]
  },
  {
   "cell_type": "code",
   "execution_count": null,
   "metadata": {},
   "outputs": [],
   "source": []
  }
 ],
 "metadata": {
  "kernelspec": {
   "display_name": "Python 3",
   "language": "python",
   "name": "python3"
  },
  "language_info": {
   "codemirror_mode": {
    "name": "ipython",
    "version": 3
   },
   "file_extension": ".py",
   "mimetype": "text/x-python",
   "name": "python",
   "nbconvert_exporter": "python",
   "pygments_lexer": "ipython3",
   "version": "3.6.5"
  },
  "toc": {
   "base_numbering": 1,
   "nav_menu": {},
   "number_sections": true,
   "sideBar": true,
   "skip_h1_title": false,
   "title_cell": "Table of Contents",
   "title_sidebar": "Contents",
   "toc_cell": false,
   "toc_position": {},
   "toc_section_display": true,
   "toc_window_display": false
  }
 },
 "nbformat": 4,
 "nbformat_minor": 2
}
