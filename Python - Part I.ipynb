{
 "cells": [
  {
   "cell_type": "code",
   "execution_count": 34,
   "metadata": {
    "slideshow": {
     "slide_type": "slide"
    }
   },
   "outputs": [
    {
     "data": {
      "text/plain": [
       "5"
      ]
     },
     "execution_count": 34,
     "metadata": {},
     "output_type": "execute_result"
    }
   ],
   "source": [
    "# You can use python like a calculator\n",
    "2+3"
   ]
  },
  {
   "cell_type": "code",
   "execution_count": 35,
   "metadata": {
    "slideshow": {
     "slide_type": "slide"
    }
   },
   "outputs": [
    {
     "name": "stdout",
     "output_type": "stream",
     "text": [
      "2\n",
      "Python\n",
      "4.5\n"
     ]
    }
   ],
   "source": [
    "# Comments starts with a hash \n",
    "# You can define different type of variables\n",
    "x = 2\n",
    "name = \"Python\"\n",
    "price = 4.5\n",
    "\n",
    "#To print a value use print\n",
    "print(x)\n",
    "print(name)\n",
    "print(price)"
   ]
  },
  {
   "cell_type": "code",
   "execution_count": 36,
   "metadata": {
    "slideshow": {
     "slide_type": "slide"
    }
   },
   "outputs": [
    {
     "name": "stdout",
     "output_type": "stream",
     "text": [
      "6\n",
      "Python Language\n",
      "9.0\n"
     ]
    }
   ],
   "source": [
    "#Operate upon these variables\n",
    "y = x + 4\n",
    "print(y)\n",
    "\n",
    "fullname = name + \" Language\"\n",
    "print(fullname)\n",
    "\n",
    "amount = price*x\n",
    "print(amount)"
   ]
  },
  {
   "cell_type": "code",
   "execution_count": 37,
   "metadata": {},
   "outputs": [
    {
     "name": "stdout",
     "output_type": "stream",
     "text": [
      "0.9359999999999999\n"
     ]
    }
   ],
   "source": [
    "#Define complex expressions\n",
    "x = 0.6\n",
    "x = 3.9   *   x   *   (  1   -   x  )\n",
    "print(x)"
   ]
  },
  {
   "cell_type": "code",
   "execution_count": 38,
   "metadata": {},
   "outputs": [
    {
     "name": "stdout",
     "output_type": "stream",
     "text": [
      "6.999744\n"
     ]
    }
   ],
   "source": [
    "#Some more expressions\n",
    "x = 5\n",
    "x = 1 + 2 * 3 - 4 / 5 ** 6\n",
    "print(x)"
   ]
  },
  {
   "cell_type": "code",
   "execution_count": 39,
   "metadata": {
    "slideshow": {
     "slide_type": "slide"
    }
   },
   "outputs": [
    {
     "name": "stdout",
     "output_type": "stream",
     "text": [
      "6.999744\n",
      "Help on float object:\n",
      "\n",
      "class float(object)\n",
      " |  float(x) -> floating point number\n",
      " |  \n",
      " |  Convert a string or number to a floating point number, if possible.\n",
      " |  \n",
      " |  Methods defined here:\n",
      " |  \n",
      " |  __abs__(self, /)\n",
      " |      abs(self)\n",
      " |  \n",
      " |  __add__(self, value, /)\n",
      " |      Return self+value.\n",
      " |  \n",
      " |  __bool__(self, /)\n",
      " |      self != 0\n",
      " |  \n",
      " |  __divmod__(self, value, /)\n",
      " |      Return divmod(self, value).\n",
      " |  \n",
      " |  __eq__(self, value, /)\n",
      " |      Return self==value.\n",
      " |  \n",
      " |  __float__(self, /)\n",
      " |      float(self)\n",
      " |  \n",
      " |  __floordiv__(self, value, /)\n",
      " |      Return self//value.\n",
      " |  \n",
      " |  __format__(...)\n",
      " |      float.__format__(format_spec) -> string\n",
      " |      \n",
      " |      Formats the float according to format_spec.\n",
      " |  \n",
      " |  __ge__(self, value, /)\n",
      " |      Return self>=value.\n",
      " |  \n",
      " |  __getattribute__(self, name, /)\n",
      " |      Return getattr(self, name).\n",
      " |  \n",
      " |  __getformat__(...) from builtins.type\n",
      " |      float.__getformat__(typestr) -> string\n",
      " |      \n",
      " |      You probably don't want to use this function.  It exists mainly to be\n",
      " |      used in Python's test suite.\n",
      " |      \n",
      " |      typestr must be 'double' or 'float'.  This function returns whichever of\n",
      " |      'unknown', 'IEEE, big-endian' or 'IEEE, little-endian' best describes the\n",
      " |      format of floating point numbers used by the C type named by typestr.\n",
      " |  \n",
      " |  __getnewargs__(...)\n",
      " |  \n",
      " |  __gt__(self, value, /)\n",
      " |      Return self>value.\n",
      " |  \n",
      " |  __hash__(self, /)\n",
      " |      Return hash(self).\n",
      " |  \n",
      " |  __int__(self, /)\n",
      " |      int(self)\n",
      " |  \n",
      " |  __le__(self, value, /)\n",
      " |      Return self<=value.\n",
      " |  \n",
      " |  __lt__(self, value, /)\n",
      " |      Return self<value.\n",
      " |  \n",
      " |  __mod__(self, value, /)\n",
      " |      Return self%value.\n",
      " |  \n",
      " |  __mul__(self, value, /)\n",
      " |      Return self*value.\n",
      " |  \n",
      " |  __ne__(self, value, /)\n",
      " |      Return self!=value.\n",
      " |  \n",
      " |  __neg__(self, /)\n",
      " |      -self\n",
      " |  \n",
      " |  __new__(*args, **kwargs) from builtins.type\n",
      " |      Create and return a new object.  See help(type) for accurate signature.\n",
      " |  \n",
      " |  __pos__(self, /)\n",
      " |      +self\n",
      " |  \n",
      " |  __pow__(self, value, mod=None, /)\n",
      " |      Return pow(self, value, mod).\n",
      " |  \n",
      " |  __radd__(self, value, /)\n",
      " |      Return value+self.\n",
      " |  \n",
      " |  __rdivmod__(self, value, /)\n",
      " |      Return divmod(value, self).\n",
      " |  \n",
      " |  __repr__(self, /)\n",
      " |      Return repr(self).\n",
      " |  \n",
      " |  __rfloordiv__(self, value, /)\n",
      " |      Return value//self.\n",
      " |  \n",
      " |  __rmod__(self, value, /)\n",
      " |      Return value%self.\n",
      " |  \n",
      " |  __rmul__(self, value, /)\n",
      " |      Return value*self.\n",
      " |  \n",
      " |  __round__(...)\n",
      " |      Return the Integral closest to x, rounding half toward even.\n",
      " |      When an argument is passed, work like built-in round(x, ndigits).\n",
      " |  \n",
      " |  __rpow__(self, value, mod=None, /)\n",
      " |      Return pow(value, self, mod).\n",
      " |  \n",
      " |  __rsub__(self, value, /)\n",
      " |      Return value-self.\n",
      " |  \n",
      " |  __rtruediv__(self, value, /)\n",
      " |      Return value/self.\n",
      " |  \n",
      " |  __setformat__(...) from builtins.type\n",
      " |      float.__setformat__(typestr, fmt) -> None\n",
      " |      \n",
      " |      You probably don't want to use this function.  It exists mainly to be\n",
      " |      used in Python's test suite.\n",
      " |      \n",
      " |      typestr must be 'double' or 'float'.  fmt must be one of 'unknown',\n",
      " |      'IEEE, big-endian' or 'IEEE, little-endian', and in addition can only be\n",
      " |      one of the latter two if it appears to match the underlying C reality.\n",
      " |      \n",
      " |      Override the automatic determination of C-level floating point type.\n",
      " |      This affects how floats are converted to and from binary strings.\n",
      " |  \n",
      " |  __str__(self, /)\n",
      " |      Return str(self).\n",
      " |  \n",
      " |  __sub__(self, value, /)\n",
      " |      Return self-value.\n",
      " |  \n",
      " |  __truediv__(self, value, /)\n",
      " |      Return self/value.\n",
      " |  \n",
      " |  __trunc__(...)\n",
      " |      Return the Integral closest to x between 0 and x.\n",
      " |  \n",
      " |  as_integer_ratio(...)\n",
      " |      float.as_integer_ratio() -> (int, int)\n",
      " |      \n",
      " |      Return a pair of integers, whose ratio is exactly equal to the original\n",
      " |      float and with a positive denominator.\n",
      " |      Raise OverflowError on infinities and a ValueError on NaNs.\n",
      " |      \n",
      " |      >>> (10.0).as_integer_ratio()\n",
      " |      (10, 1)\n",
      " |      >>> (0.0).as_integer_ratio()\n",
      " |      (0, 1)\n",
      " |      >>> (-.25).as_integer_ratio()\n",
      " |      (-1, 4)\n",
      " |  \n",
      " |  conjugate(...)\n",
      " |      Return self, the complex conjugate of any float.\n",
      " |  \n",
      " |  fromhex(...) from builtins.type\n",
      " |      float.fromhex(string) -> float\n",
      " |      \n",
      " |      Create a floating-point number from a hexadecimal string.\n",
      " |      >>> float.fromhex('0x1.ffffp10')\n",
      " |      2047.984375\n",
      " |      >>> float.fromhex('-0x1p-1074')\n",
      " |      -5e-324\n",
      " |  \n",
      " |  hex(...)\n",
      " |      float.hex() -> string\n",
      " |      \n",
      " |      Return a hexadecimal representation of a floating-point number.\n",
      " |      >>> (-0.1).hex()\n",
      " |      '-0x1.999999999999ap-4'\n",
      " |      >>> 3.14159.hex()\n",
      " |      '0x1.921f9f01b866ep+1'\n",
      " |  \n",
      " |  is_integer(...)\n",
      " |      Return True if the float is an integer.\n",
      " |  \n",
      " |  ----------------------------------------------------------------------\n",
      " |  Data descriptors defined here:\n",
      " |  \n",
      " |  imag\n",
      " |      the imaginary part of a complex number\n",
      " |  \n",
      " |  real\n",
      " |      the real part of a complex number\n",
      "\n"
     ]
    }
   ],
   "source": [
    "#To know what kind of data a variable has use type\n",
    "print(x)\n",
    "type(x)\n",
    "help(x)"
   ]
  },
  {
   "cell_type": "code",
   "execution_count": 40,
   "metadata": {
    "slideshow": {
     "slide_type": "slide"
    }
   },
   "outputs": [
    {
     "data": {
      "text/plain": [
       "str"
      ]
     },
     "execution_count": 40,
     "metadata": {},
     "output_type": "execute_result"
    }
   ],
   "source": [
    "type(name)\n"
   ]
  },
  {
   "cell_type": "code",
   "execution_count": 41,
   "metadata": {
    "slideshow": {
     "slide_type": "slide"
    }
   },
   "outputs": [
    {
     "data": {
      "text/plain": [
       "float"
      ]
     },
     "execution_count": 41,
     "metadata": {},
     "output_type": "execute_result"
    }
   ],
   "source": [
    "type(price)"
   ]
  },
  {
   "cell_type": "code",
   "execution_count": 42,
   "metadata": {
    "slideshow": {
     "slide_type": "slide"
    }
   },
   "outputs": [
    {
     "name": "stdout",
     "output_type": "stream",
     "text": [
      "12\n",
      "hello\n",
      "7\n"
     ]
    }
   ],
   "source": [
    "# You can save the lines in a file\n",
    "# either run on command prompt using python with the file\n",
    "#or use run here\n",
    "%run simpleexp.py\n",
    "%run hello.py"
   ]
  },
  {
   "cell_type": "code",
   "execution_count": 43,
   "metadata": {},
   "outputs": [
    {
     "name": "stdout",
     "output_type": "stream",
     "text": [
      "hello\n",
      "7\n"
     ]
    }
   ],
   "source": [
    "!python hello.py"
   ]
  },
  {
   "cell_type": "code",
   "execution_count": 44,
   "metadata": {},
   "outputs": [
    {
     "name": "stdout",
     "output_type": "stream",
     "text": [
      "Who are you?man\n",
      "Welcome man\n"
     ]
    }
   ],
   "source": [
    "#Read from user\n",
    "nam = input('Who are you?')\n",
    "print ('Welcome', nam)"
   ]
  },
  {
   "cell_type": "code",
   "execution_count": 45,
   "metadata": {
    "scrolled": true
   },
   "outputs": [
    {
     "name": "stdout",
     "output_type": "stream",
     "text": [
      "Europe floor?5\n",
      "US floor 6\n"
     ]
    }
   ],
   "source": [
    "#Convert to int\n",
    "inp = input('Europe floor?')\n",
    "usf = int(inp) + 1\n",
    "print ('US floor', usf)"
   ]
  },
  {
   "cell_type": "code",
   "execution_count": 46,
   "metadata": {},
   "outputs": [
    {
     "name": "stdout",
     "output_type": "stream",
     "text": [
      "Hours:5\n",
      "Pay:5\n",
      "25.0\n"
     ]
    }
   ],
   "source": [
    "#Write a program to prompt the user for hours \n",
    "# and rate per hour to compute gross pay.\n",
    "#Enter Hours: 35 \n",
    "#Enter Rate: 2.75 \n",
    "#Pay: 96.25\n",
    "try:\n",
    "    pay = float(input(\"Hours:\")) * float(input(\"Pay:\"))\n",
    "    print(pay)\n",
    "except:\n",
    "    print(\"Wrong Input\")"
   ]
  },
  {
   "cell_type": "code",
   "execution_count": 47,
   "metadata": {},
   "outputs": [
    {
     "name": "stdout",
     "output_type": "stream",
     "text": [
      "x:5\n",
      "Equals 5\n",
      "Greater than 4\n",
      "Greater than or Equals 5\n",
      "Less than 6\n",
      "Less than or Equals 5\n",
      "Not equal 6\n"
     ]
    }
   ],
   "source": [
    "# Comparison Operators\n",
    "x = int(input(\"x:\"))\n",
    "if x == 5 : \n",
    "    print ('Equals 5')\n",
    "if x > 4 : \n",
    "   print ('Greater than 4')\n",
    "if  x >= 5 :\n",
    "    print ('Greater than or Equals 5')\n",
    "if x < 6 : \n",
    "    print ('Less than 6')\n",
    "if x <= 5 :\n",
    "    print ('Less than or Equals 5')\n",
    "if x != 6 :\n",
    "    print ('Not equal 6')\n"
   ]
  },
  {
   "cell_type": "code",
   "execution_count": 48,
   "metadata": {},
   "outputs": [
    {
     "name": "stdout",
     "output_type": "stream",
     "text": [
      "x:3\n",
      "Medium\n",
      "All done\n"
     ]
    }
   ],
   "source": [
    "#More conditional\n",
    "x = int(input(\"x:\"))\n",
    "if x < 2 :\n",
    "    print ('small')\n",
    "elif x < 10 :\n",
    "    print ('Medium')\n",
    "elif x < 40:\n",
    "    print('tollerable')\n",
    "elif x < 80:\n",
    "    print ('Damage range')\n",
    "else :\n",
    "    print ('VERY LARGE')\n",
    "print ('All done')\n"
   ]
  },
  {
   "cell_type": "code",
   "execution_count": 49,
   "metadata": {},
   "outputs": [
    {
     "name": "stdout",
     "output_type": "stream",
     "text": [
      "x is in range\n"
     ]
    }
   ],
   "source": [
    "x = 8\n",
    "if x > 2:\n",
    "    if x < 100:\n",
    "        print('x is in range')\n",
    "    else:\n",
    "        print ('out of range')\n",
    "else:\n",
    "    print ('out of range')"
   ]
  },
  {
   "cell_type": "code",
   "execution_count": 50,
   "metadata": {},
   "outputs": [
    {
     "name": "stdout",
     "output_type": "stream",
     "text": [
      "enter rate:2\n",
      "rate is cheap\n"
     ]
    }
   ],
   "source": [
    "rate = input(\"enter rate:\")\n",
    "if float(rate)>10:\n",
    "    print('good')\n",
    "else:\n",
    "    print('rate is cheap')"
   ]
  },
  {
   "cell_type": "markdown",
   "metadata": {},
   "source": [
    "Rewrite your pay program using try and except so that your program handles non-numeric input gracefully.\n",
    "\n",
    "Enter Hours: 20 \n",
    "Enter Rate: nine \n",
    "Error, please enter numeric input\n",
    "\n",
    "Enter Hours: forty  \n",
    "Error, please enter numeric input\n"
   ]
  },
  {
   "cell_type": "code",
   "execution_count": 51,
   "metadata": {
    "scrolled": true
   },
   "outputs": [
    {
     "name": "stdout",
     "output_type": "stream",
     "text": [
      "8\n"
     ]
    }
   ],
   "source": [
    "# This is how you define functions\n",
    "def addtwo(a, b):\n",
    "    added = a + b\n",
    "    return added\n",
    "\n",
    "x = addtwo(3, 5)\n",
    "print (x)\n"
   ]
  },
  {
   "cell_type": "code",
   "execution_count": 52,
   "metadata": {},
   "outputs": [
    {
     "name": "stdout",
     "output_type": "stream",
     "text": [
      "[4, 3]\n",
      "[13, 4]\n"
     ]
    }
   ],
   "source": [
    "def ordernums(a, b):\n",
    "    if a > b:\n",
    "        return [a,b]\n",
    "    else:\n",
    "        return [b,a]\n",
    "print(ordernums(3,4))\n",
    "print(ordernums(13,4))"
   ]
  },
  {
   "cell_type": "code",
   "execution_count": 53,
   "metadata": {},
   "outputs": [
    {
     "data": {
      "text/plain": [
       "9"
      ]
     },
     "execution_count": 53,
     "metadata": {},
     "output_type": "execute_result"
    }
   ],
   "source": [
    "def sq(x): return x*x\n",
    "sq(3)"
   ]
  },
  {
   "cell_type": "code",
   "execution_count": 54,
   "metadata": {},
   "outputs": [
    {
     "name": "stdout",
     "output_type": "stream",
     "text": [
      "[1, 4, 9]\n",
      "[1, 4, 9]\n"
     ]
    }
   ],
   "source": [
    "def mymap(a, f):\n",
    "    retval = []\n",
    "    for i in a:\n",
    "        v = f(i)\n",
    "        retval.append(v)\n",
    "    return retval\n",
    "\n",
    "print(mymap([1,2,3], sq))\n",
    "print([sq(1), sq(2), sq(3)])\n",
    "#def cube(x): return x*x*x\n",
    "\n",
    "#print(mymap([1,2,3], print))\n",
    "\n",
    "#mymap([1,2,3], print)\n",
    "# def myf(x): return x*2\n",
    "# mymap([1,2,3,4], lambda x:x*2)\n",
    "#mymap([1,2,3,4], lambda x:x*2)\n"
   ]
  },
  {
   "cell_type": "code",
   "execution_count": 55,
   "metadata": {},
   "outputs": [
    {
     "data": {
      "text/plain": [
       "9"
      ]
     },
     "execution_count": 55,
     "metadata": {},
     "output_type": "execute_result"
    }
   ],
   "source": [
    "sum = lambda x,y: x + y\n",
    "sum(4,5)"
   ]
  },
  {
   "cell_type": "code",
   "execution_count": 56,
   "metadata": {},
   "outputs": [
    {
     "data": {
      "text/plain": [
       "<module 'math' (built-in)>"
      ]
     },
     "execution_count": 56,
     "metadata": {},
     "output_type": "execute_result"
    }
   ],
   "source": [
    "f = lambda x,y: x + y\n",
    "m"
   ]
  },
  {
   "cell_type": "code",
   "execution_count": 57,
   "metadata": {},
   "outputs": [
    {
     "name": "stdout",
     "output_type": "stream",
     "text": [
      "multiplier:5\n",
      "multiplier:5\n",
      "multiplier:\n"
     ]
    },
    {
     "ename": "ValueError",
     "evalue": "invalid literal for int() with base 10: ''",
     "output_type": "error",
     "traceback": [
      "\u001b[1;31m---------------------------------------------------------------------------\u001b[0m",
      "\u001b[1;31mValueError\u001b[0m                                Traceback (most recent call last)",
      "\u001b[1;32m<ipython-input-57-a631b4fe9068>\u001b[0m in \u001b[0;36m<module>\u001b[1;34m()\u001b[0m\n\u001b[1;32m----> 1\u001b[1;33m \u001b[0mmymap\u001b[0m\u001b[1;33m(\u001b[0m\u001b[1;33m[\u001b[0m\u001b[1;36m1\u001b[0m\u001b[1;33m,\u001b[0m\u001b[1;36m2\u001b[0m\u001b[1;33m,\u001b[0m\u001b[1;36m3\u001b[0m\u001b[1;33m,\u001b[0m\u001b[1;36m4\u001b[0m\u001b[1;33m]\u001b[0m\u001b[1;33m,\u001b[0m \u001b[1;32mlambda\u001b[0m \u001b[0mx\u001b[0m\u001b[1;33m:\u001b[0m \u001b[0mx\u001b[0m\u001b[1;33m*\u001b[0m\u001b[0mint\u001b[0m\u001b[1;33m(\u001b[0m\u001b[0minput\u001b[0m\u001b[1;33m(\u001b[0m\u001b[1;34m\"multiplier:\"\u001b[0m\u001b[1;33m)\u001b[0m\u001b[1;33m)\u001b[0m\u001b[1;33m)\u001b[0m\u001b[1;33m\u001b[0m\u001b[0m\n\u001b[0m",
      "\u001b[1;32m<ipython-input-54-d116f9fa797c>\u001b[0m in \u001b[0;36mmymap\u001b[1;34m(a, f)\u001b[0m\n\u001b[0;32m      2\u001b[0m     \u001b[0mretval\u001b[0m \u001b[1;33m=\u001b[0m \u001b[1;33m[\u001b[0m\u001b[1;33m]\u001b[0m\u001b[1;33m\u001b[0m\u001b[0m\n\u001b[0;32m      3\u001b[0m     \u001b[1;32mfor\u001b[0m \u001b[0mi\u001b[0m \u001b[1;32min\u001b[0m \u001b[0ma\u001b[0m\u001b[1;33m:\u001b[0m\u001b[1;33m\u001b[0m\u001b[0m\n\u001b[1;32m----> 4\u001b[1;33m         \u001b[0mv\u001b[0m \u001b[1;33m=\u001b[0m \u001b[0mf\u001b[0m\u001b[1;33m(\u001b[0m\u001b[0mi\u001b[0m\u001b[1;33m)\u001b[0m\u001b[1;33m\u001b[0m\u001b[0m\n\u001b[0m\u001b[0;32m      5\u001b[0m         \u001b[0mretval\u001b[0m\u001b[1;33m.\u001b[0m\u001b[0mappend\u001b[0m\u001b[1;33m(\u001b[0m\u001b[0mv\u001b[0m\u001b[1;33m)\u001b[0m\u001b[1;33m\u001b[0m\u001b[0m\n\u001b[0;32m      6\u001b[0m     \u001b[1;32mreturn\u001b[0m \u001b[0mretval\u001b[0m\u001b[1;33m\u001b[0m\u001b[0m\n",
      "\u001b[1;32m<ipython-input-57-a631b4fe9068>\u001b[0m in \u001b[0;36m<lambda>\u001b[1;34m(x)\u001b[0m\n\u001b[1;32m----> 1\u001b[1;33m \u001b[0mmymap\u001b[0m\u001b[1;33m(\u001b[0m\u001b[1;33m[\u001b[0m\u001b[1;36m1\u001b[0m\u001b[1;33m,\u001b[0m\u001b[1;36m2\u001b[0m\u001b[1;33m,\u001b[0m\u001b[1;36m3\u001b[0m\u001b[1;33m,\u001b[0m\u001b[1;36m4\u001b[0m\u001b[1;33m]\u001b[0m\u001b[1;33m,\u001b[0m \u001b[1;32mlambda\u001b[0m \u001b[0mx\u001b[0m\u001b[1;33m:\u001b[0m \u001b[0mx\u001b[0m\u001b[1;33m*\u001b[0m\u001b[0mint\u001b[0m\u001b[1;33m(\u001b[0m\u001b[0minput\u001b[0m\u001b[1;33m(\u001b[0m\u001b[1;34m\"multiplier:\"\u001b[0m\u001b[1;33m)\u001b[0m\u001b[1;33m)\u001b[0m\u001b[1;33m)\u001b[0m\u001b[1;33m\u001b[0m\u001b[0m\n\u001b[0m",
      "\u001b[1;31mValueError\u001b[0m: invalid literal for int() with base 10: ''"
     ]
    }
   ],
   "source": [
    "mymap([1,2,3,4], lambda x: x*int(input(\"multiplier:\")))"
   ]
  },
  {
   "cell_type": "markdown",
   "metadata": {},
   "source": [
    "\n",
    "Rewrite your pay computation with time-and-a-half for overtime and create a function called computepay which takes two parameters ( hours and  rate).\n",
    "\n",
    "Enter Hours: 45\n",
    "Enter Rate: 10 \n",
    "Pay: 475.0\n"
   ]
  },
  {
   "cell_type": "code",
   "execution_count": null,
   "metadata": {},
   "outputs": [],
   "source": [
    "n = 5\n",
    "while n > 0 :\n",
    "    print (n)\n",
    "    n = n - 1\n",
    "print ('Blastoff!')\n",
    "print (n)"
   ]
  },
  {
   "cell_type": "code",
   "execution_count": null,
   "metadata": {},
   "outputs": [],
   "source": [
    "while True:\n",
    "    line = input('> ')\n",
    "    if line == 'done' :\n",
    "        break\n",
    "    print (line)\n",
    "print ('Done!')"
   ]
  },
  {
   "cell_type": "code",
   "execution_count": null,
   "metadata": {},
   "outputs": [],
   "source": [
    "while True:\n",
    "    line = input('> ')\n",
    "    if line == 'done' :\n",
    "        break\n",
    "    while True:\n",
    "        name = input(\"... \")\n",
    "        if name == \"\":\n",
    "            break\n",
    "    print (line)\n",
    "print ('Done!')"
   ]
  },
  {
   "cell_type": "code",
   "execution_count": null,
   "metadata": {},
   "outputs": [],
   "source": [
    "while True:\n",
    "    line = input('> ')\n",
    "    if line[0] == '#' : \n",
    "        continue\n",
    "    if line == 'done' :\n",
    "        break\n",
    "    print (line)\n",
    "print ('Done!')\n"
   ]
  },
  {
   "cell_type": "code",
   "execution_count": null,
   "metadata": {},
   "outputs": [],
   "source": [
    "x = [1,2,3, 4]"
   ]
  },
  {
   "cell_type": "code",
   "execution_count": null,
   "metadata": {},
   "outputs": [],
   "source": [
    "x"
   ]
  },
  {
   "cell_type": "code",
   "execution_count": null,
   "metadata": {},
   "outputs": [],
   "source": [
    "type(x)"
   ]
  },
  {
   "cell_type": "code",
   "execution_count": null,
   "metadata": {},
   "outputs": [],
   "source": [
    "for ctdn in [5, 4, 3, 2, 1]:\n",
    "    n = ctdn\n",
    "    while n > 0:\n",
    "        print(\".\")\n",
    "        n = n - 1\n",
    "    print(ctdn)\n",
    "print(\"Blastoff\")"
   ]
  },
  {
   "cell_type": "code",
   "execution_count": null,
   "metadata": {},
   "outputs": [],
   "source": [
    "x = [\"apple\", \"banana\", \"eggs\"]\n",
    "x[1] = \"Banana\"\n",
    "x.append(\"cereal\")\n",
    "x.sort()\n",
    "print(x.reverse())\n",
    "print(x)\n",
    "\n",
    "dir(x)"
   ]
  },
  {
   "cell_type": "code",
   "execution_count": null,
   "metadata": {},
   "outputs": [],
   "source": [
    "l = []\n",
    "l.append(\"first\")\n",
    "\n",
    "l.append(\"second\")\n",
    "l.append(\"third\")\n",
    "\n",
    "print(l)"
   ]
  },
  {
   "cell_type": "code",
   "execution_count": null,
   "metadata": {},
   "outputs": [],
   "source": [
    "print(l.pop())"
   ]
  },
  {
   "cell_type": "code",
   "execution_count": null,
   "metadata": {},
   "outputs": [],
   "source": [
    "for item in [\"apple\", \"banana\", \"eggs\", 3, 4, 6.0]:\n",
    "    print(item)\n",
    "    print(type(item))"
   ]
  },
  {
   "cell_type": "code",
   "execution_count": null,
   "metadata": {},
   "outputs": [],
   "source": [
    "largest_so_far = -1\n",
    "print ('Before', largest_so_far)\n",
    "for the_num in [9, 41, 12, 3, 74, 15] :\n",
    "   if the_num > largest_so_far :\n",
    "      largest_so_far = the_num\n",
    "   print (largest_so_far, the_num)\n",
    "print ('After', largest_so_far)"
   ]
  },
  {
   "cell_type": "code",
   "execution_count": null,
   "metadata": {},
   "outputs": [],
   "source": [
    "max([9, 41, 12, 3, 74, 15])"
   ]
  },
  {
   "cell_type": "markdown",
   "metadata": {},
   "source": [
    "'''\n",
    "You are given stock values in an array (365 values) of one year: \n",
    "[3, 1.5, 6, 7, 1] \n",
    "\n",
    "You can only buy once and then sell once.\n",
    "You need to find the max profit you can make.\n",
    "\n",
    "'''"
   ]
  },
  {
   "cell_type": "code",
   "execution_count": null,
   "metadata": {},
   "outputs": [],
   "source": [
    "count = 0\n",
    "sum = 0\n",
    "print ('Before', count, sum)\n",
    "for value in [9, 41, 12, 3, 74, 15] :\n",
    "    count = count + 1\n",
    "    sum = sum + value\n",
    "    print (count, sum, value)\n",
    "print ('After', count, sum, sum / count)"
   ]
  },
  {
   "cell_type": "code",
   "execution_count": 3,
   "metadata": {},
   "outputs": [
    {
     "name": "stdout",
     "output_type": "stream",
     "text": [
      "before\n",
      "9 9\n",
      "9 41\n",
      "9 12\n",
      "3 3\n",
      "3 74\n",
      "3 15\n",
      "After 3\n"
     ]
    }
   ],
   "source": [
    "smalest = 0\n",
    "print('before')\n",
    "for value in [9,41,12,3,74,15]:\n",
    "    if smalest is 0:\n",
    "        smalest = value\n",
    "    elif value < smalest:\n",
    "        smalest = value\n",
    "    print (smalest,value)\n",
    "print('After', smalest)"
   ]
  },
  {
   "cell_type": "code",
   "execution_count": null,
   "metadata": {},
   "outputs": [],
   "source": []
  },
  {
   "cell_type": "code",
   "execution_count": null,
   "metadata": {},
   "outputs": [],
   "source": [
    "x\n"
   ]
  },
  {
   "cell_type": "code",
   "execution_count": null,
   "metadata": {},
   "outputs": [],
   "source": [
    "x.length"
   ]
  },
  {
   "cell_type": "code",
   "execution_count": null,
   "metadata": {},
   "outputs": [],
   "source": [
    "x.length()\n"
   ]
  },
  {
   "cell_type": "code",
   "execution_count": null,
   "metadata": {},
   "outputs": [],
   "source": [
    "len(x)"
   ]
  },
  {
   "cell_type": "code",
   "execution_count": null,
   "metadata": {},
   "outputs": [],
   "source": [
    "x = ''"
   ]
  },
  {
   "cell_type": "code",
   "execution_count": null,
   "metadata": {},
   "outputs": [],
   "source": [
    "x\n"
   ]
  },
  {
   "cell_type": "code",
   "execution_count": null,
   "metadata": {},
   "outputs": [],
   "source": [
    "x is None"
   ]
  },
  {
   "cell_type": "code",
   "execution_count": null,
   "metadata": {},
   "outputs": [],
   "source": [
    "x\n"
   ]
  },
  {
   "cell_type": "code",
   "execution_count": null,
   "metadata": {},
   "outputs": [],
   "source": []
  },
  {
   "cell_type": "code",
   "execution_count": null,
   "metadata": {},
   "outputs": [],
   "source": []
  },
  {
   "cell_type": "code",
   "execution_count": null,
   "metadata": {},
   "outputs": [],
   "source": []
  },
  {
   "cell_type": "code",
   "execution_count": null,
   "metadata": {},
   "outputs": [],
   "source": []
  },
  {
   "cell_type": "code",
   "execution_count": null,
   "metadata": {},
   "outputs": [],
   "source": [
    "smallest= None\n"
   ]
  },
  {
   "cell_type": "code",
   "execution_count": null,
   "metadata": {},
   "outputs": [],
   "source": [
    "smallest= None"
   ]
  },
  {
   "cell_type": "code",
   "execution_count": null,
   "metadata": {},
   "outputs": [],
   "source": [
    "smallest is None"
   ]
  },
  {
   "cell_type": "code",
   "execution_count": null,
   "metadata": {},
   "outputs": [],
   "source": [
    "smallest == None"
   ]
  },
  {
   "cell_type": "code",
   "execution_count": null,
   "metadata": {},
   "outputs": [],
   "source": [
    "'Hello' == \"Hello\""
   ]
  },
  {
   "cell_type": "code",
   "execution_count": null,
   "metadata": {},
   "outputs": [],
   "source": [
    "\"1\" == 1"
   ]
  },
  {
   "cell_type": "code",
   "execution_count": null,
   "metadata": {},
   "outputs": [],
   "source": [
    "\"1\" + \"1\""
   ]
  },
  {
   "cell_type": "code",
   "execution_count": null,
   "metadata": {},
   "outputs": [],
   "source": [
    "1 + 1"
   ]
  },
  {
   "cell_type": "code",
   "execution_count": null,
   "metadata": {},
   "outputs": [],
   "source": [
    "fruit = \"Banana\""
   ]
  },
  {
   "cell_type": "code",
   "execution_count": null,
   "metadata": {},
   "outputs": [],
   "source": [
    "fruit"
   ]
  },
  {
   "cell_type": "code",
   "execution_count": null,
   "metadata": {},
   "outputs": [],
   "source": [
    "fruit[1]"
   ]
  },
  {
   "cell_type": "code",
   "execution_count": null,
   "metadata": {},
   "outputs": [],
   "source": [
    "for i in range(0,len(fruit)):\n",
    "    print(fruit[i])"
   ]
  },
  {
   "cell_type": "code",
   "execution_count": null,
   "metadata": {},
   "outputs": [],
   "source": [
    "len(fruit)"
   ]
  },
  {
   "cell_type": "code",
   "execution_count": null,
   "metadata": {},
   "outputs": [],
   "source": [
    "for i in range(0,6):\n",
    "    print(i)"
   ]
  },
  {
   "cell_type": "code",
   "execution_count": null,
   "metadata": {},
   "outputs": [],
   "source": [
    "import sys\n",
    "sys.stdout.write('hi ')\n",
    "sys.stdout.write('there ')"
   ]
  },
  {
   "cell_type": "code",
   "execution_count": null,
   "metadata": {},
   "outputs": [],
   "source": [
    "for i in range(1,2):\n",
    "    print(i)"
   ]
  },
  {
   "cell_type": "code",
   "execution_count": null,
   "metadata": {},
   "outputs": [],
   "source": [
    "fruit"
   ]
  },
  {
   "cell_type": "code",
   "execution_count": null,
   "metadata": {},
   "outputs": [],
   "source": [
    "fruit[6]"
   ]
  },
  {
   "cell_type": "code",
   "execution_count": null,
   "metadata": {
    "scrolled": true
   },
   "outputs": [],
   "source": [
    "fruit = 'banana'\n",
    "index = 0\n",
    "while index < len(fruit): \n",
    "    letter = fruit[index]\n",
    "    print (index, letter)\n",
    "    index = index + 1\n"
   ]
  },
  {
   "cell_type": "code",
   "execution_count": null,
   "metadata": {},
   "outputs": [],
   "source": [
    "import sys\n",
    "fruit = 'banana'\n",
    "for letter in fruit: \n",
    "    sys.stdout.write (letter + \"::\")\n"
   ]
  },
  {
   "cell_type": "code",
   "execution_count": null,
   "metadata": {},
   "outputs": [],
   "source": [
    "word = 'banana'\n",
    "count = 0\n",
    "for letter in word :\n",
    "    if letter == 'a' : \n",
    "       count = count + 1\n",
    "print (count)\n"
   ]
  },
  {
   "cell_type": "code",
   "execution_count": null,
   "metadata": {},
   "outputs": [],
   "source": [
    "s = \"Monty Python\""
   ]
  },
  {
   "cell_type": "code",
   "execution_count": null,
   "metadata": {},
   "outputs": [],
   "source": [
    "s[0:]"
   ]
  },
  {
   "cell_type": "code",
   "execution_count": null,
   "metadata": {},
   "outputs": [],
   "source": [
    "s[1:2]"
   ]
  },
  {
   "cell_type": "code",
   "execution_count": null,
   "metadata": {},
   "outputs": [],
   "source": [
    "s = 'Monty Python'\n",
    "print (s[0:4])\n",
    "print (s[6:7])\n",
    "print (s[6:20])\n"
   ]
  },
  {
   "cell_type": "code",
   "execution_count": null,
   "metadata": {},
   "outputs": [],
   "source": [
    "s[0:]"
   ]
  },
  {
   "cell_type": "code",
   "execution_count": null,
   "metadata": {},
   "outputs": [],
   "source": [
    "s[:]"
   ]
  },
  {
   "cell_type": "code",
   "execution_count": null,
   "metadata": {},
   "outputs": [],
   "source": [
    "s[:4]"
   ]
  },
  {
   "cell_type": "code",
   "execution_count": null,
   "metadata": {},
   "outputs": [],
   "source": [
    "s[1:]"
   ]
  },
  {
   "cell_type": "code",
   "execution_count": null,
   "metadata": {},
   "outputs": [],
   "source": [
    "import sys\n",
    "for i in range(1,10):\n",
    "    sys.stdout.write (str(i))"
   ]
  },
  {
   "cell_type": "code",
   "execution_count": null,
   "metadata": {},
   "outputs": [],
   "source": [
    "i = 1\n",
    "while i < 10:\n",
    "    print(i)\n",
    "    i = i +1"
   ]
  },
  {
   "cell_type": "code",
   "execution_count": null,
   "metadata": {},
   "outputs": [],
   "source": [
    "fruit\n"
   ]
  },
  {
   "cell_type": "code",
   "execution_count": null,
   "metadata": {},
   "outputs": [],
   "source": [
    "'bana' in fruit"
   ]
  },
  {
   "cell_type": "code",
   "execution_count": null,
   "metadata": {},
   "outputs": [],
   "source": [
    "'b' in 'aeiou'"
   ]
  },
  {
   "cell_type": "code",
   "execution_count": null,
   "metadata": {},
   "outputs": [],
   "source": [
    "def is_vowel(l):\n",
    "    return l in 'aeiou' "
   ]
  },
  {
   "cell_type": "code",
   "execution_count": null,
   "metadata": {},
   "outputs": [],
   "source": [
    "is_vowel('a')"
   ]
  },
  {
   "cell_type": "code",
   "execution_count": null,
   "metadata": {},
   "outputs": [],
   "source": [
    "is_vowel('b')"
   ]
  },
  {
   "cell_type": "code",
   "execution_count": null,
   "metadata": {},
   "outputs": [],
   "source": [
    "2 in [1,2,3]"
   ]
  },
  {
   "cell_type": "code",
   "execution_count": null,
   "metadata": {},
   "outputs": [],
   "source": [
    "'apple' < 'banana'"
   ]
  },
  {
   "cell_type": "code",
   "execution_count": null,
   "metadata": {},
   "outputs": [],
   "source": [
    "'apple' < 'apricot'"
   ]
  },
  {
   "cell_type": "code",
   "execution_count": null,
   "metadata": {},
   "outputs": [],
   "source": [
    "'Apple' < 'apple'"
   ]
  },
  {
   "cell_type": "code",
   "execution_count": null,
   "metadata": {},
   "outputs": [],
   "source": [
    "'A' < 'a'"
   ]
  },
  {
   "cell_type": "code",
   "execution_count": null,
   "metadata": {},
   "outputs": [],
   "source": [
    "ord('A')"
   ]
  },
  {
   "cell_type": "code",
   "execution_count": null,
   "metadata": {},
   "outputs": [],
   "source": [
    "ord('a')"
   ]
  },
  {
   "cell_type": "code",
   "execution_count": null,
   "metadata": {},
   "outputs": [],
   "source": [
    "help(\"\")"
   ]
  },
  {
   "cell_type": "code",
   "execution_count": null,
   "metadata": {},
   "outputs": [],
   "source": [
    "fruit.upper()"
   ]
  },
  {
   "cell_type": "code",
   "execution_count": null,
   "metadata": {},
   "outputs": [],
   "source": [
    "dir(\"\")"
   ]
  },
  {
   "cell_type": "code",
   "execution_count": null,
   "metadata": {},
   "outputs": [],
   "source": [
    "\"this is a sentense\".split()"
   ]
  },
  {
   "cell_type": "code",
   "execution_count": null,
   "metadata": {},
   "outputs": [],
   "source": [
    "\"this is a line\\n\".strip()"
   ]
  },
  {
   "cell_type": "code",
   "execution_count": null,
   "metadata": {},
   "outputs": [],
   "source": [
    "greet = 'Hello Bob'\n",
    "nstr = greet.replace('Bob','Jane')\n",
    "print (nstr)"
   ]
  },
  {
   "cell_type": "code",
   "execution_count": null,
   "metadata": {},
   "outputs": [],
   "source": [
    "greet"
   ]
  },
  {
   "cell_type": "code",
   "execution_count": null,
   "metadata": {},
   "outputs": [],
   "source": [
    "\" \".join(\"this is a sentence\".split())"
   ]
  },
  {
   "cell_type": "code",
   "execution_count": null,
   "metadata": {},
   "outputs": [],
   "source": [
    "line = 'Please have a nice day'\n",
    "line.startswith('Please')"
   ]
  },
  {
   "cell_type": "code",
   "execution_count": null,
   "metadata": {},
   "outputs": [],
   "source": [
    "line.startswith('have')"
   ]
  },
  {
   "cell_type": "code",
   "execution_count": null,
   "metadata": {},
   "outputs": [],
   "source": [
    "line.lower().startswith('please')"
   ]
  },
  {
   "cell_type": "code",
   "execution_count": null,
   "metadata": {},
   "outputs": [],
   "source": [
    "fhandle = open(\"mbox.txt\")\n",
    "count = 0\n",
    "for line in fhandle:\n",
    "    count = count + 1\n",
    "print(count)"
   ]
  },
  {
   "cell_type": "code",
   "execution_count": null,
   "metadata": {},
   "outputs": [],
   "source": [
    "fhandle"
   ]
  },
  {
   "cell_type": "code",
   "execution_count": null,
   "metadata": {},
   "outputs": [],
   "source": [
    "fhandle.read()"
   ]
  },
  {
   "cell_type": "code",
   "execution_count": null,
   "metadata": {},
   "outputs": [],
   "source": [
    "len(\"X\\nY\")"
   ]
  },
  {
   "cell_type": "code",
   "execution_count": null,
   "metadata": {},
   "outputs": [],
   "source": [
    "fname = input('Enter the file name:  ')\n",
    "try:\n",
    "  fhand = open(fname)\n",
    "except:\n",
    "  print ('File cannot be opened:', fname)\n",
    "  exit()\n",
    "\n",
    "count = 0\n",
    "for line in fhand:\n",
    "  if line.startswith('Subject:') :\n",
    "      count = count + 1\n",
    "print ('There were', count, 'subject lines in', fname)"
   ]
  },
  {
   "cell_type": "code",
   "execution_count": null,
   "metadata": {},
   "outputs": [],
   "source": [
    "help(\"\")"
   ]
  },
  {
   "cell_type": "code",
   "execution_count": null,
   "metadata": {},
   "outputs": [],
   "source": [
    "fruit"
   ]
  },
  {
   "cell_type": "code",
   "execution_count": null,
   "metadata": {},
   "outputs": [],
   "source": [
    "fruit[0] = 'a'"
   ]
  },
  {
   "cell_type": "code",
   "execution_count": null,
   "metadata": {},
   "outputs": [],
   "source": [
    "x"
   ]
  },
  {
   "cell_type": "code",
   "execution_count": null,
   "metadata": {},
   "outputs": [],
   "source": [
    "x = [1,2,3]"
   ]
  },
  {
   "cell_type": "code",
   "execution_count": null,
   "metadata": {},
   "outputs": [],
   "source": [
    "x[0]"
   ]
  },
  {
   "cell_type": "code",
   "execution_count": null,
   "metadata": {},
   "outputs": [],
   "source": [
    "x[0] = 4"
   ]
  },
  {
   "cell_type": "code",
   "execution_count": null,
   "metadata": {},
   "outputs": [],
   "source": [
    "x"
   ]
  },
  {
   "cell_type": "code",
   "execution_count": null,
   "metadata": {},
   "outputs": [],
   "source": [
    "fruit = 'Apple'"
   ]
  },
  {
   "cell_type": "code",
   "execution_count": null,
   "metadata": {},
   "outputs": [],
   "source": [
    "fruit[0] = '3'\n"
   ]
  },
  {
   "cell_type": "code",
   "execution_count": null,
   "metadata": {},
   "outputs": [],
   "source": [
    "friends = [ 'Joseph', 'Glenn', 'Sally' ]\n",
    "\n",
    "carryon = [ 'socks', 'shirt', 'perfume' ]\n"
   ]
  },
  {
   "cell_type": "code",
   "execution_count": null,
   "metadata": {},
   "outputs": [],
   "source": [
    "print([1, 24, 76])\n",
    "print (['red', 'yellow', 'blue'])\n",
    "print (['red', 24, 98.6])\n",
    "print([ 1, [5, 6], 7])\n",
    "print([])"
   ]
  },
  {
   "cell_type": "code",
   "execution_count": null,
   "metadata": {},
   "outputs": [],
   "source": [
    "#We already use lists!\n",
    "for i in [5, 4, 3, 2, 1] :\n",
    "    print (i)\n",
    "print ('Blastoff!')\n"
   ]
  },
  {
   "cell_type": "markdown",
   "metadata": {},
   "source": [
    "# Lists and definite loops - best pals"
   ]
  },
  {
   "cell_type": "code",
   "execution_count": null,
   "metadata": {},
   "outputs": [],
   "source": [
    "friends = ['Joseph', 'Glenn', 'Sally']\n",
    "for friend in friends :\n",
    "    print ('Happy New Year:',  friend)\n",
    "print ('Done!')\n"
   ]
  },
  {
   "cell_type": "code",
   "execution_count": null,
   "metadata": {},
   "outputs": [],
   "source": [
    "# Looking Inside Lists\n",
    "friends = [ 'Joseph', 'Glenn', 'Sally' ]\n",
    "print (friends[1])"
   ]
  },
  {
   "cell_type": "code",
   "execution_count": null,
   "metadata": {
    "scrolled": true
   },
   "outputs": [],
   "source": [
    "# Lists are Mutable\n",
    "fruit = 'Banana'\n",
    "fruit[0] = 'b'\n"
   ]
  },
  {
   "cell_type": "code",
   "execution_count": null,
   "metadata": {},
   "outputs": [],
   "source": [
    "x = fruit.lower()\n",
    "print (x)\n",
    "lotto = [2, 14, 26, 41, 63]\n",
    "print (lotto)\n",
    "lotto[2] = 28\n",
    "print (lotto)\n"
   ]
  },
  {
   "cell_type": "code",
   "execution_count": null,
   "metadata": {},
   "outputs": [],
   "source": [
    "# How Long is a List?\n",
    "\n",
    "greet = 'Hello Bob'\n",
    "print (len(greet))\n",
    "x = [ 1, 2, 'joe', 99]\n",
    "print (len(x))\n",
    "\n"
   ]
  },
  {
   "cell_type": "code",
   "execution_count": null,
   "metadata": {},
   "outputs": [],
   "source": [
    "# Using the range function\n",
    "\n",
    "print (range(4))\n",
    "friends = ['Joseph', 'Glenn', 'Sally']\n",
    "print (len(friends))\n",
    "print (range(len(friends)))\n",
    "\n"
   ]
  },
  {
   "cell_type": "code",
   "execution_count": null,
   "metadata": {},
   "outputs": [],
   "source": [
    "# Is Something in a List?\n",
    "\n",
    "some = [1, 9, 21, 10, 16]\n",
    "9 in some\n"
   ]
  },
  {
   "cell_type": "code",
   "execution_count": null,
   "metadata": {},
   "outputs": [],
   "source": [
    "15 in some\n",
    "20 not in some\n"
   ]
  },
  {
   "cell_type": "code",
   "execution_count": null,
   "metadata": {},
   "outputs": [],
   "source": [
    "#A tale of two loops...\n",
    "\n",
    "friends = ['Joseph', 'Glenn', 'Sally']\n",
    "\n",
    "for friend in friends :\n",
    "    print ('Happy New Year:',  friend)\n",
    "\n",
    "for i in range(len(friends)) :\n",
    "    friend = friends[i]\n",
    "    print ('Happy New Year:',  friend)\n",
    "\n",
    "    "
   ]
  },
  {
   "cell_type": "code",
   "execution_count": null,
   "metadata": {},
   "outputs": [],
   "source": [
    "# Concatenating lists using +\n",
    "\n",
    "a = [1, 2, 3]\n",
    "b = [4, 5, 6]\n",
    "c = a + b\n",
    "print (c)\n",
    "print (a)\n",
    "print(b)"
   ]
  },
  {
   "cell_type": "code",
   "execution_count": null,
   "metadata": {},
   "outputs": [],
   "source": [
    "# Lists can be sliced using :\n",
    "\n",
    "t = [9, 41, 12, 3, 74, 15]\n",
    "print(t[1:3])\n",
    "print(t[:4])\n",
    "print(t[3:])\n",
    "print(t[:])\n"
   ]
  },
  {
   "cell_type": "code",
   "execution_count": null,
   "metadata": {},
   "outputs": [],
   "source": [
    "r = range(0,4)\n"
   ]
  },
  {
   "cell_type": "code",
   "execution_count": null,
   "metadata": {},
   "outputs": [],
   "source": [
    "# List Methods\n",
    "\n",
    "x = list()\n",
    "type(x)\n",
    "help(x)"
   ]
  },
  {
   "cell_type": "code",
   "execution_count": null,
   "metadata": {},
   "outputs": [],
   "source": [
    "# Building a List from Scratch\n",
    "\n",
    "stuff = list()\n",
    "stuff.append('book')\n",
    "stuff.append(99)\n",
    "print (stuff)\n",
    "stuff.append('cookie')\n",
    "print (stuff)\n"
   ]
  },
  {
   "cell_type": "code",
   "execution_count": null,
   "metadata": {},
   "outputs": [],
   "source": [
    "# A List is an Ordered Sequence\n"
   ]
  },
  {
   "cell_type": "code",
   "execution_count": null,
   "metadata": {},
   "outputs": [],
   "source": [
    "# A List is an Ordered Sequence\n",
    "\n",
    "friends = [ 'Joseph', 'Glenn', 'Sally' ]\n",
    "friends.sort()\n",
    "print (friends)\n",
    "print (friends[1])\n",
    "\n"
   ]
  },
  {
   "cell_type": "code",
   "execution_count": 60,
   "metadata": {},
   "outputs": [
    {
     "name": "stdout",
     "output_type": "stream",
     "text": [
      "6\n",
      "74\n",
      "3\n"
     ]
    },
    {
     "ename": "TypeError",
     "evalue": "<lambda>() missing 1 required positional argument: 'y'",
     "output_type": "error",
     "traceback": [
      "\u001b[1;31m---------------------------------------------------------------------------\u001b[0m",
      "\u001b[1;31mTypeError\u001b[0m                                 Traceback (most recent call last)",
      "\u001b[1;32m<ipython-input-60-c7c1b962bd99>\u001b[0m in \u001b[0;36m<module>\u001b[1;34m()\u001b[0m\n\u001b[0;32m      4\u001b[0m \u001b[0mprint\u001b[0m \u001b[1;33m(\u001b[0m\u001b[0mmax\u001b[0m\u001b[1;33m(\u001b[0m\u001b[0mnums\u001b[0m\u001b[1;33m)\u001b[0m\u001b[1;33m)\u001b[0m\u001b[1;33m\u001b[0m\u001b[0m\n\u001b[0;32m      5\u001b[0m \u001b[0mprint\u001b[0m \u001b[1;33m(\u001b[0m\u001b[0mmin\u001b[0m\u001b[1;33m(\u001b[0m\u001b[0mnums\u001b[0m\u001b[1;33m)\u001b[0m\u001b[1;33m)\u001b[0m\u001b[1;33m\u001b[0m\u001b[0m\n\u001b[1;32m----> 6\u001b[1;33m \u001b[0mprint\u001b[0m \u001b[1;33m(\u001b[0m\u001b[0msum\u001b[0m\u001b[1;33m(\u001b[0m\u001b[0mnums\u001b[0m\u001b[1;33m)\u001b[0m\u001b[1;33m)\u001b[0m\u001b[1;33m\u001b[0m\u001b[0m\n\u001b[0m\u001b[0;32m      7\u001b[0m \u001b[0mprint\u001b[0m \u001b[1;33m(\u001b[0m\u001b[0msum\u001b[0m\u001b[1;33m(\u001b[0m\u001b[0mnums\u001b[0m\u001b[1;33m)\u001b[0m\u001b[1;33m/\u001b[0m\u001b[0mlen\u001b[0m\u001b[1;33m(\u001b[0m\u001b[0mnums\u001b[0m\u001b[1;33m)\u001b[0m\u001b[1;33m)\u001b[0m\u001b[1;33m\u001b[0m\u001b[0m\n",
      "\u001b[1;31mTypeError\u001b[0m: <lambda>() missing 1 required positional argument: 'y'"
     ]
    }
   ],
   "source": [
    "# Built-in Functions and Lists\n",
    "nums = [3, 41, 12, 9, 74, 15]\n",
    "print (len(nums))\n",
    "print (max(nums))\n",
    "print (min(nums))\n",
    "print (sum(nums))\n",
    "print (sum(nums)/len(nums))\n"
   ]
  },
  {
   "cell_type": "code",
   "execution_count": 61,
   "metadata": {},
   "outputs": [
    {
     "name": "stdout",
     "output_type": "stream",
     "text": [
      "Enter a number: 5\n",
      "Enter a number: 6\n",
      "Enter a number: 6\n",
      "Enter a number: 1\n",
      "Enter a number: 2\n",
      "Enter a number: 45\n",
      "Enter a number: 65\n",
      "Enter a number: 546\n",
      "Enter a number: done\n",
      "Average: 84.5\n"
     ]
    }
   ],
   "source": [
    "#Computing Average - 1\n",
    "total = 0\n",
    "count = 0\n",
    "while True :\n",
    "    inp = input('Enter a number: ')\n",
    "    if inp == 'done' : break\n",
    "    value = float(inp)\n",
    "    total = total + value     \n",
    "    count = count + 1\n",
    "\n",
    "average = total / count\n",
    "print ('Average:', average)\n"
   ]
  },
  {
   "cell_type": "code",
   "execution_count": 62,
   "metadata": {},
   "outputs": [
    {
     "name": "stdout",
     "output_type": "stream",
     "text": [
      "Enter a number: 8\n",
      "Enter a number: 95\n",
      "Enter a number: 6\n",
      "Enter a number: 32\n",
      "Enter a number: 48\n",
      "Enter a number: done\n"
     ]
    },
    {
     "ename": "TypeError",
     "evalue": "<lambda>() missing 1 required positional argument: 'y'",
     "output_type": "error",
     "traceback": [
      "\u001b[1;31m---------------------------------------------------------------------------\u001b[0m",
      "\u001b[1;31mTypeError\u001b[0m                                 Traceback (most recent call last)",
      "\u001b[1;32m<ipython-input-62-c5f80701e7fa>\u001b[0m in \u001b[0;36m<module>\u001b[1;34m()\u001b[0m\n\u001b[0;32m      7\u001b[0m     \u001b[0mnumlist\u001b[0m\u001b[1;33m.\u001b[0m\u001b[0mappend\u001b[0m\u001b[1;33m(\u001b[0m\u001b[0mvalue\u001b[0m\u001b[1;33m)\u001b[0m\u001b[1;33m\u001b[0m\u001b[0m\n\u001b[0;32m      8\u001b[0m \u001b[1;33m\u001b[0m\u001b[0m\n\u001b[1;32m----> 9\u001b[1;33m \u001b[0maverage\u001b[0m \u001b[1;33m=\u001b[0m \u001b[0msum\u001b[0m\u001b[1;33m(\u001b[0m\u001b[0mnumlist\u001b[0m\u001b[1;33m)\u001b[0m \u001b[1;33m/\u001b[0m \u001b[0mlen\u001b[0m\u001b[1;33m(\u001b[0m\u001b[0mnumlist\u001b[0m\u001b[1;33m)\u001b[0m\u001b[1;33m\u001b[0m\u001b[0m\n\u001b[0m\u001b[0;32m     10\u001b[0m \u001b[0mprint\u001b[0m \u001b[1;33m(\u001b[0m\u001b[1;34m'Average:'\u001b[0m\u001b[1;33m,\u001b[0m \u001b[0maverage\u001b[0m\u001b[1;33m)\u001b[0m\u001b[1;33m\u001b[0m\u001b[0m\n",
      "\u001b[1;31mTypeError\u001b[0m: <lambda>() missing 1 required positional argument: 'y'"
     ]
    }
   ],
   "source": [
    "#Computing Average - 2\n",
    "numlist = list()\n",
    "while True :\n",
    "    inp = input('Enter a number: ')\n",
    "    if inp == 'done' : break\n",
    "    value = float(inp)\n",
    "    numlist.append(value)\n",
    "\n",
    "average = sum(numlist) / len(numlist)\n",
    "print ('Average:', average)\n"
   ]
  },
  {
   "cell_type": "code",
   "execution_count": 63,
   "metadata": {
    "scrolled": true
   },
   "outputs": [
    {
     "name": "stdout",
     "output_type": "stream",
     "text": [
      "['With', 'three', 'words']\n",
      "3\n",
      "With\n",
      "Help on built-in function append:\n",
      "\n",
      "append(...) method of builtins.list instance\n",
      "    L.append(object) -> None -- append object to end\n",
      "\n"
     ]
    }
   ],
   "source": [
    "# Best Friends: Strings and Lists\n",
    "\n",
    "abc = 'With three words'\n",
    "stuff = abc.split()\n",
    "print (stuff)\n",
    "print (len(stuff))\n",
    "print (stuff[0])\n",
    "help([].append)"
   ]
  },
  {
   "cell_type": "code",
   "execution_count": 64,
   "metadata": {},
   "outputs": [
    {
     "name": "stdout",
     "output_type": "stream",
     "text": [
      "With\n",
      "three\n",
      "words\n"
     ]
    }
   ],
   "source": [
    "for w in stuff :\n",
    "     print (w)"
   ]
  },
  {
   "cell_type": "code",
   "execution_count": 65,
   "metadata": {},
   "outputs": [
    {
     "name": "stdout",
     "output_type": "stream",
     "text": [
      "['A', 'lot', 'of', 'spaces']\n",
      "['first;second;third']\n",
      "1\n",
      "['first', 'second', 'third']\n",
      "3\n"
     ]
    }
   ],
   "source": [
    "#Split\n",
    "\n",
    "line = 'A lot               of spaces'\n",
    "etc = line.split()\n",
    "print (etc)\n",
    "\n",
    "line = 'first;second;third'\n",
    "thing = line.split()\n",
    "print (thing)\n",
    "print (len(thing))\n",
    "thing = line.split(';')\n",
    "print (thing)\n",
    "print (len(thing))\n",
    "\n"
   ]
  },
  {
   "cell_type": "code",
   "execution_count": 66,
   "metadata": {},
   "outputs": [
    {
     "name": "stdout",
     "output_type": "stream",
     "text": [
      "Sat\n",
      "Fri\n",
      "Fri\n",
      "Fri\n",
      "Fri\n",
      "Fri\n",
      "Fri\n",
      "Fri\n",
      "Fri\n",
      "Fri\n",
      "Fri\n",
      "Fri\n",
      "Fri\n",
      "Fri\n",
      "Fri\n",
      "Fri\n",
      "Fri\n",
      "Fri\n",
      "Fri\n",
      "Fri\n",
      "Fri\n",
      "Thu\n",
      "Thu\n",
      "Thu\n",
      "Thu\n",
      "Thu\n",
      "Thu\n"
     ]
    }
   ],
   "source": [
    " fhand = open('mbox-short.txt')\n",
    " for line in fhand:\n",
    "     line = line.rstrip()\n",
    "     if not line.startswith('From ') : continue\n",
    "     words = line.split()\n",
    "     print (words[2])\n"
   ]
  },
  {
   "cell_type": "code",
   "execution_count": 68,
   "metadata": {},
   "outputs": [
    {
     "name": "stdout",
     "output_type": "stream",
     "text": [
      "['From', 'stephen.marquard@uct.ac.za', 'Sat', 'Jan', '5', '09:14:16', '2008']\n",
      "stephen.marquard@uct.ac.za\n",
      "['stephen.marquard', 'uct.ac.za']\n",
      "uct.ac.za\n"
     ]
    }
   ],
   "source": [
    "# The Double Split Pattern\n",
    "## Sometimes we split a line one way, and then grab one of the pieces of the line and split that piece again\n",
    "line = 'From stephen.marquard@uct.ac.za Sat Jan  5 09:14:16 2008'\n",
    "words = line.split()\n",
    "print (words)\n",
    "\n",
    "# stephen.marquard@uct.ac.za\n",
    "email = words[1]\n",
    "print (email)\n",
    "\n",
    "#['stephen.marquard', 'uct.ac.za']\n",
    "pieces = email.split('@')\n",
    "print(pieces)\n",
    "\n",
    "#'uct.ac.za'\n",
    "print (pieces[1])\n"
   ]
  },
  {
   "cell_type": "markdown",
   "metadata": {},
   "source": [
    "# Dictionaries"
   ]
  },
  {
   "cell_type": "code",
   "execution_count": 4,
   "metadata": {},
   "outputs": [
    {
     "name": "stdout",
     "output_type": "stream",
     "text": [
      "{'money': 12, 'candy': 3, 'tissues': 75}\n",
      "3\n",
      "{'money': 12, 'candy': 5, 'tissues': 75}\n"
     ]
    }
   ],
   "source": [
    "purse = dict()\n",
    "purse['money'] = 12\n",
    "purse['candy'] = 3\n",
    "purse['tissues'] = 75\n",
    "print(purse)\n",
    "print(purse['candy'])\n",
    "purse['candy'] = purse['candy'] + 2\n",
    "print(purse)"
   ]
  },
  {
   "cell_type": "code",
   "execution_count": null,
   "metadata": {},
   "outputs": [],
   "source": []
  },
  {
   "cell_type": "markdown",
   "metadata": {},
   "source": [
    "## Comparing Lists and Dictionaries"
   ]
  },
  {
   "cell_type": "code",
   "execution_count": 5,
   "metadata": {},
   "outputs": [
    {
     "name": "stdout",
     "output_type": "stream",
     "text": [
      "[21, 183]\n",
      "[23, 183]\n"
     ]
    }
   ],
   "source": [
    "lst = list()\n",
    "lst.append(21)\n",
    "lst.append(183)\n",
    "print(lst)\n",
    "lst[0] = 23\n",
    "print(lst)\n"
   ]
  },
  {
   "cell_type": "code",
   "execution_count": 6,
   "metadata": {},
   "outputs": [
    {
     "name": "stdout",
     "output_type": "stream",
     "text": [
      "{'age': 21, 'course': 182}\n",
      "{'age': 23, 'course': 182}\n"
     ]
    }
   ],
   "source": [
    "ddd = dict()\n",
    "ddd['age'] = 21\n",
    "ddd['course'] = 182\n",
    "print(ddd)\n",
    "ddd['age'] = 23\n",
    "print(ddd)\n"
   ]
  },
  {
   "cell_type": "code",
   "execution_count": 7,
   "metadata": {},
   "outputs": [
    {
     "name": "stdout",
     "output_type": "stream",
     "text": [
      "{'chuck': 1, 'fred': 42, 'jan': 100}\n",
      "1\n",
      "{}\n",
      "dict_values([1, 42, 100])\n"
     ]
    }
   ],
   "source": [
    "## Dictionary Literals (Constants)\n",
    "\n",
    "jjj = { 'chuck' : 1 , 'fred' : 42, 'jan': 100}\n",
    "print(jjj)\n",
    "print(jjj['chuck'])\n",
    "\n",
    "ooo = { }\n",
    "print(ooo)\n",
    "\n",
    "print(jjj.values())"
   ]
  },
  {
   "cell_type": "code",
   "execution_count": 15,
   "metadata": {},
   "outputs": [
    {
     "name": "stdout",
     "output_type": "stream",
     "text": [
      "{'csev': 1, 'cwen': 1}\n",
      "{'csev': 1, 'cwen': 2}\n"
     ]
    }
   ],
   "source": [
    "## Many Counters with a Dictionary\n",
    "ccc = dict()\n",
    "ccc['csev'] = 1\n",
    "ccc['cwen'] = 1\n",
    "print(ccc)\n",
    "ccc['cwen'] = ccc['cwen'] + 1\n",
    "print(ccc)\n"
   ]
  },
  {
   "cell_type": "code",
   "execution_count": 16,
   "metadata": {},
   "outputs": [
    {
     "name": "stdout",
     "output_type": "stream",
     "text": [
      "{'csev': 2, 'cwen': 2, 'zqian': 1}\n"
     ]
    }
   ],
   "source": [
    "## When we see a new name\n",
    "\n",
    "counts = dict()\n",
    "names = ['csev', 'cwen', 'csev', 'zqian', 'cwen']\n",
    "for name in names :\n",
    "    if name not in counts: \n",
    "       counts[name] = 1\n",
    "    else :\n",
    "        counts[name] = counts[name] + 1\n",
    "print(counts)\n"
   ]
  },
  {
   "cell_type": "code",
   "execution_count": 17,
   "metadata": {},
   "outputs": [
    {
     "name": "stdout",
     "output_type": "stream",
     "text": [
      "{'csev': 2, 'cwen': 2, 'zqian': 1}\n"
     ]
    }
   ],
   "source": [
    "## Simplified counting with get()\n",
    "counts = dict()\n",
    "names = ['csev', 'cwen', 'csev', 'zqian', 'cwen']\n",
    "for name in names :\n",
    "    counts[name] = counts.get(name, 0) + 1\n",
    "print(counts)\n"
   ]
  },
  {
   "cell_type": "code",
   "execution_count": null,
   "metadata": {},
   "outputs": [],
   "source": [
    "counts = dict()\n",
    "line = input('Enter a line of text:')\n",
    "words = line.split()\n",
    "\n",
    "print('Words:', words)\n",
    "print('Counting...')\n",
    "\n",
    "for word in words:\n",
    "    counts[word] = counts.get(word,0) + 1\n",
    "print('Counts', counts)\n"
   ]
  },
  {
   "cell_type": "code",
   "execution_count": 18,
   "metadata": {},
   "outputs": [
    {
     "name": "stdout",
     "output_type": "stream",
     "text": [
      "chuck 1\n",
      "fred 42\n",
      "jan 100\n"
     ]
    }
   ],
   "source": [
    "## Definite Loops and Dictionaries\n",
    "\n",
    "counts = { 'chuck' : 1 , 'fred' : 42, 'jan': 100}\n",
    "for key in counts:\n",
    "    print(key, counts[key])"
   ]
  },
  {
   "cell_type": "code",
   "execution_count": 19,
   "metadata": {},
   "outputs": [
    {
     "name": "stdout",
     "output_type": "stream",
     "text": [
      "['chuck', 'fred', 'jan']\n",
      "dict_keys(['chuck', 'fred', 'jan'])\n",
      "dict_values([10, 42, 100])\n",
      "dict_items([('chuck', 10), ('fred', 42), ('jan', 100)])\n"
     ]
    }
   ],
   "source": [
    "## Retrieving lists of Keys and Values\n",
    "\n",
    "jjj = { 'chuck' : 1 , 'fred' : 42, 'jan': 100, 'chuck':10}\n",
    "print(list(jjj))\n",
    "print(jjj.keys())\n",
    "print(jjj.values())\n",
    "print(jjj.items())\n"
   ]
  },
  {
   "cell_type": "code",
   "execution_count": null,
   "metadata": {},
   "outputs": [],
   "source": [
    "l = [('chuck', 10), ('fred', 42), ('jan', 100)]\n",
    "print(dict(l))\n",
    "a = list((1,2))\n",
    "print(a)\n",
    "print(tuple([1,2]))"
   ]
  },
  {
   "cell_type": "code",
   "execution_count": null,
   "metadata": {},
   "outputs": [],
   "source": [
    "## Bonus: Two Iteration Variables!\n",
    "\n",
    "jjj = { 'chuck' : 1 , 'fred' : 42, 'jan': 100}\n",
    "for name,val in jjj.items():\n",
    "    print(name, val)\n"
   ]
  },
  {
   "cell_type": "code",
   "execution_count": null,
   "metadata": {},
   "outputs": [],
   "source": [
    "(1, 2, 3) > (3, 2)"
   ]
  },
  {
   "cell_type": "code",
   "execution_count": null,
   "metadata": {},
   "outputs": [],
   "source": [
    "## Revisit WordCount\n",
    "name = input('Enter file: ')\n",
    "handle = open(name)\n",
    "text = handle.read()\n",
    "words = text.split()\n",
    "\n",
    "counts = dict()\n",
    "for word in words:\n",
    "   counts[word] = counts.get(word,0) + 1\n",
    "\n",
    "bigcount = None\n",
    "bigword = None\n",
    "for word,count in counts.items():\n",
    "    if bigcount is None or count > bigcount:\n",
    "        bigword = word\n",
    "        bigcount = count\n",
    "print(bigword, bigcount)"
   ]
  },
  {
   "cell_type": "code",
   "execution_count": null,
   "metadata": {},
   "outputs": [],
   "source": [
    "x = print()\n",
    "print(x)\n",
    "y = \"\"\n",
    "print(x == y)\n",
    "print(type(x))\n",
    "print(type(y))"
   ]
  },
  {
   "cell_type": "code",
   "execution_count": null,
   "metadata": {},
   "outputs": [],
   "source": [
    "mybag = {}\n",
    "mybag['nbooks'] = 1\n",
    "mybag['pen'] = 5\n",
    "mybag['laptop'] = True\n",
    "mybag['nbooks']\n",
    "if 'laptop' in mybag: print(\"Bingo\")\n",
    "else: \n",
    "    print(\"Sorry\")"
   ]
  },
  {
   "cell_type": "markdown",
   "metadata": {
    "collapsed": true
   },
   "source": [
    "# Tuples"
   ]
  },
  {
   "cell_type": "code",
   "execution_count": null,
   "metadata": {},
   "outputs": [],
   "source": [
    "# Tuples are like lists\n",
    "\n",
    "x = ('Glenn', 'Sally', 'Joseph')\n",
    "print(x[2])\n",
    "y = ( 1, 9, 2 )\n",
    "print(y)\n",
    "print(max(y))\n",
    "print(len(y))"
   ]
  },
  {
   "cell_type": "code",
   "execution_count": null,
   "metadata": {},
   "outputs": [],
   "source": [
    "x = (1,)\n",
    "x\n",
    "y = [1,2,3,]\n",
    "y\n"
   ]
  },
  {
   "cell_type": "code",
   "execution_count": null,
   "metadata": {},
   "outputs": [],
   "source": [
    "for iter in y:\n",
    "    print(iter)"
   ]
  },
  {
   "cell_type": "markdown",
   "metadata": {},
   "source": [
    "## but... Tuples are “immutable”"
   ]
  },
  {
   "cell_type": "code",
   "execution_count": null,
   "metadata": {},
   "outputs": [],
   "source": [
    "# Arrays are mutable\n",
    "x = [9, 8, 7]\n",
    "x[2] = 6\n",
    "print(x)"
   ]
  },
  {
   "cell_type": "code",
   "execution_count": null,
   "metadata": {},
   "outputs": [],
   "source": [
    "# You can't change a tuple\n",
    "y = 'ABC'\n",
    "y[2] = 'D'"
   ]
  },
  {
   "cell_type": "code",
   "execution_count": null,
   "metadata": {},
   "outputs": [],
   "source": [
    "z = (5, 4, 3)\n",
    "#z[2] = 0\n",
    "\n",
    "def swap(l):\n",
    "    if l[0] > l[1]:\n",
    "        tmp = l[0]\n",
    "        l[0] = l[1]\n",
    "        l[1] = tmp\n",
    "\n",
    "a = [2, 1]\n",
    "swap(a)\n",
    "print(a)"
   ]
  },
  {
   "cell_type": "code",
   "execution_count": null,
   "metadata": {},
   "outputs": [],
   "source": [
    "# Tuple of 1 element is same as atom or primitive\n",
    "# It is safe to pass tuple not list to a function\n",
    "# A table is generally thought of list of tuples\n",
    "# Every record is considered like a tuple\n",
    "# Tuple is something that can fit into memory at any point\n",
    "# Tuples are light weight as compared with a list\n",
    "def myf():\n",
    "    return (1,2,3)\n",
    "\n",
    "(x, y, z) = myf()\n",
    "[x, y, z] = (1,2,3)\n",
    "print(x)\n",
    "print(y)\n",
    "print(z)\n",
    "\n",
    "# Table (RDBMS) <> Dataframe (R, pandas/python) <> Spreadsheet (not data structures of python)\n",
    "# array == list\n"
   ]
  },
  {
   "cell_type": "code",
   "execution_count": null,
   "metadata": {},
   "outputs": [],
   "source": [
    "# Things not to do with tuples\n",
    "x = (3, 2, 1)\n",
    "x.sort()\n",
    "x.append(5)\n",
    "x.reverse()"
   ]
  },
  {
   "cell_type": "code",
   "execution_count": null,
   "metadata": {},
   "outputs": [],
   "source": [
    "# A Tale of  Two Sequences\n",
    "\n",
    "l = list()\n",
    "dir(l)\n"
   ]
  },
  {
   "cell_type": "code",
   "execution_count": null,
   "metadata": {},
   "outputs": [],
   "source": [
    "t = tuple()\n",
    "dir(t)"
   ]
  },
  {
   "cell_type": "code",
   "execution_count": null,
   "metadata": {},
   "outputs": [],
   "source": [
    "# Tuples and Assignment\n",
    "(x, y) = (4, 'fred')\n",
    "print(y)\n",
    "print(x)\n",
    "\n",
    "(a, b) = (99, 98)\n",
    "print(a)\n"
   ]
  },
  {
   "cell_type": "code",
   "execution_count": null,
   "metadata": {},
   "outputs": [],
   "source": [
    "def order(x, y):\n",
    "    if x> y:\n",
    "        return (x, y)\n",
    "    return (y, x)\n",
    "\n",
    "(a, b) = order(1, 2)\n",
    "(x, y) = order(4, 5)\n",
    "print(a, b, x, y)"
   ]
  },
  {
   "cell_type": "code",
   "execution_count": null,
   "metadata": {},
   "outputs": [],
   "source": [
    "d = dict()\n",
    "d['csev'] = 2\n",
    "d['cwen'] = 4\n",
    "for (k,v) in d.items(): \n",
    "    print(k, v)"
   ]
  },
  {
   "cell_type": "code",
   "execution_count": null,
   "metadata": {},
   "outputs": [],
   "source": [
    "tups = d.items()\n",
    "print(tups)"
   ]
  },
  {
   "cell_type": "code",
   "execution_count": null,
   "metadata": {},
   "outputs": [],
   "source": [
    "## Tuples are Comparable\n",
    "print((0, 1, 2, 4, 5, 5) < (1, 0))\n",
    "print((0, 1) < (0, 1, 2))\n"
   ]
  },
  {
   "cell_type": "code",
   "execution_count": null,
   "metadata": {},
   "outputs": [],
   "source": [
    "(0, 1, 2000000) < (0, 3, 4)"
   ]
  },
  {
   "cell_type": "code",
   "execution_count": null,
   "metadata": {},
   "outputs": [],
   "source": [
    "( 'Jones', 'Sally' ) < ('Jones', 'Sam')"
   ]
  },
  {
   "cell_type": "code",
   "execution_count": null,
   "metadata": {},
   "outputs": [],
   "source": [
    "( 'Jones', 'Sally') > ('Adams', 'Sam')"
   ]
  },
  {
   "cell_type": "code",
   "execution_count": null,
   "metadata": {},
   "outputs": [],
   "source": [
    "# Sorting Lists of Tuples\n",
    "d = {'a':10, 'b':1, 'c':22}\n",
    "t = d.items()\n",
    "t"
   ]
  },
  {
   "cell_type": "code",
   "execution_count": null,
   "metadata": {
    "scrolled": true
   },
   "outputs": [],
   "source": [
    "## Using sorted()\n",
    "\n",
    "for k, v in sorted(d.items()):\n",
    "   print(k, v)"
   ]
  },
  {
   "cell_type": "code",
   "execution_count": null,
   "metadata": {},
   "outputs": [],
   "source": [
    "## Sort by values instead of key\n",
    "\n",
    "c = {'a':10, 'b':1, 'c':22}\n",
    "tmp = list()\n",
    "for k, v in c.items() :\n",
    "    tmp.append( (v, k) )\n",
    "\n",
    "print(tmp)\n",
    "tmp.sort(reverse=True)\n",
    "print(tmp)\n"
   ]
  },
  {
   "cell_type": "code",
   "execution_count": null,
   "metadata": {},
   "outputs": [],
   "source": [
    "# Word Count\n",
    "# The top 10 most common words\n",
    "\n",
    "fhand = open('mbox.txt')\n",
    "counts = dict()\n",
    "for line in fhand:\n",
    "    words = line.split()\n",
    "    for word in words:\n",
    "        counts[word] = counts.get(word, 0 ) + 1\n",
    "\n",
    "lst = list()\n",
    "for key, val in counts.items():\n",
    "    lst.append( (val, key) )\n",
    "\n",
    "lst.sort(reverse=True)\n",
    "\n",
    "for val, key in lst[:10] :\n",
    "    print(key, val)\n"
   ]
  },
  {
   "cell_type": "code",
   "execution_count": null,
   "metadata": {},
   "outputs": [],
   "source": [
    "## Even Shorter Version\n",
    "\n",
    "c = {'a':10, 'b':1, 'c':22}\n",
    "print(sorted( [ (v,k) for k,v in c.items() ]))"
   ]
  },
  {
   "cell_type": "code",
   "execution_count": null,
   "metadata": {},
   "outputs": [],
   "source": [
    "a = [1,2,3,4,5]\n",
    "ret = []\n",
    "for e in a:\n",
    "    ret.append(e*2)\n",
    "print(ret)"
   ]
  },
  {
   "cell_type": "code",
   "execution_count": null,
   "metadata": {},
   "outputs": [],
   "source": [
    "ret = [e*2 for e in a]\n",
    "print(ret)"
   ]
  },
  {
   "cell_type": "markdown",
   "metadata": {},
   "source": [
    "## From Here onwards. We are moving to another notebook Session_Nov_19_2017.ipynb"
   ]
  },
  {
   "cell_type": "code",
   "execution_count": 1,
   "metadata": {},
   "outputs": [],
   "source": [
    "def special_func(num):\n",
    "    total = 0 \n",
    "    if num>0 and type(num) == int:\n",
    "        for i in range(1,num+1):\n",
    "            if num%i == 0 and i%2 != 0:\n",
    "                total = total + i\n",
    "            else:\n",
    "                continue\n",
    "        print(total)\n",
    "    else:\n",
    "        print(\"Not a valid input\")"
   ]
  },
  {
   "cell_type": "code",
   "execution_count": 3,
   "metadata": {},
   "outputs": [
    {
     "name": "stdout",
     "output_type": "stream",
     "text": [
      "24\n"
     ]
    }
   ],
   "source": [
    "special_func(15)"
   ]
  },
  {
   "cell_type": "code",
   "execution_count": 4,
   "metadata": {},
   "outputs": [],
   "source": [
    "def file_read_func(path):\n",
    "    try:\n",
    "        f = open(path)\n",
    "        lin_lst = f.readlines()\n",
    "        count = 0\n",
    "        for line in lin_lst:\n",
    "            wrd_lst = line.split()\n",
    "            for word in wrd_lst:\n",
    "                x = len(word)\n",
    "                count = x + count\n",
    "        return count\n",
    "    except:\n",
    "        return -1"
   ]
  },
  {
   "cell_type": "code",
   "execution_count": 5,
   "metadata": {},
   "outputs": [
    {
     "data": {
      "text/plain": [
       "6027701"
      ]
     },
     "execution_count": 5,
     "metadata": {},
     "output_type": "execute_result"
    }
   ],
   "source": [
    "file_read_func('mbox.txt')"
   ]
  },
  {
   "cell_type": "code",
   "execution_count": 6,
   "metadata": {},
   "outputs": [
    {
     "name": "stdout",
     "output_type": "stream",
     "text": [
      "442.8\n"
     ]
    }
   ],
   "source": [
    "L = 3.14*(15+30)+(2*150)+(((30-15)**2)/150)\n",
    "print(L)"
   ]
  },
  {
   "cell_type": "code",
   "execution_count": 7,
   "metadata": {},
   "outputs": [
    {
     "data": {
      "text/plain": [
       "43.869"
      ]
     },
     "execution_count": 7,
     "metadata": {},
     "output_type": "execute_result"
    }
   ],
   "source": [
    "0.25*4.178*(57-15)"
   ]
  },
  {
   "cell_type": "code",
   "execution_count": 9,
   "metadata": {},
   "outputs": [],
   "source": [
    "import math as m"
   ]
  },
  {
   "cell_type": "code",
   "execution_count": 11,
   "metadata": {},
   "outputs": [
    {
     "name": "stdout",
     "output_type": "stream",
     "text": [
      "54.95993924970347\n"
     ]
    }
   ],
   "source": [
    "a = (85-33)/(m.log(85/33))\n",
    "print (a)"
   ]
  },
  {
   "cell_type": "code",
   "execution_count": 13,
   "metadata": {},
   "outputs": [
    {
     "name": "stdout",
     "output_type": "stream",
     "text": [
      "0.8473456180998011\n"
     ]
    }
   ],
   "source": [
    "h = 43.869/((2*3.14*0.025*6)*(a))\n",
    "print(h)"
   ]
  },
  {
   "cell_type": "code",
   "execution_count": null,
   "metadata": {},
   "outputs": [],
   "source": []
  }
 ],
 "metadata": {
  "kernelspec": {
   "display_name": "Python 3",
   "language": "python",
   "name": "python3"
  },
  "language_info": {
   "codemirror_mode": {
    "name": "ipython",
    "version": 3
   },
   "file_extension": ".py",
   "mimetype": "text/x-python",
   "name": "python",
   "nbconvert_exporter": "python",
   "pygments_lexer": "ipython3",
   "version": "3.6.5"
  }
 },
 "nbformat": 4,
 "nbformat_minor": 2
}
